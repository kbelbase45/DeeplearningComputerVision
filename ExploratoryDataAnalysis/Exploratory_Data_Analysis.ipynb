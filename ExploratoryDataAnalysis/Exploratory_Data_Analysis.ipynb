{
 "cells": [
  {
   "attachments": {},
   "cell_type": "markdown",
   "id": "013b80c2",
   "metadata": {},
   "source": [
    "# <center>Exploratory Data Analysis \n",
    "    \n",
    "<font size='3'>After reading the data with pandas, the following methods are used repeatedly.</font><br>\n",
    "    \n",
    "    df.head()                          to see few line of data\n",
    "    df.describe()                      to see basic statistics of data\n",
    "    df.info()                          to get basic information about data type of different class\n",
    "    df.isnull().sum()                  to see if there are any missing values in any columns\n",
    "    df.columns                         to see different columns in data in form of a list\n",
    "    df[column_name].value_counts()     to see the total number of different item in the specified column\n",
    "    df[column_name].unique             to see different item in column_name    \n",
    "    pd.get_dummies(df[column_name])    to convert categorical class of column_name into a dummy vector \n",
    "    \n",
    "    sorted(dict.items(),key=lambda x:x[1], reverse=True) to a sort dictionary (dict) by value in descending order\n",
    "    sorted(dict.items(),key=lambda x:x[0], reverse=True) to a sort dictionary (dict) by key in descending order\n",
    "    \n",
    "    pd.concat([df1,df2],axis=1,join='inner')  To join two dataframe df1 and df2 columnwise.\n",
    "    df.drop(['column_name'],axis=1,inplace=True) To drop the column_name from the dataframe df. "
   ]
  },
  {
   "cell_type": "markdown",
   "id": "72fc2dc2",
   "metadata": {},
   "source": [
    "# Step 1: Import the necessary modules <br>\n",
    "\n",
    "<font size='3'>\n",
    "    Before we start building a machine learning model or analyzing data, we first need to import the necessary libraries or modules. In this process, we can import <br>\n",
    "    \n",
    "    pandas, \n",
    "    numpy, \n",
    "    matplotlib, \n",
    "    seaborn \n",
    "       "
   ]
  },
  {
   "cell_type": "code",
   "execution_count": 184,
   "id": "c4012274",
   "metadata": {},
   "outputs": [],
   "source": [
    "import pandas as pd\n",
    "import numpy  as np\n",
    "import seaborn as sns\n",
    "import matplotlib.pyplot as plt\n",
    "%matplotlib inline"
   ]
  },
  {
   "cell_type": "markdown",
   "id": "9dfae0d5",
   "metadata": {},
   "source": [
    "<font size='3'> In the next cell we load the data and in doing so two assumptions are made.:<br>\n",
    "    \n",
    "    1) Using read_csv assumes that the values in the data file are comma separated.\n",
    "    2) The data file is in the same working directory because only the file name is specified here.\n",
    "    \n",
    "    After loading the data, two built-in methods '.shape' and '.head()' are used. The '.shape' specifies the shape (rows x columns) of the data as a tuple from which rows and columns are extracted. And the .head() method is used to display a few lines of data input.\n",
    "    "
   ]
  },
  {
   "cell_type": "markdown",
   "id": "e5db7d37",
   "metadata": {},
   "source": [
    "# Step2:  Load data and explore   "
   ]
  },
  {
   "cell_type": "code",
   "execution_count": 461,
   "id": "907ee69e",
   "metadata": {},
   "outputs": [
    {
     "name": "stdout",
     "output_type": "stream",
     "text": [
      "There are 159 rows and 7 columns in data.\n",
      "The first five rows of data looks as follows.\n"
     ]
    },
    {
     "data": {
      "text/html": [
       "<div>\n",
       "<style scoped>\n",
       "    .dataframe tbody tr th:only-of-type {\n",
       "        vertical-align: middle;\n",
       "    }\n",
       "\n",
       "    .dataframe tbody tr th {\n",
       "        vertical-align: top;\n",
       "    }\n",
       "\n",
       "    .dataframe thead th {\n",
       "        text-align: right;\n",
       "    }\n",
       "</style>\n",
       "<table border=\"1\" class=\"dataframe\">\n",
       "  <thead>\n",
       "    <tr style=\"text-align: right;\">\n",
       "      <th></th>\n",
       "      <th>Species</th>\n",
       "      <th>Weight</th>\n",
       "      <th>Length1</th>\n",
       "      <th>Length2</th>\n",
       "      <th>Length3</th>\n",
       "      <th>Height</th>\n",
       "      <th>Width</th>\n",
       "    </tr>\n",
       "  </thead>\n",
       "  <tbody>\n",
       "    <tr>\n",
       "      <th>0</th>\n",
       "      <td>Bream</td>\n",
       "      <td>242.0</td>\n",
       "      <td>23.2</td>\n",
       "      <td>25.4</td>\n",
       "      <td>30.0</td>\n",
       "      <td>11.5200</td>\n",
       "      <td>4.0200</td>\n",
       "    </tr>\n",
       "    <tr>\n",
       "      <th>1</th>\n",
       "      <td>Bream</td>\n",
       "      <td>290.0</td>\n",
       "      <td>24.0</td>\n",
       "      <td>26.3</td>\n",
       "      <td>31.2</td>\n",
       "      <td>12.4800</td>\n",
       "      <td>4.3056</td>\n",
       "    </tr>\n",
       "    <tr>\n",
       "      <th>2</th>\n",
       "      <td>Bream</td>\n",
       "      <td>340.0</td>\n",
       "      <td>23.9</td>\n",
       "      <td>26.5</td>\n",
       "      <td>31.1</td>\n",
       "      <td>12.3778</td>\n",
       "      <td>4.6961</td>\n",
       "    </tr>\n",
       "    <tr>\n",
       "      <th>3</th>\n",
       "      <td>Bream</td>\n",
       "      <td>363.0</td>\n",
       "      <td>26.3</td>\n",
       "      <td>29.0</td>\n",
       "      <td>33.5</td>\n",
       "      <td>12.7300</td>\n",
       "      <td>4.4555</td>\n",
       "    </tr>\n",
       "    <tr>\n",
       "      <th>4</th>\n",
       "      <td>Bream</td>\n",
       "      <td>430.0</td>\n",
       "      <td>26.5</td>\n",
       "      <td>29.0</td>\n",
       "      <td>34.0</td>\n",
       "      <td>12.4440</td>\n",
       "      <td>5.1340</td>\n",
       "    </tr>\n",
       "  </tbody>\n",
       "</table>\n",
       "</div>"
      ],
      "text/plain": [
       "  Species  Weight  Length1  Length2  Length3   Height   Width\n",
       "0   Bream   242.0     23.2     25.4     30.0  11.5200  4.0200\n",
       "1   Bream   290.0     24.0     26.3     31.2  12.4800  4.3056\n",
       "2   Bream   340.0     23.9     26.5     31.1  12.3778  4.6961\n",
       "3   Bream   363.0     26.3     29.0     33.5  12.7300  4.4555\n",
       "4   Bream   430.0     26.5     29.0     34.0  12.4440  5.1340"
      ]
     },
     "execution_count": 461,
     "metadata": {},
     "output_type": "execute_result"
    }
   ],
   "source": [
    "df=pd.read_csv('Fish.csv')\n",
    "\n",
    "print(f'There are {df.shape[0]} rows and {df.shape[1]} columns in data.')\n",
    "print(f'The first five rows of data looks as follows.')\n",
    "df.head()"
   ]
  },
  {
   "cell_type": "markdown",
   "id": "52c3c97c",
   "metadata": {},
   "source": [
    "<font size='3'>\n",
    "    \n",
    "The next step uses the built-in '.describe()' method to get the basic statistics of our data. There we see that the count represents the total number of rows, the mean is the sum of all actual values divided by the total number of values i.e $$\\frac{\\sum_i^n x_i}{n}$$<br>\n",
    "    for example, for Weight column <br>$$mean = \\frac{df.Weight.sum()}{len(df.Weight)}=398.326415$$. The std means the standard deviation, which is the deviation of each value from its mean, and the larger the standard deviation, the larger the spread of each value from the mean i.e $$std = \\sqrt( \\frac{\\sum_i^n(x_i - mean )}{len(df.Weight)-1} )=357.9783165$$. Min and Max are the minimum and maximum values. The three numbers with the percent sign represent two quartiles.\n",
    "\n",
    "</font>"
   ]
  },
  {
   "cell_type": "code",
   "execution_count": 3,
   "id": "d6ae3042",
   "metadata": {},
   "outputs": [
    {
     "data": {
      "text/html": [
       "<div>\n",
       "<style scoped>\n",
       "    .dataframe tbody tr th:only-of-type {\n",
       "        vertical-align: middle;\n",
       "    }\n",
       "\n",
       "    .dataframe tbody tr th {\n",
       "        vertical-align: top;\n",
       "    }\n",
       "\n",
       "    .dataframe thead th {\n",
       "        text-align: right;\n",
       "    }\n",
       "</style>\n",
       "<table border=\"1\" class=\"dataframe\">\n",
       "  <thead>\n",
       "    <tr style=\"text-align: right;\">\n",
       "      <th></th>\n",
       "      <th>Weight</th>\n",
       "      <th>Length1</th>\n",
       "      <th>Length2</th>\n",
       "      <th>Length3</th>\n",
       "      <th>Height</th>\n",
       "      <th>Width</th>\n",
       "    </tr>\n",
       "  </thead>\n",
       "  <tbody>\n",
       "    <tr>\n",
       "      <th>count</th>\n",
       "      <td>159.000000</td>\n",
       "      <td>159.000000</td>\n",
       "      <td>159.000000</td>\n",
       "      <td>159.000000</td>\n",
       "      <td>159.000000</td>\n",
       "      <td>159.000000</td>\n",
       "    </tr>\n",
       "    <tr>\n",
       "      <th>mean</th>\n",
       "      <td>398.326415</td>\n",
       "      <td>26.247170</td>\n",
       "      <td>28.415723</td>\n",
       "      <td>31.227044</td>\n",
       "      <td>8.970994</td>\n",
       "      <td>4.417486</td>\n",
       "    </tr>\n",
       "    <tr>\n",
       "      <th>std</th>\n",
       "      <td>357.978317</td>\n",
       "      <td>9.996441</td>\n",
       "      <td>10.716328</td>\n",
       "      <td>11.610246</td>\n",
       "      <td>4.286208</td>\n",
       "      <td>1.685804</td>\n",
       "    </tr>\n",
       "    <tr>\n",
       "      <th>min</th>\n",
       "      <td>0.000000</td>\n",
       "      <td>7.500000</td>\n",
       "      <td>8.400000</td>\n",
       "      <td>8.800000</td>\n",
       "      <td>1.728400</td>\n",
       "      <td>1.047600</td>\n",
       "    </tr>\n",
       "    <tr>\n",
       "      <th>25%</th>\n",
       "      <td>120.000000</td>\n",
       "      <td>19.050000</td>\n",
       "      <td>21.000000</td>\n",
       "      <td>23.150000</td>\n",
       "      <td>5.944800</td>\n",
       "      <td>3.385650</td>\n",
       "    </tr>\n",
       "    <tr>\n",
       "      <th>50%</th>\n",
       "      <td>273.000000</td>\n",
       "      <td>25.200000</td>\n",
       "      <td>27.300000</td>\n",
       "      <td>29.400000</td>\n",
       "      <td>7.786000</td>\n",
       "      <td>4.248500</td>\n",
       "    </tr>\n",
       "    <tr>\n",
       "      <th>75%</th>\n",
       "      <td>650.000000</td>\n",
       "      <td>32.700000</td>\n",
       "      <td>35.500000</td>\n",
       "      <td>39.650000</td>\n",
       "      <td>12.365900</td>\n",
       "      <td>5.584500</td>\n",
       "    </tr>\n",
       "    <tr>\n",
       "      <th>max</th>\n",
       "      <td>1650.000000</td>\n",
       "      <td>59.000000</td>\n",
       "      <td>63.400000</td>\n",
       "      <td>68.000000</td>\n",
       "      <td>18.957000</td>\n",
       "      <td>8.142000</td>\n",
       "    </tr>\n",
       "  </tbody>\n",
       "</table>\n",
       "</div>"
      ],
      "text/plain": [
       "            Weight     Length1     Length2     Length3      Height       Width\n",
       "count   159.000000  159.000000  159.000000  159.000000  159.000000  159.000000\n",
       "mean    398.326415   26.247170   28.415723   31.227044    8.970994    4.417486\n",
       "std     357.978317    9.996441   10.716328   11.610246    4.286208    1.685804\n",
       "min       0.000000    7.500000    8.400000    8.800000    1.728400    1.047600\n",
       "25%     120.000000   19.050000   21.000000   23.150000    5.944800    3.385650\n",
       "50%     273.000000   25.200000   27.300000   29.400000    7.786000    4.248500\n",
       "75%     650.000000   32.700000   35.500000   39.650000   12.365900    5.584500\n",
       "max    1650.000000   59.000000   63.400000   68.000000   18.957000    8.142000"
      ]
     },
     "execution_count": 3,
     "metadata": {},
     "output_type": "execute_result"
    }
   ],
   "source": [
    "df.describe()"
   ]
  },
  {
   "cell_type": "code",
   "execution_count": 644,
   "id": "56e5297e",
   "metadata": {},
   "outputs": [
    {
     "data": {
      "text/plain": [
       "(120.0, 273.0, 650.0)"
      ]
     },
     "execution_count": 644,
     "metadata": {},
     "output_type": "execute_result"
    }
   ],
   "source": [
    "#Here each quartiles are calculated manually. This values can be compared with the value in the above table.\n",
    "# df['Weight'].quantile(0.5) \n",
    "quantile50 = df['Weight']\n",
    "quantile50 = sorted(quantile50,reverse=False)\n",
    "median     = quantile50[int( (len(quantile50))/2 )]\n",
    "\n",
    "# df['Weight'].quantile(0.25) \n",
    "quantile25 = [item for item in quantile50 if item < median]\n",
    "quantile25 = quantile25[int( len(quantile25)/2 )]\n",
    "\n",
    "# df['Weight'].quantile(0.75) \n",
    "quantile75 = [item for item in quantile50 if item > median]\n",
    "quantile75 = quantile75[int( len(quantile75)/2 )]\n",
    "\n",
    "quantile25,median,quantile75"
   ]
  },
  {
   "cell_type": "code",
   "execution_count": 328,
   "id": "d689c14d",
   "metadata": {},
   "outputs": [
    {
     "data": {
      "text/html": [
       "<div>\n",
       "<style scoped>\n",
       "    .dataframe tbody tr th:only-of-type {\n",
       "        vertical-align: middle;\n",
       "    }\n",
       "\n",
       "    .dataframe tbody tr th {\n",
       "        vertical-align: top;\n",
       "    }\n",
       "\n",
       "    .dataframe thead th {\n",
       "        text-align: right;\n",
       "    }\n",
       "</style>\n",
       "<table border=\"1\" class=\"dataframe\">\n",
       "  <thead>\n",
       "    <tr style=\"text-align: right;\">\n",
       "      <th></th>\n",
       "      <th>Columns</th>\n",
       "      <th>Explanation</th>\n",
       "    </tr>\n",
       "  </thead>\n",
       "  <tbody>\n",
       "    <tr>\n",
       "      <th>0</th>\n",
       "      <td>Speceis</td>\n",
       "      <td>Different type of fish</td>\n",
       "    </tr>\n",
       "    <tr>\n",
       "      <th>1</th>\n",
       "      <td>Weight</td>\n",
       "      <td>Weight of fish in gram</td>\n",
       "    </tr>\n",
       "    <tr>\n",
       "      <th>2</th>\n",
       "      <td>Length1</td>\n",
       "      <td>Vertical length in cm</td>\n",
       "    </tr>\n",
       "    <tr>\n",
       "      <th>3</th>\n",
       "      <td>Length2</td>\n",
       "      <td>Diagonal length in cm</td>\n",
       "    </tr>\n",
       "    <tr>\n",
       "      <th>4</th>\n",
       "      <td>Length3</td>\n",
       "      <td>Cross length in cm</td>\n",
       "    </tr>\n",
       "    <tr>\n",
       "      <th>5</th>\n",
       "      <td>Height</td>\n",
       "      <td>Height in cm</td>\n",
       "    </tr>\n",
       "    <tr>\n",
       "      <th>6</th>\n",
       "      <td>Width</td>\n",
       "      <td>Diagonal width in cm</td>\n",
       "    </tr>\n",
       "  </tbody>\n",
       "</table>\n",
       "</div>"
      ],
      "text/plain": [
       "   Columns             Explanation\n",
       "0  Speceis  Different type of fish\n",
       "1   Weight  Weight of fish in gram\n",
       "2  Length1   Vertical length in cm\n",
       "3  Length2   Diagonal length in cm\n",
       "4  Length3      Cross length in cm\n",
       "5   Height            Height in cm\n",
       "6    Width    Diagonal width in cm"
      ]
     },
     "execution_count": 328,
     "metadata": {},
     "output_type": "execute_result"
    }
   ],
   "source": [
    "#Meaning of the columns of the data frame\n",
    "information = {'Speceis':'Different type of fish',\n",
    " 'Weight' :'Weight of fish in gram',\n",
    " 'Length1':'Vertical length in cm',\n",
    " 'Length2':'Diagonal length in cm',\n",
    " 'Length3':'Cross length in cm',\n",
    " 'Height' :'Height in cm',\n",
    " 'Width':'Diagonal width in cm'}\n",
    "\n",
    "information = pd.DataFrame({'Columns':information.keys(),'Explanation':information.values()})\n",
    "information"
   ]
  },
  {
   "cell_type": "markdown",
   "id": "dc4ff962",
   "metadata": {},
   "source": [
    "<font size='3'>\n",
    "    \n",
    "    The following Info method provides information about data. The information means what the data type is, are there null or missing values, etc. To see if there is a missing or null value, the built-in method .isnull() can be used and .sum() can also be applied to get the total number of missing values for each feature element (see the next code cell). The '.isnull()' method considers 'None','numpy.NaN','nan',empty string as null values.\n",
    "</font>    "
   ]
  },
  {
   "cell_type": "code",
   "execution_count": 44,
   "id": "e9f1b5ea",
   "metadata": {},
   "outputs": [
    {
     "name": "stdout",
     "output_type": "stream",
     "text": [
      "<class 'pandas.core.frame.DataFrame'>\n",
      "RangeIndex: 159 entries, 0 to 158\n",
      "Data columns (total 7 columns):\n",
      " #   Column   Non-Null Count  Dtype  \n",
      "---  ------   --------------  -----  \n",
      " 0   Species  159 non-null    object \n",
      " 1   Weight   159 non-null    float64\n",
      " 2   Length1  159 non-null    float64\n",
      " 3   Length2  159 non-null    float64\n",
      " 4   Length3  159 non-null    float64\n",
      " 5   Height   159 non-null    float64\n",
      " 6   Width    159 non-null    float64\n",
      "dtypes: float64(6), object(1)\n",
      "memory usage: 8.8+ KB\n"
     ]
    }
   ],
   "source": [
    "df.info()"
   ]
  },
  {
   "cell_type": "code",
   "execution_count": 232,
   "id": "654ff2de",
   "metadata": {},
   "outputs": [
    {
     "data": {
      "text/plain": [
       "Species    0\n",
       "Weight     0\n",
       "Length1    0\n",
       "Length2    0\n",
       "Length3    0\n",
       "Height     0\n",
       "Width      0\n",
       "dtype: int64"
      ]
     },
     "execution_count": 232,
     "metadata": {},
     "output_type": "execute_result"
    }
   ],
   "source": [
    "#Only df.isnull() returns True or False depending on whether a null value is present.\n",
    "df.isnull().sum()"
   ]
  },
  {
   "cell_type": "markdown",
   "id": "8ededdf9",
   "metadata": {},
   "source": [
    "<font size='3'>\n",
    "As we can see with df['Species'].unique(), there are 7 different species of fish. The following code counts the total of each fish and stores it in a dictionary with the fish name as the key and the total as the value. Later, this dictionary is sorted in descending order using the sorted method and lambda function. However, the same action can be performed with a single line of code using the built-in method value_counts() (see next code cell).\n",
    "</font>    "
   ]
  },
  {
   "cell_type": "code",
   "execution_count": 264,
   "id": "864b9241",
   "metadata": {},
   "outputs": [
    {
     "data": {
      "text/html": [
       "<div>\n",
       "<style scoped>\n",
       "    .dataframe tbody tr th:only-of-type {\n",
       "        vertical-align: middle;\n",
       "    }\n",
       "\n",
       "    .dataframe tbody tr th {\n",
       "        vertical-align: top;\n",
       "    }\n",
       "\n",
       "    .dataframe thead th {\n",
       "        text-align: right;\n",
       "    }\n",
       "</style>\n",
       "<table border=\"1\" class=\"dataframe\">\n",
       "  <thead>\n",
       "    <tr style=\"text-align: right;\">\n",
       "      <th></th>\n",
       "      <th>Bream</th>\n",
       "      <th>Parkki</th>\n",
       "      <th>Perch</th>\n",
       "      <th>Pike</th>\n",
       "      <th>Roach</th>\n",
       "      <th>Smelt</th>\n",
       "      <th>Whitefish</th>\n",
       "    </tr>\n",
       "  </thead>\n",
       "  <tbody>\n",
       "    <tr>\n",
       "      <th>Species</th>\n",
       "      <td>35</td>\n",
       "      <td>11</td>\n",
       "      <td>56</td>\n",
       "      <td>17</td>\n",
       "      <td>20</td>\n",
       "      <td>14</td>\n",
       "      <td>6</td>\n",
       "    </tr>\n",
       "  </tbody>\n",
       "</table>\n",
       "</div>"
      ],
      "text/plain": [
       "         Bream  Parkki  Perch  Pike  Roach  Smelt  Whitefish\n",
       "Species     35      11     56    17     20     14          6"
      ]
     },
     "execution_count": 264,
     "metadata": {},
     "output_type": "execute_result"
    }
   ],
   "source": [
    "#A dictionary is created with fish name as key and their total number as value. And this dictionary\n",
    "#is converted into the pandas dataframe.\n",
    "def count_each_item(input):    \n",
    "    count = 0\n",
    "    for item in df['Species']:\n",
    "        if item == input:\n",
    "            count += 1\n",
    "    return count        \n",
    "\n",
    "fish_number = {}\n",
    "for item in df['Species'].unique():\n",
    "    fish_number[item] = count_each_item(item)    \n",
    "    \n",
    "fish_number = dict(sorted(fish_number.items(),key=lambda x:x[1],reverse=True))\n",
    "fish_number = pd.DataFrame({'Species':fish_number})\n",
    "fish_number.T"
   ]
  },
  {
   "cell_type": "code",
   "execution_count": 262,
   "id": "111c5959",
   "metadata": {},
   "outputs": [
    {
     "data": {
      "text/html": [
       "<div>\n",
       "<style scoped>\n",
       "    .dataframe tbody tr th:only-of-type {\n",
       "        vertical-align: middle;\n",
       "    }\n",
       "\n",
       "    .dataframe tbody tr th {\n",
       "        vertical-align: top;\n",
       "    }\n",
       "\n",
       "    .dataframe thead th {\n",
       "        text-align: right;\n",
       "    }\n",
       "</style>\n",
       "<table border=\"1\" class=\"dataframe\">\n",
       "  <thead>\n",
       "    <tr style=\"text-align: right;\">\n",
       "      <th></th>\n",
       "      <th>Perch</th>\n",
       "      <th>Bream</th>\n",
       "      <th>Roach</th>\n",
       "      <th>Pike</th>\n",
       "      <th>Smelt</th>\n",
       "      <th>Parkki</th>\n",
       "      <th>Whitefish</th>\n",
       "    </tr>\n",
       "  </thead>\n",
       "  <tbody>\n",
       "    <tr>\n",
       "      <th>Species</th>\n",
       "      <td>56</td>\n",
       "      <td>35</td>\n",
       "      <td>20</td>\n",
       "      <td>17</td>\n",
       "      <td>14</td>\n",
       "      <td>11</td>\n",
       "      <td>6</td>\n",
       "    </tr>\n",
       "  </tbody>\n",
       "</table>\n",
       "</div>"
      ],
      "text/plain": [
       "         Perch  Bream  Roach  Pike  Smelt  Parkki  Whitefish\n",
       "Species     56     35     20    17     14      11          6"
      ]
     },
     "execution_count": 262,
     "metadata": {},
     "output_type": "execute_result"
    }
   ],
   "source": [
    "fish_number = df['Species'].value_counts()\n",
    "fish_number = pd.DataFrame(fish_number)\n",
    "fish_number.T"
   ]
  },
  {
   "cell_type": "markdown",
   "id": "86cf97cb",
   "metadata": {},
   "source": [
    "# Step3 : Data Visualization <br>\n",
    "\n",
    "<font size='3'>\n",
    "<p style='color:blue'>    </p>\n",
    "In the following, a visualization technique is used to examine data. For this, matplotlib.pyplot is used and the pie chart and histogram are drawn for different items in the Species column. Later, a newly created fish_number table is plotted as a bar chart using seaborn's <b>barplot</b> method. In the <b>fish_number</b> data frame above, the names of the fish are shown as an index and their total number as a column. As a result they can be access as <b>fish_number.index</b> and <b>fish_number.Species</b>. And this is used in the next plot.\n",
    "</font>    "
   ]
  },
  {
   "cell_type": "code",
   "execution_count": 778,
   "id": "e767aebd",
   "metadata": {},
   "outputs": [
    {
     "data": {
      "image/png": "[encoded data removed]",
      "text/plain": [
       "<Figure size 720x432 with 1 Axes>"
      ]
     },
     "metadata": {},
     "output_type": "display_data"
    }
   ],
   "source": [
    "plt.title('Distribution of different fish')\n",
    "df_new['Species'].value_counts().plot(kind='pie',autopct='%1.1f%%');"
   ]
  },
  {
   "cell_type": "code",
   "execution_count": 347,
   "id": "94cd673b",
   "metadata": {},
   "outputs": [
    {
     "data": {
      "image/png": "[encoded data removed]",
      "text/plain": [
       "<Figure size 720x576 with 1 Axes>"
      ]
     },
     "metadata": {},
     "output_type": "display_data"
    }
   ],
   "source": [
    "plt.figure(figsize=(10,8))\n",
    "plt.xlabel('Fish Species')\n",
    "plt.ylabel('Total number')\n",
    "plt.hist(df['Species'],bins=20);"
   ]
  },
  {
   "cell_type": "code",
   "execution_count": 287,
   "id": "0c1a9a30",
   "metadata": {},
   "outputs": [
    {
     "data": {
      "image/png": "[encoded data removed]",
      "text/plain": [
       "<Figure size 720x432 with 1 Axes>"
      ]
     },
     "metadata": {},
     "output_type": "display_data"
    }
   ],
   "source": [
    "plt.rcParams[\"figure.figsize\"] = (10,6)\n",
    "plt.title('Total fish of different species')\n",
    "plt.xlabel('Different Species of fish')\n",
    "sns.barplot(x= fish_number.index, y = fish_number.Species);\n",
    "plt.ylabel('Total number');  "
   ]
  },
  {
   "cell_type": "markdown",
   "id": "01d644c0",
   "metadata": {},
   "source": [
    "<font size='3'>\n",
    "Below I use a very powerful built-in <b>groupby</b> method to create the dataframe for each fish species. First I apply a group to the <b>Species</b> column and then use the <b>get_group</b> method to grab a unique element from <b>Species</b>. This allows me to create a dataframe for bream, parkki, perch, pike, roach, smelt and whitefish.\n",
    "</font>    "
   ]
  },
  {
   "cell_type": "code",
   "execution_count": 313,
   "id": "f41c3f78",
   "metadata": {},
   "outputs": [
    {
     "name": "stdout",
     "output_type": "stream",
     "text": [
      "The total data for Bream is (35, 7).\n",
      "The total data for Roach is (20, 7).\n",
      "The total data for Whitefish is (6, 7).\n",
      "The total data for Parkki is (11, 7).\n",
      "The total data for Perch is (56, 7).\n",
      "The total data for Pike is (17, 7).\n",
      "The total data for Smelt is (14, 7).\n"
     ]
    }
   ],
   "source": [
    "dfg = df.groupby(['Species'])\n",
    "\n",
    "df_Bream     = dfg.get_group('Bream')\n",
    "df_Roach     = dfg.get_group('Roach')\n",
    "df_Whitefish = dfg.get_group('Whitefish')\n",
    "df_Parkki    = dfg.get_group('Parkki')\n",
    "df_Perch     = dfg.get_group('Perch')\n",
    "df_Pike      = dfg.get_group('Pike')\n",
    "df_Smelt     = dfg.get_group('Smelt')\n",
    "\n",
    "for item in df.Species.unique():\n",
    "    print(f'The total data for {item} is {dfg.get_group(item).shape}.')"
   ]
  },
  {
   "cell_type": "markdown",
   "id": "c5d6b87c",
   "metadata": {},
   "source": [
    "<font size='3'>\n",
    "    \n",
    "Because different fish have different characteristics, we can perform the analysis separately for each data frame extracted for each fish. However, this data size is very small with a total of 159 rows and 7 columns. So we can consider different types of fish as just fish. Before we do that, we will first check if there are any outliers in our data, and if so, we will remove them.\n",
    "</font>    "
   ]
  },
  {
   "cell_type": "code",
   "execution_count": 343,
   "id": "46507845",
   "metadata": {},
   "outputs": [
    {
     "data": {
      "image/png": "[encoded data removed]",
      "text/plain": [
       "<Figure size 576x432 with 1 Axes>"
      ]
     },
     "metadata": {},
     "output_type": "display_data"
    }
   ],
   "source": [
    "fig,ax = plt.subplots(figsize=(8,6))\n",
    "\n",
    "sns.set_theme()\n",
    "sns.set_style('darkgrid')\n",
    "sns.boxplot(x='Species',y='Weight',data=df,palette='deep');"
   ]
  },
  {
   "cell_type": "code",
   "execution_count": 336,
   "id": "b6dd5cf9",
   "metadata": {},
   "outputs": [
    {
     "data": {
      "text/html": [
       "<div>\n",
       "<style scoped>\n",
       "    .dataframe tbody tr th:only-of-type {\n",
       "        vertical-align: middle;\n",
       "    }\n",
       "\n",
       "    .dataframe tbody tr th {\n",
       "        vertical-align: top;\n",
       "    }\n",
       "\n",
       "    .dataframe thead th {\n",
       "        text-align: right;\n",
       "    }\n",
       "</style>\n",
       "<table border=\"1\" class=\"dataframe\">\n",
       "  <thead>\n",
       "    <tr style=\"text-align: right;\">\n",
       "      <th></th>\n",
       "      <th>Species</th>\n",
       "      <th>Weight</th>\n",
       "      <th>Length1</th>\n",
       "      <th>Length2</th>\n",
       "      <th>Length3</th>\n",
       "      <th>Height</th>\n",
       "      <th>Width</th>\n",
       "    </tr>\n",
       "  </thead>\n",
       "  <tbody>\n",
       "    <tr>\n",
       "      <th>40</th>\n",
       "      <td>Roach</td>\n",
       "      <td>0.0</td>\n",
       "      <td>19.0</td>\n",
       "      <td>20.5</td>\n",
       "      <td>22.8</td>\n",
       "      <td>6.4752</td>\n",
       "      <td>3.3516</td>\n",
       "    </tr>\n",
       "  </tbody>\n",
       "</table>\n",
       "</div>"
      ],
      "text/plain": [
       "   Species  Weight  Length1  Length2  Length3  Height   Width\n",
       "40   Roach     0.0     19.0     20.5     22.8  6.4752  3.3516"
      ]
     },
     "execution_count": 336,
     "metadata": {},
     "output_type": "execute_result"
    }
   ],
   "source": [
    "df[df['Weight']<=0]"
   ]
  },
  {
   "cell_type": "markdown",
   "id": "e182b5e6",
   "metadata": {},
   "source": [
    "<font size='3'>\n",
    "From the above boxplot and the output of df[df['Weight']<=0], it has been found that the weight for the roach fish data contains some outliers. However, because the data set is small, only the \"weight = 0\" line is removed in this example while keeping others (This is of course not good practice and should not be done).\n",
    "</font>                                                             "
   ]
  },
  {
   "cell_type": "code",
   "execution_count": 773,
   "id": "ed62c422",
   "metadata": {},
   "outputs": [
    {
     "data": {
      "text/plain": [
       "(158, 7)"
      ]
     },
     "execution_count": 773,
     "metadata": {},
     "output_type": "execute_result"
    }
   ],
   "source": [
    "df_new = df.drop([40])\n",
    "df_new.shape"
   ]
  },
  {
   "cell_type": "markdown",
   "id": "59575278",
   "metadata": {},
   "source": [
    "# Step 4: Concept of  Correlation and Correlation Matrix\n",
    "\n",
    "## Importance of the Correlation Coefficient"
   ]
  },
  {
   "cell_type": "markdown",
   "id": "115e2bdb",
   "metadata": {},
   "source": [
    "<font size='3'>\n",
    "The following text is copied word by word from the following website.<br>\n",
    "    \n",
    "https://vitalflux.com/correlation-heatmap-with-seaborn-pandas/ \n",
    "<br>\n",
    "    \n",
    "Correlation is used in linear regression models to determine the strength of the relationship between the dependent and independent variables. The linear regression model is a machine learning algorithm that is used to predict a continuous value, such as a price or quantity. The linear regression model uses the correlation between the dependent and independent variables to determine how much of the dependent variable is explained by the independent variable. In case there is a strongly positive or negative correlation, the predictor variables can be considered as features for training the models.\n",
    "    \n",
    "Correlation is often used in machine learning to identify multicollinearity, which is when two or more predictor variables are highly correlated with each other. Multicollinearity can impact the accuracy of predictive models, so it’s important to identify and remove predictors that are associated with high multicollinearity. There are different methods for identifying multicollinearity, but one common method is to calculate the variance inflation factor (VIF), which measures the degree of correlation between predictor variables. Variance inflation factor (VIF) is a measure of how much the variance of a parameter is increased by collinearity. VIFs are typically used in statistical modeling to assess multicollinearity and to help select model variables. In machine learning, VIF can be used to reduce the dimensionality of data by removing features that are highly correlated with each other. By reducing multicollinearity, VIF can improve the accuracy of predictions and prevent overfitting. Multicollinearity can be addressed either removing one of the correlated variables or by using regularization techniques. Regularization techniques penalize model complexity, which helps to prevent overfitting. In addition, feature engineering techniques can be used to create new features that are not strongly correlated with each other.    \n",
    "    "
   ]
  },
  {
   "cell_type": "code",
   "execution_count": 489,
   "id": "647a354a",
   "metadata": {},
   "outputs": [
    {
     "data": {
      "text/html": [
       "<div>\n",
       "<style scoped>\n",
       "    .dataframe tbody tr th:only-of-type {\n",
       "        vertical-align: middle;\n",
       "    }\n",
       "\n",
       "    .dataframe tbody tr th {\n",
       "        vertical-align: top;\n",
       "    }\n",
       "\n",
       "    .dataframe thead th {\n",
       "        text-align: right;\n",
       "    }\n",
       "</style>\n",
       "<table border=\"1\" class=\"dataframe\">\n",
       "  <thead>\n",
       "    <tr style=\"text-align: right;\">\n",
       "      <th></th>\n",
       "      <th>Weight</th>\n",
       "      <th>Length1</th>\n",
       "      <th>Length2</th>\n",
       "      <th>Length3</th>\n",
       "      <th>Height</th>\n",
       "      <th>Width</th>\n",
       "    </tr>\n",
       "  </thead>\n",
       "  <tbody>\n",
       "    <tr>\n",
       "      <th>Weight</th>\n",
       "      <td>1.000000</td>\n",
       "      <td>0.915719</td>\n",
       "      <td>0.918603</td>\n",
       "      <td>0.923090</td>\n",
       "      <td>0.723857</td>\n",
       "      <td>0.886654</td>\n",
       "    </tr>\n",
       "    <tr>\n",
       "      <th>Length1</th>\n",
       "      <td>0.915719</td>\n",
       "      <td>1.000000</td>\n",
       "      <td>0.999516</td>\n",
       "      <td>0.992004</td>\n",
       "      <td>0.624409</td>\n",
       "      <td>0.866684</td>\n",
       "    </tr>\n",
       "    <tr>\n",
       "      <th>Length2</th>\n",
       "      <td>0.918603</td>\n",
       "      <td>0.999516</td>\n",
       "      <td>1.000000</td>\n",
       "      <td>0.994083</td>\n",
       "      <td>0.639503</td>\n",
       "      <td>0.873201</td>\n",
       "    </tr>\n",
       "    <tr>\n",
       "      <th>Length3</th>\n",
       "      <td>0.923090</td>\n",
       "      <td>0.992004</td>\n",
       "      <td>0.994083</td>\n",
       "      <td>1.000000</td>\n",
       "      <td>0.702655</td>\n",
       "      <td>0.878189</td>\n",
       "    </tr>\n",
       "    <tr>\n",
       "      <th>Height</th>\n",
       "      <td>0.723857</td>\n",
       "      <td>0.624409</td>\n",
       "      <td>0.639503</td>\n",
       "      <td>0.702655</td>\n",
       "      <td>1.000000</td>\n",
       "      <td>0.792401</td>\n",
       "    </tr>\n",
       "    <tr>\n",
       "      <th>Width</th>\n",
       "      <td>0.886654</td>\n",
       "      <td>0.866684</td>\n",
       "      <td>0.873201</td>\n",
       "      <td>0.878189</td>\n",
       "      <td>0.792401</td>\n",
       "      <td>1.000000</td>\n",
       "    </tr>\n",
       "  </tbody>\n",
       "</table>\n",
       "</div>"
      ],
      "text/plain": [
       "           Weight   Length1   Length2   Length3    Height     Width\n",
       "Weight   1.000000  0.915719  0.918603  0.923090  0.723857  0.886654\n",
       "Length1  0.915719  1.000000  0.999516  0.992004  0.624409  0.866684\n",
       "Length2  0.918603  0.999516  1.000000  0.994083  0.639503  0.873201\n",
       "Length3  0.923090  0.992004  0.994083  1.000000  0.702655  0.878189\n",
       "Height   0.723857  0.624409  0.639503  0.702655  1.000000  0.792401\n",
       "Width    0.886654  0.866684  0.873201  0.878189  0.792401  1.000000"
      ]
     },
     "execution_count": 489,
     "metadata": {},
     "output_type": "execute_result"
    }
   ],
   "source": [
    "df_new.corr()"
   ]
  },
  {
   "cell_type": "markdown",
   "id": "cf53b7be",
   "metadata": {},
   "source": [
    "The above numbers are calculated using the following formula of the <b>Pearson correlation coefficient (PCC) </b>. Let us suppose we have two different features X=[x1,x2...xn] and Y=[y1,y2..yn] and the PCC can be calculated as follows\n",
    "\n",
    "corr_coeffiecient = $$\\frac{\\sum_i( (x_i - xmean)*(y_i-ymean) )}{\\sqrt( \\sum_i(x_i - xmean)^2*\\sum_i(y_i - ymean)^2 ) }$$\n",
    "\n",
    "The next code cell shows how to manually implement this formula."
   ]
  },
  {
   "cell_type": "code",
   "execution_count": 490,
   "id": "dbf684ff",
   "metadata": {},
   "outputs": [
    {
     "data": {
      "text/plain": [
       "0.915719476592731"
      ]
     },
     "execution_count": 490,
     "metadata": {},
     "output_type": "execute_result"
    }
   ],
   "source": [
    "Weight_mean  = df_new['Weight'].sum()/len(df_new['Weight'])\n",
    "Length1_mean = df_new['Length1'].sum()/len(df_new['Length1']) \n",
    "\n",
    "numerator   = sum((df_new['Weight']-weight_mean)*(df_new['Length1']-Length1_mean))\n",
    "denominator = np.sqrt( sum(( df_new['Weight']-weight_mean )**2)*sum(( df_new['Length1']-Length1_mean )**2) )\n",
    "corr_coeff  = numerator/denominator\n",
    "corr_coeff"
   ]
  },
  {
   "cell_type": "markdown",
   "id": "70db8a0b",
   "metadata": {},
   "source": [
    "<font size='3'>The above correlation table is presented in a figure below</font>"
   ]
  },
  {
   "cell_type": "code",
   "execution_count": 491,
   "id": "7878979d",
   "metadata": {},
   "outputs": [
    {
     "data": {
      "image/png": "[encoded data removed]",
      "text/plain": [
       "<Figure size 720x432 with 2 Axes>"
      ]
     },
     "metadata": {},
     "output_type": "display_data"
    }
   ],
   "source": [
    "plt.rcParams['figure.figsize']=(10,6)\n",
    "sns.heatmap(df_new.corr(),cmap=\"YlGnBu\",annot=True)\n",
    "plt.title('Correlation Matrix');"
   ]
  },
  {
   "cell_type": "markdown",
   "id": "9c7b1d94",
   "metadata": {},
   "source": [
    "<font size='3'>\n",
    "This correlation matrix shows that length1, length2 and length3 are strongly correlated with each other and also with other feature. In the following, these features are drop from data.\n",
    "</font>    "
   ]
  },
  {
   "cell_type": "code",
   "execution_count": 492,
   "id": "6dff8870",
   "metadata": {},
   "outputs": [
    {
     "data": {
      "text/html": [
       "<div>\n",
       "<style scoped>\n",
       "    .dataframe tbody tr th:only-of-type {\n",
       "        vertical-align: middle;\n",
       "    }\n",
       "\n",
       "    .dataframe tbody tr th {\n",
       "        vertical-align: top;\n",
       "    }\n",
       "\n",
       "    .dataframe thead th {\n",
       "        text-align: right;\n",
       "    }\n",
       "</style>\n",
       "<table border=\"1\" class=\"dataframe\">\n",
       "  <thead>\n",
       "    <tr style=\"text-align: right;\">\n",
       "      <th></th>\n",
       "      <th>Species</th>\n",
       "      <th>Weight</th>\n",
       "      <th>Height</th>\n",
       "      <th>Width</th>\n",
       "    </tr>\n",
       "  </thead>\n",
       "  <tbody>\n",
       "    <tr>\n",
       "      <th>0</th>\n",
       "      <td>Bream</td>\n",
       "      <td>242.0</td>\n",
       "      <td>11.5200</td>\n",
       "      <td>4.0200</td>\n",
       "    </tr>\n",
       "    <tr>\n",
       "      <th>1</th>\n",
       "      <td>Bream</td>\n",
       "      <td>290.0</td>\n",
       "      <td>12.4800</td>\n",
       "      <td>4.3056</td>\n",
       "    </tr>\n",
       "    <tr>\n",
       "      <th>2</th>\n",
       "      <td>Bream</td>\n",
       "      <td>340.0</td>\n",
       "      <td>12.3778</td>\n",
       "      <td>4.6961</td>\n",
       "    </tr>\n",
       "    <tr>\n",
       "      <th>3</th>\n",
       "      <td>Bream</td>\n",
       "      <td>363.0</td>\n",
       "      <td>12.7300</td>\n",
       "      <td>4.4555</td>\n",
       "    </tr>\n",
       "    <tr>\n",
       "      <th>4</th>\n",
       "      <td>Bream</td>\n",
       "      <td>430.0</td>\n",
       "      <td>12.4440</td>\n",
       "      <td>5.1340</td>\n",
       "    </tr>\n",
       "    <tr>\n",
       "      <th>...</th>\n",
       "      <td>...</td>\n",
       "      <td>...</td>\n",
       "      <td>...</td>\n",
       "      <td>...</td>\n",
       "    </tr>\n",
       "    <tr>\n",
       "      <th>154</th>\n",
       "      <td>Smelt</td>\n",
       "      <td>12.2</td>\n",
       "      <td>2.0904</td>\n",
       "      <td>1.3936</td>\n",
       "    </tr>\n",
       "    <tr>\n",
       "      <th>155</th>\n",
       "      <td>Smelt</td>\n",
       "      <td>13.4</td>\n",
       "      <td>2.4300</td>\n",
       "      <td>1.2690</td>\n",
       "    </tr>\n",
       "    <tr>\n",
       "      <th>156</th>\n",
       "      <td>Smelt</td>\n",
       "      <td>12.2</td>\n",
       "      <td>2.2770</td>\n",
       "      <td>1.2558</td>\n",
       "    </tr>\n",
       "    <tr>\n",
       "      <th>157</th>\n",
       "      <td>Smelt</td>\n",
       "      <td>19.7</td>\n",
       "      <td>2.8728</td>\n",
       "      <td>2.0672</td>\n",
       "    </tr>\n",
       "    <tr>\n",
       "      <th>158</th>\n",
       "      <td>Smelt</td>\n",
       "      <td>19.9</td>\n",
       "      <td>2.9322</td>\n",
       "      <td>1.8792</td>\n",
       "    </tr>\n",
       "  </tbody>\n",
       "</table>\n",
       "<p>158 rows × 4 columns</p>\n",
       "</div>"
      ],
      "text/plain": [
       "    Species  Weight   Height   Width\n",
       "0     Bream   242.0  11.5200  4.0200\n",
       "1     Bream   290.0  12.4800  4.3056\n",
       "2     Bream   340.0  12.3778  4.6961\n",
       "3     Bream   363.0  12.7300  4.4555\n",
       "4     Bream   430.0  12.4440  5.1340\n",
       "..      ...     ...      ...     ...\n",
       "154   Smelt    12.2   2.0904  1.3936\n",
       "155   Smelt    13.4   2.4300  1.2690\n",
       "156   Smelt    12.2   2.2770  1.2558\n",
       "157   Smelt    19.7   2.8728  2.0672\n",
       "158   Smelt    19.9   2.9322  1.8792\n",
       "\n",
       "[158 rows x 4 columns]"
      ]
     },
     "execution_count": 492,
     "metadata": {},
     "output_type": "execute_result"
    }
   ],
   "source": [
    "column_drop = ['Length1','Length2','Length3']\n",
    "df_new = df_new.drop(column_drop,axis=1)\n",
    "df_new"
   ]
  },
  {
   "cell_type": "markdown",
   "id": "4b2b11cf",
   "metadata": {},
   "source": [
    "# Step 5: Pairplot Visualization"
   ]
  },
  {
   "cell_type": "code",
   "execution_count": 493,
   "id": "64350c29",
   "metadata": {},
   "outputs": [
    {
     "data": {
      "image/png": "[encoded data removed]",
      "text/plain": [
       "<Figure size 631.725x540 with 12 Axes>"
      ]
     },
     "metadata": {},
     "output_type": "display_data"
    }
   ],
   "source": [
    "sns.pairplot(df_new,kind='scatter',hue='Species');\n",
    "# sns.pairplot(df_new,kind='hist',hue='Species');"
   ]
  },
  {
   "cell_type": "code",
   "execution_count": 381,
   "id": "2d5f4475",
   "metadata": {},
   "outputs": [],
   "source": [
    "# plt.figure(figsize=(15,6))\n",
    "# plt.subplot(1,2,1)\n",
    "# plt.title('Fish Species versus Weight')\n",
    "# plt.xlabel('Fish Species')\n",
    "# plt.ylabel('Weight')\n",
    "# plt.scatter(df['Species'],df['Weight'],marker='o');\n",
    "\n",
    "# plt.subplot(1,2,2)\n",
    "# plt.title('Fish Species versus Height')\n",
    "# plt.xlabel('Fish Species')\n",
    "# plt.ylabel('Height')\n",
    "# plt.scatter(df['Species'],df['Height'],marker='o');"
   ]
  },
  {
   "cell_type": "markdown",
   "id": "1d37412e",
   "metadata": {},
   "source": [
    "# Step6 : seaborn boxplot"
   ]
  },
  {
   "cell_type": "markdown",
   "id": "660d0bbc",
   "metadata": {},
   "source": [
    "In the following boxplot from seaborn library is used. The following are the few steps \n",
    "<br>\n",
    "\n",
    "     'plt.subplots(figsize=(8,6))' set the canvas where the plot is displayed.\n",
    "      sns.violinplot               makes plot shape like violin \n",
    "      sns.boxplot                  makes plot shape like box\n",
    "      sns.despine"
   ]
  },
  {
   "cell_type": "code",
   "execution_count": 494,
   "id": "64eb7164",
   "metadata": {},
   "outputs": [
    {
     "data": {
      "image/png": "[encoded data removed]",
      "text/plain": [
       "<Figure size 576x432 with 1 Axes>"
      ]
     },
     "metadata": {},
     "output_type": "display_data"
    }
   ],
   "source": [
    "fish_list = ['Perch','Bream','Roach','Pike','Smelt','Parkki','Whitefish']\n",
    "\n",
    "fig,ax = plt.subplots(figsize=(8,6))\n",
    "\n",
    "sns.set_theme()\n",
    "sns.set_style('darkgrid')\n",
    "sns.boxplot(x='Species',y='Length1',data=df,palette='deep');"
   ]
  },
  {
   "cell_type": "markdown",
   "id": "fb20f24b",
   "metadata": {},
   "source": [
    "<font size='3'> Before understanding what was shown in the figure above, let's first understand what the boxplot is for. Boxplot is the representation of numeric data by its quartiles and it is important to visualize the outlier of the data, if any. This chart simply summarizes the 25th, 50th, and 75th percentiles. Proceed to the next step to understand what is shown in the image above. Let's look at a box at the left end. The first horizontal black line at the bottom is the minimum value and the another black line at the bottom of box shape is the First Quartile (Q1) or 25$\\%$. The black horizontal line in the middle of the box shape is the Second Quartile (Q2) or 50$\\%$ or mean. The third black horizontal line or the top of the box is the Third Quartile (Q3) or 75$\\%$ and the next top horizontal line is the maximum value. As can be seen, there is a small diamond-shaped object on the top horizontal line, representing outliers or bad data. <br>\n",
    "\n",
    "    The distance between Q1 and Q3 is called the interquartile range (IQR) (Q3-Q1) and is very important when calculating an outlier in data. A data point that is 1.5 times the IQR away from the center or Q2 is called an outlier. To check the outlier, the following two parameters need to be calculated\n",
    "    \n",
    "    1) Lower boundary  : Q1-1.5*IQR or Q1-1.5*(Q3-Q1)\n",
    "    2) Upper boundary  : Q3+1.5*IQR or Q3+1.5*(Q3-Q1)\n",
    " \n",
    "    To calculate the quartiles from scratch, the following steps should be taken:\n",
    "    \n",
    "    1) First, arrange the data in ascending order.\n",
    "    2) Calculate the median of the data (a middle value). If the data has even entries, the average of the middle two numbers should be considered, otherwise the value at (n+1)/2 (n = number of items) should choose.\n",
    "    3) When the median is calculated, the data is divided into two categories. Again, take the median of the data, which is below then the median or above then the median, that gives Q1 and Q3, respectively.\n",
    "    \n",
    "Similar to the medium, which divides the data in half, the quartile divides the data into quarters.\n",
    "</font>    "
   ]
  },
  {
   "cell_type": "code",
   "execution_count": 495,
   "id": "d3238719",
   "metadata": {},
   "outputs": [
    {
     "data": {
      "image/png": "[encoded data removed]",
      "text/plain": [
       "<Figure size 720x432 with 1 Axes>"
      ]
     },
     "metadata": {},
     "output_type": "display_data"
    }
   ],
   "source": [
    "plt.title('Outliers in the Weight feature')\n",
    "sns.boxplot(x=df_new['Weight']);\n",
    "#We can see that there are three outliers represented by a diamond shaped object"
   ]
  },
  {
   "cell_type": "code",
   "execution_count": 397,
   "id": "e29f0bea",
   "metadata": {},
   "outputs": [
    {
     "data": {
      "image/png": "[encoded data removed]",
      "text/plain": [
       "<Figure size 720x432 with 1 Axes>"
      ]
     },
     "metadata": {},
     "output_type": "display_data"
    }
   ],
   "source": [
    "plt.title('Outlier in the Height feature')\n",
    "sns.boxplot(x=df_new['Height']);"
   ]
  },
  {
   "cell_type": "code",
   "execution_count": 398,
   "id": "7f3a6753",
   "metadata": {},
   "outputs": [
    {
     "data": {
      "image/png": "[encoded data removed]",
      "text/plain": [
       "<Figure size 720x432 with 1 Axes>"
      ]
     },
     "metadata": {},
     "output_type": "display_data"
    }
   ],
   "source": [
    "plt.title('Outlier in the Width feature')\n",
    "sns.boxplot(x=df_new['Width']);"
   ]
  },
  {
   "cell_type": "markdown",
   "id": "48aeac00",
   "metadata": {},
   "source": [
    "<font size='3'>\n",
    "We can see in the boxplot above that there are three outliers in the weight function but no outliers in the height and width features. Below is an <b style='color:blue'>outlier detection function </b> that gives the actual value and location of the outlier.\n",
    "</font>    \n",
    "    "
   ]
  },
  {
   "cell_type": "code",
   "execution_count": 405,
   "id": "46eacfd8",
   "metadata": {},
   "outputs": [],
   "source": [
    "#Outlier detection function\n",
    "def outlier_detector(inputData):\n",
    "    Q1  = inputData.quantile(0.25)\n",
    "    Q3  = inputData.quantile(0.75)\n",
    "    IQR = Q3-Q1\n",
    "    upper_boundary = Q3 + 1.5*IQR\n",
    "    lower_boundary = Q1 - 1.5*IQR\n",
    "    outlier = inputData[ (inputData < lower_boundary) | (inputData > upper_boundary)]\n",
    "    return outlier    "
   ]
  },
  {
   "cell_type": "code",
   "execution_count": 496,
   "id": "01c78bfa",
   "metadata": {},
   "outputs": [
    {
     "data": {
      "text/plain": [
       "142    1600.0\n",
       "143    1550.0\n",
       "144    1650.0\n",
       "Name: Weight, dtype: float64"
      ]
     },
     "execution_count": 496,
     "metadata": {},
     "output_type": "execute_result"
    }
   ],
   "source": [
    "#The position and values of the three outliers in the Weight feature are\n",
    "outlier_detector(df_new['Weight'])"
   ]
  },
  {
   "cell_type": "code",
   "execution_count": 479,
   "id": "2ef29540",
   "metadata": {},
   "outputs": [
    {
     "data": {
      "text/html": [
       "<div>\n",
       "<style scoped>\n",
       "    .dataframe tbody tr th:only-of-type {\n",
       "        vertical-align: middle;\n",
       "    }\n",
       "\n",
       "    .dataframe tbody tr th {\n",
       "        vertical-align: top;\n",
       "    }\n",
       "\n",
       "    .dataframe thead th {\n",
       "        text-align: right;\n",
       "    }\n",
       "</style>\n",
       "<table border=\"1\" class=\"dataframe\">\n",
       "  <thead>\n",
       "    <tr style=\"text-align: right;\">\n",
       "      <th></th>\n",
       "      <th>Species</th>\n",
       "      <th>Weight</th>\n",
       "      <th>Height</th>\n",
       "      <th>Width</th>\n",
       "    </tr>\n",
       "  </thead>\n",
       "  <tbody>\n",
       "    <tr>\n",
       "      <th>142</th>\n",
       "      <td>Pike</td>\n",
       "      <td>1600.0</td>\n",
       "      <td>9.600</td>\n",
       "      <td>6.144</td>\n",
       "    </tr>\n",
       "    <tr>\n",
       "      <th>143</th>\n",
       "      <td>Pike</td>\n",
       "      <td>1550.0</td>\n",
       "      <td>9.600</td>\n",
       "      <td>6.144</td>\n",
       "    </tr>\n",
       "    <tr>\n",
       "      <th>144</th>\n",
       "      <td>Pike</td>\n",
       "      <td>1650.0</td>\n",
       "      <td>10.812</td>\n",
       "      <td>7.480</td>\n",
       "    </tr>\n",
       "  </tbody>\n",
       "</table>\n",
       "</div>"
      ],
      "text/plain": [
       "    Species  Weight  Height  Width\n",
       "142    Pike  1600.0   9.600  6.144\n",
       "143    Pike  1550.0   9.600  6.144\n",
       "144    Pike  1650.0  10.812  7.480"
      ]
     },
     "execution_count": 479,
     "metadata": {},
     "output_type": "execute_result"
    }
   ],
   "source": [
    "df_buf = df\n",
    "data1 = df_new[df_new['Weight'] == 1600.0] \n",
    "data2 = df_new[df_new['Weight'] == 1550.0]\n",
    "data3 = df_new[df_new['Weight'] == 1650.0]\n",
    "pd.concat([data1,data2,data3],axis=0)"
   ]
  },
  {
   "cell_type": "markdown",
   "id": "c0711c45",
   "metadata": {},
   "source": [
    "<font size='3'>\n",
    "There are no outliers in the height and width functions, so the above action is not necessary. In the next step these outliers are removed from the dataframe.\n",
    "</font>    "
   ]
  },
  {
   "cell_type": "code",
   "execution_count": 497,
   "id": "a32604ed",
   "metadata": {},
   "outputs": [
    {
     "data": {
      "text/plain": [
       "(155, 4)"
      ]
     },
     "execution_count": 497,
     "metadata": {},
     "output_type": "execute_result"
    }
   ],
   "source": [
    "#The above outliers are removed from the data frame as follows\n",
    "df_new = df_new.drop([142,143,144],axis=0)\n",
    "df_new.shape"
   ]
  },
  {
   "cell_type": "code",
   "execution_count": 498,
   "id": "076c7fda",
   "metadata": {},
   "outputs": [
    {
     "data": {
      "text/html": [
       "<div>\n",
       "<style scoped>\n",
       "    .dataframe tbody tr th:only-of-type {\n",
       "        vertical-align: middle;\n",
       "    }\n",
       "\n",
       "    .dataframe tbody tr th {\n",
       "        vertical-align: top;\n",
       "    }\n",
       "\n",
       "    .dataframe thead th {\n",
       "        text-align: right;\n",
       "    }\n",
       "</style>\n",
       "<table border=\"1\" class=\"dataframe\">\n",
       "  <thead>\n",
       "    <tr style=\"text-align: right;\">\n",
       "      <th></th>\n",
       "      <th>count</th>\n",
       "      <th>mean</th>\n",
       "      <th>std</th>\n",
       "      <th>min</th>\n",
       "      <th>25%</th>\n",
       "      <th>50%</th>\n",
       "      <th>75%</th>\n",
       "      <th>max</th>\n",
       "    </tr>\n",
       "  </thead>\n",
       "  <tbody>\n",
       "    <tr>\n",
       "      <th>Weight</th>\n",
       "      <td>155.0</td>\n",
       "      <td>377.638065</td>\n",
       "      <td>319.144511</td>\n",
       "      <td>5.9000</td>\n",
       "      <td>120.00000</td>\n",
       "      <td>272.0000</td>\n",
       "      <td>615.00000</td>\n",
       "      <td>1250.000</td>\n",
       "    </tr>\n",
       "    <tr>\n",
       "      <th>Height</th>\n",
       "      <td>155.0</td>\n",
       "      <td>8.967102</td>\n",
       "      <td>4.333722</td>\n",
       "      <td>1.7284</td>\n",
       "      <td>5.92695</td>\n",
       "      <td>7.6800</td>\n",
       "      <td>12.37930</td>\n",
       "      <td>18.957</td>\n",
       "    </tr>\n",
       "    <tr>\n",
       "      <th>Width</th>\n",
       "      <td>155.0</td>\n",
       "      <td>4.382326</td>\n",
       "      <td>1.675564</td>\n",
       "      <td>1.0476</td>\n",
       "      <td>3.38565</td>\n",
       "      <td>4.2476</td>\n",
       "      <td>5.47275</td>\n",
       "      <td>8.142</td>\n",
       "    </tr>\n",
       "  </tbody>\n",
       "</table>\n",
       "</div>"
      ],
      "text/plain": [
       "        count        mean         std     min        25%       50%        75%  \\\n",
       "Weight  155.0  377.638065  319.144511  5.9000  120.00000  272.0000  615.00000   \n",
       "Height  155.0    8.967102    4.333722  1.7284    5.92695    7.6800   12.37930   \n",
       "Width   155.0    4.382326    1.675564  1.0476    3.38565    4.2476    5.47275   \n",
       "\n",
       "             max  \n",
       "Weight  1250.000  \n",
       "Height    18.957  \n",
       "Width      8.142  "
      ]
     },
     "execution_count": 498,
     "metadata": {},
     "output_type": "execute_result"
    }
   ],
   "source": [
    "#At the end T implies transpose. This displays rows as column and columns as row\n",
    "df_new.describe().T"
   ]
  },
  {
   "cell_type": "markdown",
   "id": "768cd154",
   "metadata": {},
   "source": [
    "# Step7 : Build Machine Learning Model"
   ]
  },
  {
   "cell_type": "code",
   "execution_count": 502,
   "id": "bd0ae9b4",
   "metadata": {},
   "outputs": [
    {
     "data": {
      "text/html": [
       "<div>\n",
       "<style scoped>\n",
       "    .dataframe tbody tr th:only-of-type {\n",
       "        vertical-align: middle;\n",
       "    }\n",
       "\n",
       "    .dataframe tbody tr th {\n",
       "        vertical-align: top;\n",
       "    }\n",
       "\n",
       "    .dataframe thead th {\n",
       "        text-align: right;\n",
       "    }\n",
       "</style>\n",
       "<table border=\"1\" class=\"dataframe\">\n",
       "  <thead>\n",
       "    <tr style=\"text-align: right;\">\n",
       "      <th></th>\n",
       "      <th>Height</th>\n",
       "      <th>Width</th>\n",
       "    </tr>\n",
       "  </thead>\n",
       "  <tbody>\n",
       "    <tr>\n",
       "      <th>0</th>\n",
       "      <td>11.5200</td>\n",
       "      <td>4.0200</td>\n",
       "    </tr>\n",
       "    <tr>\n",
       "      <th>1</th>\n",
       "      <td>12.4800</td>\n",
       "      <td>4.3056</td>\n",
       "    </tr>\n",
       "    <tr>\n",
       "      <th>2</th>\n",
       "      <td>12.3778</td>\n",
       "      <td>4.6961</td>\n",
       "    </tr>\n",
       "    <tr>\n",
       "      <th>3</th>\n",
       "      <td>12.7300</td>\n",
       "      <td>4.4555</td>\n",
       "    </tr>\n",
       "    <tr>\n",
       "      <th>4</th>\n",
       "      <td>12.4440</td>\n",
       "      <td>5.1340</td>\n",
       "    </tr>\n",
       "  </tbody>\n",
       "</table>\n",
       "</div>"
      ],
      "text/plain": [
       "    Height   Width\n",
       "0  11.5200  4.0200\n",
       "1  12.4800  4.3056\n",
       "2  12.3778  4.6961\n",
       "3  12.7300  4.4555\n",
       "4  12.4440  5.1340"
      ]
     },
     "execution_count": 502,
     "metadata": {},
     "output_type": "execute_result"
    }
   ],
   "source": [
    "#First let's get feature matrix X and target variable Y\n",
    "X = df_new[['Height','Width']]\n",
    "y = df_new['Weight']\n",
    "X.head()"
   ]
  },
  {
   "cell_type": "code",
   "execution_count": 648,
   "id": "1a6689e8",
   "metadata": {},
   "outputs": [],
   "source": [
    "from sklearn.model_selection import train_test_split   #To split into train and test\n",
    "from sklearn.preprocessing   import MinMaxScaler       #To normalize different scale data\n",
    "from sklearn.preprocessing   import StandardScaler\n",
    "from sklearn.preprocessing   import LabelEncoder\n",
    "from sklearn.linear_model    import LinearRegression"
   ]
  },
  {
   "cell_type": "code",
   "execution_count": 503,
   "id": "007a889b",
   "metadata": {},
   "outputs": [],
   "source": [
    "#80% of data taken for training and 20% for test\n",
    "X_train,X_test,y_train,y_test = train_test_split(X,y,test_size=0.2,random_state=42)        "
   ]
  },
  {
   "cell_type": "code",
   "execution_count": 524,
   "id": "86be2942",
   "metadata": {},
   "outputs": [
    {
     "name": "stdout",
     "output_type": "stream",
     "text": [
      "The shape of X_train is (124, 2)\n",
      "The shape of X_test is (31, 2)\n",
      "The shape of y_train is (124,)\n",
      "The shape of y_test is (31,)\n"
     ]
    }
   ],
   "source": [
    "def shape_of_data(str,input_):    \n",
    "        print(f'The shape of {str} is {input_.shape}')\n",
    "\n",
    "shape_of_data('X_train',X_train)\n",
    "shape_of_data('X_test',X_test)\n",
    "shape_of_data('y_train',y_train)\n",
    "shape_of_data('y_test',y_test)"
   ]
  },
  {
   "cell_type": "markdown",
   "id": "b7829515",
   "metadata": {},
   "source": [
    "# Step 8: Normalization of Data\n",
    "\n",
    "When data is split, the height and width parameters are considered features. However, the height and the width are in different scales. If we train the model with data as is, then larger values of height compared to width will <b style='color:red'>dominate the learning process</b>. Therefore, we should normalize the data to be in the same range. This is accomplished using <b style='color:blue'>fit_transform</b> in the training data and just <b>transform</b> in test data. In the following, the model without scaling data is first examined and later the same process is repeated with scaled data to determine the meaning of the scaling data."
   ]
  },
  {
   "cell_type": "code",
   "execution_count": 549,
   "id": "d9a1dff4",
   "metadata": {},
   "outputs": [
    {
     "data": {
      "text/plain": [
       "LinearRegression()"
      ]
     },
     "execution_count": 549,
     "metadata": {},
     "output_type": "execute_result"
    }
   ],
   "source": [
    "model = LinearRegression()\n",
    "model.fit(X_train,y_train)"
   ]
  },
  {
   "cell_type": "code",
   "execution_count": 550,
   "id": "009117a1",
   "metadata": {},
   "outputs": [
    {
     "name": "stdout",
     "output_type": "stream",
     "text": [
      "The coefficient of model is      [ 10.40686081 151.73209963]\n",
      "The intercept of linear model is -386.1676143554406 \n",
      "The model accuracy is            0.8960229976573091\n"
     ]
    }
   ],
   "source": [
    "print(f'The coefficient of model is      {model.coef_}')\n",
    "print(f'The intercept of linear model is {model.intercept_} ')\n",
    "print(f'The model accuracy is            {model.score(X_test,y_test)}')"
   ]
  },
  {
   "cell_type": "code",
   "execution_count": 603,
   "id": "df5b12f8",
   "metadata": {},
   "outputs": [
    {
     "data": {
      "text/html": [
       "<div>\n",
       "<style scoped>\n",
       "    .dataframe tbody tr th:only-of-type {\n",
       "        vertical-align: middle;\n",
       "    }\n",
       "\n",
       "    .dataframe tbody tr th {\n",
       "        vertical-align: top;\n",
       "    }\n",
       "\n",
       "    .dataframe thead th {\n",
       "        text-align: right;\n",
       "    }\n",
       "</style>\n",
       "<table border=\"1\" class=\"dataframe\">\n",
       "  <thead>\n",
       "    <tr style=\"text-align: right;\">\n",
       "      <th></th>\n",
       "      <th>82</th>\n",
       "      <th>146</th>\n",
       "      <th>31</th>\n",
       "      <th>29</th>\n",
       "      <th>119</th>\n",
       "      <th>61</th>\n",
       "      <th>94</th>\n",
       "      <th>151</th>\n",
       "      <th>157</th>\n",
       "      <th>69</th>\n",
       "      <th>...</th>\n",
       "      <th>12</th>\n",
       "      <th>9</th>\n",
       "      <th>24</th>\n",
       "      <th>70</th>\n",
       "      <th>132</th>\n",
       "      <th>96</th>\n",
       "      <th>46</th>\n",
       "      <th>87</th>\n",
       "      <th>85</th>\n",
       "      <th>127</th>\n",
       "    </tr>\n",
       "  </thead>\n",
       "  <tbody>\n",
       "    <tr>\n",
       "      <th>y_predicted1</th>\n",
       "      <td>1517.176828</td>\n",
       "      <td>748.774556</td>\n",
       "      <td>2745.633312</td>\n",
       "      <td>2862.193439</td>\n",
       "      <td>2687.547623</td>\n",
       "      <td>1254.876795</td>\n",
       "      <td>1514.80853</td>\n",
       "      <td>790.628099</td>\n",
       "      <td>1017.952134</td>\n",
       "      <td>1745.033687</td>\n",
       "      <td>...</td>\n",
       "      <td>2070.845429</td>\n",
       "      <td>2241.163887</td>\n",
       "      <td>2487.744604</td>\n",
       "      <td>1898.987934</td>\n",
       "      <td>1845.369462</td>\n",
       "      <td>1628.729398</td>\n",
       "      <td>1495.668406</td>\n",
       "      <td>1507.297959</td>\n",
       "      <td>1541.605022</td>\n",
       "      <td>2835.954501</td>\n",
       "    </tr>\n",
       "    <tr>\n",
       "      <th>y_predict2</th>\n",
       "      <td>1517.176828</td>\n",
       "      <td>748.774556</td>\n",
       "      <td>2745.633312</td>\n",
       "      <td>2862.193439</td>\n",
       "      <td>2687.547623</td>\n",
       "      <td>1254.876795</td>\n",
       "      <td>1514.80853</td>\n",
       "      <td>790.628099</td>\n",
       "      <td>1017.952134</td>\n",
       "      <td>1745.033687</td>\n",
       "      <td>...</td>\n",
       "      <td>2070.845429</td>\n",
       "      <td>2241.163887</td>\n",
       "      <td>2487.744604</td>\n",
       "      <td>1898.987934</td>\n",
       "      <td>1845.369462</td>\n",
       "      <td>1628.729398</td>\n",
       "      <td>1495.668406</td>\n",
       "      <td>1507.297959</td>\n",
       "      <td>1541.605022</td>\n",
       "      <td>2835.954501</td>\n",
       "    </tr>\n",
       "  </tbody>\n",
       "</table>\n",
       "<p>2 rows × 31 columns</p>\n",
       "</div>"
      ],
      "text/plain": [
       "                      82          146          31           29           119  \\\n",
       "y_predicted1  1517.176828  748.774556  2745.633312  2862.193439  2687.547623   \n",
       "y_predict2    1517.176828  748.774556  2745.633312  2862.193439  2687.547623   \n",
       "\n",
       "                      61          94          151          157          69   \\\n",
       "y_predicted1  1254.876795  1514.80853  790.628099  1017.952134  1745.033687   \n",
       "y_predict2    1254.876795  1514.80853  790.628099  1017.952134  1745.033687   \n",
       "\n",
       "              ...          12           9            24           70   \\\n",
       "y_predicted1  ...  2070.845429  2241.163887  2487.744604  1898.987934   \n",
       "y_predict2    ...  2070.845429  2241.163887  2487.744604  1898.987934   \n",
       "\n",
       "                      132          96           46           87           85   \\\n",
       "y_predicted1  1845.369462  1628.729398  1495.668406  1507.297959  1541.605022   \n",
       "y_predict2    1845.369462  1628.729398  1495.668406  1507.297959  1541.605022   \n",
       "\n",
       "                      127  \n",
       "y_predicted1  2835.954501  \n",
       "y_predict2    2835.954501  \n",
       "\n",
       "[2 rows x 31 columns]"
      ]
     },
     "execution_count": 603,
     "metadata": {},
     "output_type": "execute_result"
    }
   ],
   "source": [
    "#Here shows manually how model.predict calculates y_predict and compared with the outcome of model.predict\n",
    "y_predict = model.coef_[0]*X_test['Height'] + model.coef_[1]*X_test['Width'] + model.intercept_\n",
    "\n",
    "predicted_y = pd.DataFrame({'y_predicted1':y_predict,'y_predict2':model.predict(X_test)})\n",
    "predicted_y.T"
   ]
  },
  {
   "cell_type": "code",
   "execution_count": 604,
   "id": "233aa433",
   "metadata": {},
   "outputs": [
    {
     "data": {
      "text/html": [
       "<div>\n",
       "<style scoped>\n",
       "    .dataframe tbody tr th:only-of-type {\n",
       "        vertical-align: middle;\n",
       "    }\n",
       "\n",
       "    .dataframe tbody tr th {\n",
       "        vertical-align: top;\n",
       "    }\n",
       "\n",
       "    .dataframe thead th {\n",
       "        text-align: right;\n",
       "    }\n",
       "</style>\n",
       "<table border=\"1\" class=\"dataframe\">\n",
       "  <thead>\n",
       "    <tr style=\"text-align: right;\">\n",
       "      <th></th>\n",
       "      <th>Weight</th>\n",
       "      <th>Predicted_Weight</th>\n",
       "    </tr>\n",
       "  </thead>\n",
       "  <tbody>\n",
       "    <tr>\n",
       "      <th>0</th>\n",
       "      <td>110.0</td>\n",
       "      <td>1517.176828</td>\n",
       "    </tr>\n",
       "    <tr>\n",
       "      <th>1</th>\n",
       "      <td>7.5</td>\n",
       "      <td>748.774556</td>\n",
       "    </tr>\n",
       "    <tr>\n",
       "      <th>2</th>\n",
       "      <td>955.0</td>\n",
       "      <td>2745.633312</td>\n",
       "    </tr>\n",
       "    <tr>\n",
       "      <th>3</th>\n",
       "      <td>1000.0</td>\n",
       "      <td>2862.193439</td>\n",
       "    </tr>\n",
       "    <tr>\n",
       "      <th>4</th>\n",
       "      <td>850.0</td>\n",
       "      <td>2687.547623</td>\n",
       "    </tr>\n",
       "  </tbody>\n",
       "</table>\n",
       "</div>"
      ],
      "text/plain": [
       "   Weight  Predicted_Weight\n",
       "0   110.0       1517.176828\n",
       "1     7.5        748.774556\n",
       "2   955.0       2745.633312\n",
       "3  1000.0       2862.193439\n",
       "4   850.0       2687.547623"
      ]
     },
     "execution_count": 604,
     "metadata": {},
     "output_type": "execute_result"
    }
   ],
   "source": [
    "actual_weight     = pd.DataFrame(y_test,columns=['Weight'])\n",
    "actual_weight     = actual_weight.reset_index(drop=True)\n",
    "predicted_weight  = pd.DataFrame(model.predict(X_test),columns=['Predicted_Weight'])\n",
    "model_comparison  = pd.concat([actual_weight,predicted_weight],axis=1)\n",
    "model_comparison.head()"
   ]
  },
  {
   "cell_type": "code",
   "execution_count": 581,
   "id": "6fa96836",
   "metadata": {},
   "outputs": [
    {
     "data": {
      "image/png": "[encoded data removed]",
      "text/plain": [
       "<Figure size 720x432 with 1 Axes>"
      ]
     },
     "metadata": {},
     "output_type": "display_data"
    }
   ],
   "source": [
    "fig = plt.figure(figsize=(10,6))\n",
    "plt.title('Predicted and Actual Weight')\n",
    "plt.xlabel('Actual weight from test data')\n",
    "plt.ylabel('Predicted weight by the model')\n",
    "plt.scatter(y_test,model.predict(X_test));"
   ]
  },
  {
   "cell_type": "markdown",
   "id": "8ec26912",
   "metadata": {},
   "source": [
    "<font size='3'>\n",
    "The <b>StandardScaler()</b> is a class, so first the instance of class is created and then <b>fit_transform()</b> method is applied for train data and just <b>transform</b> for test data.   \n",
    "</font>    "
   ]
  },
  {
   "cell_type": "code",
   "execution_count": 575,
   "id": "b78c1d39",
   "metadata": {},
   "outputs": [],
   "source": [
    "model_ss       = LinearRegression()\n",
    "SS             = StandardScaler()\n",
    "df_sklearn     = X_train.copy()\n",
    "X_train_scaled = SS.fit_transform(df_sklearn)\n",
    "X_test_scaled  = SS.transform(X_test)"
   ]
  },
  {
   "cell_type": "code",
   "execution_count": 576,
   "id": "51a8c9a9",
   "metadata": {},
   "outputs": [
    {
     "name": "stdout",
     "output_type": "stream",
     "text": [
      "The coefficient of model is      [ 43.03934424 253.97678128]\n",
      "The intercept of linear model is 369.2879032258065 \n",
      "The model accuracy is            0.8960229976573091\n"
     ]
    }
   ],
   "source": [
    "model_ss.fit(X_train_scaled,y_train)\n",
    "\n",
    "print(f'The coefficient of model is      {model_ss.coef_}')\n",
    "print(f'The intercept of linear model is {model_ss.intercept_} ')\n",
    "print(f'The model accuracy is            {model_ss.score(X_test_scaled,y_test)}')"
   ]
  },
  {
   "cell_type": "markdown",
   "id": "564b63e8",
   "metadata": {},
   "source": [
    "<font size='3'>\n",
    "Even after scaled data, the model accuracy has not improved. The model parameters such as coefficients and intercept are changed, but the precision remains the same. Below, the predicted values from scaled and unscaled data are compared in a scatter plot. It shows that the predicted values for these two cases are almost exactly the same.\n",
    "</font>    "
   ]
  },
  {
   "cell_type": "code",
   "execution_count": 583,
   "id": "65fefb87",
   "metadata": {},
   "outputs": [
    {
     "data": {
      "image/png": "[encoded data removed]",
      "text/plain": [
       "<Figure size 720x432 with 1 Axes>"
      ]
     },
     "metadata": {},
     "output_type": "display_data"
    }
   ],
   "source": [
    "fig = plt.figure(figsize=(10,6))\n",
    "plt.title('Predicted and Actual Weight')\n",
    "plt.xlabel('Actual weight from test data')\n",
    "plt.ylabel('Predicted weight by the model')\n",
    "#with unscaled data\n",
    "plt.scatter(y_test,model.predict(X_test));\n",
    "#with scale data\n",
    "plt.scatter(y_test,model_ss.predict(X_test_scaled),color='red',marker='v');"
   ]
  },
  {
   "cell_type": "code",
   "execution_count": 586,
   "id": "09ccfc76",
   "metadata": {},
   "outputs": [
    {
     "data": {
      "text/plain": [
       "array([1517.17682779,  748.77455636, 2745.63331236, 2862.19343886,\n",
       "       2687.54762347, 1254.87679459, 1514.80853009,  790.62809926,\n",
       "       1017.95213363, 1745.03368681, 1572.64020453, 2065.20924319,\n",
       "       1386.52901778, 1313.82511676, 2450.91973921, 2446.90817641,\n",
       "       2747.23802721, 1541.73815848, 2771.40781324, 1941.51739841,\n",
       "       2345.98797153, 2070.84542918, 2241.16388713, 2487.744604  ,\n",
       "       1898.98793383, 1845.3694623 , 1628.72939751, 1495.66840578,\n",
       "       1507.29795878, 1541.60502193, 2835.95450087])"
      ]
     },
     "execution_count": 586,
     "metadata": {},
     "output_type": "execute_result"
    }
   ],
   "source": [
    "model.predict(X_test)"
   ]
  },
  {
   "cell_type": "markdown",
   "id": "83cd0f91",
   "metadata": {},
   "source": [
    "# Conclusion\n",
    "\n",
    "#### 1) We examined the data and explained each step as fully as possible\n",
    "#### 2) The presence of missing values is checked and fortunately no such values are found\n",
    "#### 3) Strongly correlated features are discarded to avoid multicollinearity\n",
    "#### 4) Different data visualization techniques are used to get a better insight into the data\n",
    "#### 6) To detect outliers, the help of boxplot is used and with the help of percentiles, outliers are removed from the data\n",
    "#### 7) A linear model is designed with 80% train data and 20% data to test model accuracy\n",
    "#### 8) How the model works and how the model predicts the value is displayed manually and compared to the result of model.predict"
   ]
  },
  {
   "cell_type": "code",
   "execution_count": null,
   "id": "85ba3490",
   "metadata": {},
   "outputs": [],
   "source": []
  },
  {
   "cell_type": "markdown",
   "id": "f25c7aab",
   "metadata": {},
   "source": [
    "# Develop Machine learning model to predict fish type<br>\n",
    "\n",
    "\n",
    "<font size='3'>\n",
    "Above, we built a machine learning model to predict the weight of fish using information about the fish's width and height. However, below we use a different approach. In the following we try to predict the fish species with the information weight, height and width. To do this, categorical data is first converted into numerical data using <b>sklearn's LabelEncoder</b>.\n",
    "</font>    \n"
   ]
  },
  {
   "cell_type": "code",
   "execution_count": 759,
   "id": "01568bed",
   "metadata": {},
   "outputs": [],
   "source": [
    "df2 = df_new"
   ]
  },
  {
   "cell_type": "code",
   "execution_count": 760,
   "id": "56ef3d75",
   "metadata": {},
   "outputs": [],
   "source": [
    "labels     = LabelEncoder()\n",
    "fit_labels = labels.fit(df2['Species'])"
   ]
  },
  {
   "cell_type": "code",
   "execution_count": 761,
   "id": "d3569576",
   "metadata": {},
   "outputs": [
    {
     "data": {
      "text/plain": [
       "array(['Bream', 'Parkki', 'Perch', 'Pike', 'Roach', 'Smelt', 'Whitefish'],\n",
       "      dtype=object)"
      ]
     },
     "execution_count": 761,
     "metadata": {},
     "output_type": "execute_result"
    }
   ],
   "source": [
    "fit_labels.classes_"
   ]
  },
  {
   "cell_type": "code",
   "execution_count": 749,
   "id": "c9694ed1",
   "metadata": {},
   "outputs": [
    {
     "data": {
      "text/plain": [
       "array([0, 1, 2, 3, 4, 5, 6])"
      ]
     },
     "execution_count": 749,
     "metadata": {},
     "output_type": "execute_result"
    }
   ],
   "source": [
    "numeric_class = fit_labels.transform(fit_labels.classes_)\n",
    "numeric_class"
   ]
  },
  {
   "cell_type": "code",
   "execution_count": 750,
   "id": "1940023c",
   "metadata": {},
   "outputs": [
    {
     "data": {
      "text/plain": [
       "array([0, 1, 2, 3, 4, 5, 6])"
      ]
     },
     "execution_count": 750,
     "metadata": {},
     "output_type": "execute_result"
    }
   ],
   "source": [
    "#Above classes can get as folows\n",
    "fit_labels.inverse_transform(numeric_class)"
   ]
  },
  {
   "cell_type": "code",
   "execution_count": 769,
   "id": "06360888",
   "metadata": {},
   "outputs": [
    {
     "data": {
      "text/html": [
       "<div>\n",
       "<style scoped>\n",
       "    .dataframe tbody tr th:only-of-type {\n",
       "        vertical-align: middle;\n",
       "    }\n",
       "\n",
       "    .dataframe tbody tr th {\n",
       "        vertical-align: top;\n",
       "    }\n",
       "\n",
       "    .dataframe thead th {\n",
       "        text-align: right;\n",
       "    }\n",
       "</style>\n",
       "<table border=\"1\" class=\"dataframe\">\n",
       "  <thead>\n",
       "    <tr style=\"text-align: right;\">\n",
       "      <th></th>\n",
       "      <th>0</th>\n",
       "      <th>1</th>\n",
       "      <th>2</th>\n",
       "      <th>3</th>\n",
       "      <th>4</th>\n",
       "      <th>5</th>\n",
       "      <th>6</th>\n",
       "      <th>7</th>\n",
       "      <th>8</th>\n",
       "      <th>9</th>\n",
       "      <th>...</th>\n",
       "      <th>149</th>\n",
       "      <th>150</th>\n",
       "      <th>151</th>\n",
       "      <th>152</th>\n",
       "      <th>153</th>\n",
       "      <th>154</th>\n",
       "      <th>155</th>\n",
       "      <th>156</th>\n",
       "      <th>157</th>\n",
       "      <th>158</th>\n",
       "    </tr>\n",
       "  </thead>\n",
       "  <tbody>\n",
       "    <tr>\n",
       "      <th>Species</th>\n",
       "      <td>Bream</td>\n",
       "      <td>Bream</td>\n",
       "      <td>Bream</td>\n",
       "      <td>Bream</td>\n",
       "      <td>Bream</td>\n",
       "      <td>Bream</td>\n",
       "      <td>Bream</td>\n",
       "      <td>Bream</td>\n",
       "      <td>Bream</td>\n",
       "      <td>Bream</td>\n",
       "      <td>...</td>\n",
       "      <td>Smelt</td>\n",
       "      <td>Smelt</td>\n",
       "      <td>Smelt</td>\n",
       "      <td>Smelt</td>\n",
       "      <td>Smelt</td>\n",
       "      <td>Smelt</td>\n",
       "      <td>Smelt</td>\n",
       "      <td>Smelt</td>\n",
       "      <td>Smelt</td>\n",
       "      <td>Smelt</td>\n",
       "    </tr>\n",
       "    <tr>\n",
       "      <th>Weight</th>\n",
       "      <td>242.0</td>\n",
       "      <td>290.0</td>\n",
       "      <td>340.0</td>\n",
       "      <td>363.0</td>\n",
       "      <td>430.0</td>\n",
       "      <td>450.0</td>\n",
       "      <td>500.0</td>\n",
       "      <td>390.0</td>\n",
       "      <td>450.0</td>\n",
       "      <td>500.0</td>\n",
       "      <td>...</td>\n",
       "      <td>9.8</td>\n",
       "      <td>8.7</td>\n",
       "      <td>10.0</td>\n",
       "      <td>9.9</td>\n",
       "      <td>9.8</td>\n",
       "      <td>12.2</td>\n",
       "      <td>13.4</td>\n",
       "      <td>12.2</td>\n",
       "      <td>19.7</td>\n",
       "      <td>19.9</td>\n",
       "    </tr>\n",
       "    <tr>\n",
       "      <th>Length1</th>\n",
       "      <td>23.2</td>\n",
       "      <td>24.0</td>\n",
       "      <td>23.9</td>\n",
       "      <td>26.3</td>\n",
       "      <td>26.5</td>\n",
       "      <td>26.8</td>\n",
       "      <td>26.8</td>\n",
       "      <td>27.6</td>\n",
       "      <td>27.6</td>\n",
       "      <td>28.5</td>\n",
       "      <td>...</td>\n",
       "      <td>10.7</td>\n",
       "      <td>10.8</td>\n",
       "      <td>11.3</td>\n",
       "      <td>11.3</td>\n",
       "      <td>11.4</td>\n",
       "      <td>11.5</td>\n",
       "      <td>11.7</td>\n",
       "      <td>12.1</td>\n",
       "      <td>13.2</td>\n",
       "      <td>13.8</td>\n",
       "    </tr>\n",
       "    <tr>\n",
       "      <th>Length2</th>\n",
       "      <td>25.4</td>\n",
       "      <td>26.3</td>\n",
       "      <td>26.5</td>\n",
       "      <td>29.0</td>\n",
       "      <td>29.0</td>\n",
       "      <td>29.7</td>\n",
       "      <td>29.7</td>\n",
       "      <td>30.0</td>\n",
       "      <td>30.0</td>\n",
       "      <td>30.7</td>\n",
       "      <td>...</td>\n",
       "      <td>11.2</td>\n",
       "      <td>11.3</td>\n",
       "      <td>11.8</td>\n",
       "      <td>11.8</td>\n",
       "      <td>12.0</td>\n",
       "      <td>12.2</td>\n",
       "      <td>12.4</td>\n",
       "      <td>13.0</td>\n",
       "      <td>14.3</td>\n",
       "      <td>15.0</td>\n",
       "    </tr>\n",
       "    <tr>\n",
       "      <th>Length3</th>\n",
       "      <td>30.0</td>\n",
       "      <td>31.2</td>\n",
       "      <td>31.1</td>\n",
       "      <td>33.5</td>\n",
       "      <td>34.0</td>\n",
       "      <td>34.7</td>\n",
       "      <td>34.5</td>\n",
       "      <td>35.0</td>\n",
       "      <td>35.1</td>\n",
       "      <td>36.2</td>\n",
       "      <td>...</td>\n",
       "      <td>12.4</td>\n",
       "      <td>12.6</td>\n",
       "      <td>13.1</td>\n",
       "      <td>13.1</td>\n",
       "      <td>13.2</td>\n",
       "      <td>13.4</td>\n",
       "      <td>13.5</td>\n",
       "      <td>13.8</td>\n",
       "      <td>15.2</td>\n",
       "      <td>16.2</td>\n",
       "    </tr>\n",
       "    <tr>\n",
       "      <th>Height</th>\n",
       "      <td>11.52</td>\n",
       "      <td>12.48</td>\n",
       "      <td>12.3778</td>\n",
       "      <td>12.73</td>\n",
       "      <td>12.444</td>\n",
       "      <td>13.6024</td>\n",
       "      <td>14.1795</td>\n",
       "      <td>12.67</td>\n",
       "      <td>14.0049</td>\n",
       "      <td>14.2266</td>\n",
       "      <td>...</td>\n",
       "      <td>2.0832</td>\n",
       "      <td>1.9782</td>\n",
       "      <td>2.2139</td>\n",
       "      <td>2.2139</td>\n",
       "      <td>2.2044</td>\n",
       "      <td>2.0904</td>\n",
       "      <td>2.43</td>\n",
       "      <td>2.277</td>\n",
       "      <td>2.8728</td>\n",
       "      <td>2.9322</td>\n",
       "    </tr>\n",
       "    <tr>\n",
       "      <th>Width</th>\n",
       "      <td>4.02</td>\n",
       "      <td>4.3056</td>\n",
       "      <td>4.6961</td>\n",
       "      <td>4.4555</td>\n",
       "      <td>5.134</td>\n",
       "      <td>4.9274</td>\n",
       "      <td>5.2785</td>\n",
       "      <td>4.69</td>\n",
       "      <td>4.8438</td>\n",
       "      <td>4.9594</td>\n",
       "      <td>...</td>\n",
       "      <td>1.2772</td>\n",
       "      <td>1.2852</td>\n",
       "      <td>1.2838</td>\n",
       "      <td>1.1659</td>\n",
       "      <td>1.1484</td>\n",
       "      <td>1.3936</td>\n",
       "      <td>1.269</td>\n",
       "      <td>1.2558</td>\n",
       "      <td>2.0672</td>\n",
       "      <td>1.8792</td>\n",
       "    </tr>\n",
       "  </tbody>\n",
       "</table>\n",
       "<p>7 rows × 158 columns</p>\n",
       "</div>"
      ],
      "text/plain": [
       "           0       1        2       3       4        5        6      7    \\\n",
       "Species  Bream   Bream    Bream   Bream   Bream    Bream    Bream  Bream   \n",
       "Weight   242.0   290.0    340.0   363.0   430.0    450.0    500.0  390.0   \n",
       "Length1   23.2    24.0     23.9    26.3    26.5     26.8     26.8   27.6   \n",
       "Length2   25.4    26.3     26.5    29.0    29.0     29.7     29.7   30.0   \n",
       "Length3   30.0    31.2     31.1    33.5    34.0     34.7     34.5   35.0   \n",
       "Height   11.52   12.48  12.3778   12.73  12.444  13.6024  14.1795  12.67   \n",
       "Width     4.02  4.3056   4.6961  4.4555   5.134   4.9274   5.2785   4.69   \n",
       "\n",
       "             8        9    ...     149     150     151     152     153  \\\n",
       "Species    Bream    Bream  ...   Smelt   Smelt   Smelt   Smelt   Smelt   \n",
       "Weight     450.0    500.0  ...     9.8     8.7    10.0     9.9     9.8   \n",
       "Length1     27.6     28.5  ...    10.7    10.8    11.3    11.3    11.4   \n",
       "Length2     30.0     30.7  ...    11.2    11.3    11.8    11.8    12.0   \n",
       "Length3     35.1     36.2  ...    12.4    12.6    13.1    13.1    13.2   \n",
       "Height   14.0049  14.2266  ...  2.0832  1.9782  2.2139  2.2139  2.2044   \n",
       "Width     4.8438   4.9594  ...  1.2772  1.2852  1.2838  1.1659  1.1484   \n",
       "\n",
       "            154    155     156     157     158  \n",
       "Species   Smelt  Smelt   Smelt   Smelt   Smelt  \n",
       "Weight     12.2   13.4    12.2    19.7    19.9  \n",
       "Length1    11.5   11.7    12.1    13.2    13.8  \n",
       "Length2    12.2   12.4    13.0    14.3    15.0  \n",
       "Length3    13.4   13.5    13.8    15.2    16.2  \n",
       "Height   2.0904   2.43   2.277  2.8728  2.9322  \n",
       "Width    1.3936  1.269  1.2558  2.0672  1.8792  \n",
       "\n",
       "[7 rows x 158 columns]"
      ]
     },
     "execution_count": 769,
     "metadata": {},
     "output_type": "execute_result"
    }
   ],
   "source": [
    "df2.T"
   ]
  },
  {
   "cell_type": "code",
   "execution_count": 771,
   "id": "1a3c1599",
   "metadata": {},
   "outputs": [
    {
     "data": {
      "text/html": [
       "<div>\n",
       "<style scoped>\n",
       "    .dataframe tbody tr th:only-of-type {\n",
       "        vertical-align: middle;\n",
       "    }\n",
       "\n",
       "    .dataframe tbody tr th {\n",
       "        vertical-align: top;\n",
       "    }\n",
       "\n",
       "    .dataframe thead th {\n",
       "        text-align: right;\n",
       "    }\n",
       "</style>\n",
       "<table border=\"1\" class=\"dataframe\">\n",
       "  <thead>\n",
       "    <tr style=\"text-align: right;\">\n",
       "      <th></th>\n",
       "      <th>Species</th>\n",
       "      <th>Weight</th>\n",
       "      <th>Length1</th>\n",
       "      <th>Length2</th>\n",
       "      <th>Length3</th>\n",
       "      <th>Height</th>\n",
       "      <th>Width</th>\n",
       "    </tr>\n",
       "  </thead>\n",
       "  <tbody>\n",
       "    <tr>\n",
       "      <th>0</th>\n",
       "      <td>0</td>\n",
       "      <td>242.0</td>\n",
       "      <td>23.2</td>\n",
       "      <td>25.4</td>\n",
       "      <td>30.0</td>\n",
       "      <td>11.5200</td>\n",
       "      <td>4.0200</td>\n",
       "    </tr>\n",
       "    <tr>\n",
       "      <th>1</th>\n",
       "      <td>0</td>\n",
       "      <td>290.0</td>\n",
       "      <td>24.0</td>\n",
       "      <td>26.3</td>\n",
       "      <td>31.2</td>\n",
       "      <td>12.4800</td>\n",
       "      <td>4.3056</td>\n",
       "    </tr>\n",
       "    <tr>\n",
       "      <th>2</th>\n",
       "      <td>0</td>\n",
       "      <td>340.0</td>\n",
       "      <td>23.9</td>\n",
       "      <td>26.5</td>\n",
       "      <td>31.1</td>\n",
       "      <td>12.3778</td>\n",
       "      <td>4.6961</td>\n",
       "    </tr>\n",
       "    <tr>\n",
       "      <th>3</th>\n",
       "      <td>0</td>\n",
       "      <td>363.0</td>\n",
       "      <td>26.3</td>\n",
       "      <td>29.0</td>\n",
       "      <td>33.5</td>\n",
       "      <td>12.7300</td>\n",
       "      <td>4.4555</td>\n",
       "    </tr>\n",
       "    <tr>\n",
       "      <th>4</th>\n",
       "      <td>0</td>\n",
       "      <td>430.0</td>\n",
       "      <td>26.5</td>\n",
       "      <td>29.0</td>\n",
       "      <td>34.0</td>\n",
       "      <td>12.4440</td>\n",
       "      <td>5.1340</td>\n",
       "    </tr>\n",
       "    <tr>\n",
       "      <th>...</th>\n",
       "      <td>...</td>\n",
       "      <td>...</td>\n",
       "      <td>...</td>\n",
       "      <td>...</td>\n",
       "      <td>...</td>\n",
       "      <td>...</td>\n",
       "      <td>...</td>\n",
       "    </tr>\n",
       "    <tr>\n",
       "      <th>154</th>\n",
       "      <td>5</td>\n",
       "      <td>12.2</td>\n",
       "      <td>11.5</td>\n",
       "      <td>12.2</td>\n",
       "      <td>13.4</td>\n",
       "      <td>2.0904</td>\n",
       "      <td>1.3936</td>\n",
       "    </tr>\n",
       "    <tr>\n",
       "      <th>155</th>\n",
       "      <td>5</td>\n",
       "      <td>13.4</td>\n",
       "      <td>11.7</td>\n",
       "      <td>12.4</td>\n",
       "      <td>13.5</td>\n",
       "      <td>2.4300</td>\n",
       "      <td>1.2690</td>\n",
       "    </tr>\n",
       "    <tr>\n",
       "      <th>156</th>\n",
       "      <td>5</td>\n",
       "      <td>12.2</td>\n",
       "      <td>12.1</td>\n",
       "      <td>13.0</td>\n",
       "      <td>13.8</td>\n",
       "      <td>2.2770</td>\n",
       "      <td>1.2558</td>\n",
       "    </tr>\n",
       "    <tr>\n",
       "      <th>157</th>\n",
       "      <td>5</td>\n",
       "      <td>19.7</td>\n",
       "      <td>13.2</td>\n",
       "      <td>14.3</td>\n",
       "      <td>15.2</td>\n",
       "      <td>2.8728</td>\n",
       "      <td>2.0672</td>\n",
       "    </tr>\n",
       "    <tr>\n",
       "      <th>158</th>\n",
       "      <td>5</td>\n",
       "      <td>19.9</td>\n",
       "      <td>13.8</td>\n",
       "      <td>15.0</td>\n",
       "      <td>16.2</td>\n",
       "      <td>2.9322</td>\n",
       "      <td>1.8792</td>\n",
       "    </tr>\n",
       "  </tbody>\n",
       "</table>\n",
       "<p>158 rows × 7 columns</p>\n",
       "</div>"
      ],
      "text/plain": [
       "     Species  Weight  Length1  Length2  Length3   Height   Width\n",
       "0          0   242.0     23.2     25.4     30.0  11.5200  4.0200\n",
       "1          0   290.0     24.0     26.3     31.2  12.4800  4.3056\n",
       "2          0   340.0     23.9     26.5     31.1  12.3778  4.6961\n",
       "3          0   363.0     26.3     29.0     33.5  12.7300  4.4555\n",
       "4          0   430.0     26.5     29.0     34.0  12.4440  5.1340\n",
       "..       ...     ...      ...      ...      ...      ...     ...\n",
       "154        5    12.2     11.5     12.2     13.4   2.0904  1.3936\n",
       "155        5    13.4     11.7     12.4     13.5   2.4300  1.2690\n",
       "156        5    12.2     12.1     13.0     13.8   2.2770  1.2558\n",
       "157        5    19.7     13.2     14.3     15.2   2.8728  2.0672\n",
       "158        5    19.9     13.8     15.0     16.2   2.9322  1.8792\n",
       "\n",
       "[158 rows x 7 columns]"
      ]
     },
     "execution_count": 771,
     "metadata": {},
     "output_type": "execute_result"
    }
   ],
   "source": [
    "labels     = LabelEncoder()\n",
    "df2['Species'] = labels.fit_transform(df2['Species']) \n",
    "df2"
   ]
  },
  {
   "cell_type": "code",
   "execution_count": 695,
   "id": "0d24550a",
   "metadata": {},
   "outputs": [],
   "source": [
    "XX = df2.drop(['Species'],axis=1)\n",
    "yy = df2['Species']"
   ]
  },
  {
   "cell_type": "markdown",
   "id": "c9333980",
   "metadata": {},
   "source": [
    "#### The table above clearly shows that the Pisces data is aggregated into some sort of block. Therefore, when splitting data, the data must be mixed, otherwise the model railroad will be made with one species of fish and predictions for other species of fish. This, of course, a negative effects model accuracy and reliability."
   ]
  },
  {
   "cell_type": "code",
   "execution_count": 697,
   "id": "35aaec15",
   "metadata": {},
   "outputs": [],
   "source": [
    "X_train,X_test,y_train,y_test = train_test_split(XX,yy,test_size=0.2,random_state=42,shuffle=True)    "
   ]
  },
  {
   "cell_type": "code",
   "execution_count": 714,
   "id": "d36b0e63",
   "metadata": {},
   "outputs": [],
   "source": [
    "model_new       = LinearRegression()\n",
    "SS              = StandardScaler()\n",
    "df_sklearn      = X_train.copy()\n",
    "X_train_scaled = SS.fit_transform(df_sklearn)\n",
    "X_test_scaled  = SS.transform(X_test)"
   ]
  },
  {
   "cell_type": "code",
   "execution_count": 715,
   "id": "d0c88d05",
   "metadata": {},
   "outputs": [
    {
     "data": {
      "text/plain": [
       "LinearRegression()"
      ]
     },
     "execution_count": 715,
     "metadata": {},
     "output_type": "execute_result"
    }
   ],
   "source": [
    "model_new.fit(X_train_scaled,y_train)"
   ]
  },
  {
   "cell_type": "code",
   "execution_count": 716,
   "id": "a8b3a63e",
   "metadata": {},
   "outputs": [
    {
     "name": "stdout",
     "output_type": "stream",
     "text": [
      "The coefficient of linear of model is [ 0.71615338 -1.85758866  0.17299931]\n",
      "The intercept   of linear of model is 2.3387096774193545\n",
      "The accuracy    of model           is 0.7648705103546733\n"
     ]
    }
   ],
   "source": [
    "print(f'The coefficient of linear of model is {model_new.coef_}')\n",
    "print(f'The intercept   of linear of model is {model_new.intercept_}')\n",
    "print(f'The accuracy    of model           is {model_new.score(X_test_scaled,y_test)}')"
   ]
  },
  {
   "cell_type": "code",
   "execution_count": 726,
   "id": "f0b4a95a",
   "metadata": {},
   "outputs": [
    {
     "data": {
      "text/html": [
       "<div>\n",
       "<style scoped>\n",
       "    .dataframe tbody tr th:only-of-type {\n",
       "        vertical-align: middle;\n",
       "    }\n",
       "\n",
       "    .dataframe tbody tr th {\n",
       "        vertical-align: top;\n",
       "    }\n",
       "\n",
       "    .dataframe thead th {\n",
       "        text-align: right;\n",
       "    }\n",
       "</style>\n",
       "<table border=\"1\" class=\"dataframe\">\n",
       "  <thead>\n",
       "    <tr style=\"text-align: right;\">\n",
       "      <th></th>\n",
       "      <th>82</th>\n",
       "      <th>146</th>\n",
       "      <th>31</th>\n",
       "      <th>29</th>\n",
       "      <th>119</th>\n",
       "      <th>61</th>\n",
       "      <th>94</th>\n",
       "      <th>151</th>\n",
       "      <th>157</th>\n",
       "      <th>69</th>\n",
       "      <th>...</th>\n",
       "      <th>12</th>\n",
       "      <th>9</th>\n",
       "      <th>24</th>\n",
       "      <th>70</th>\n",
       "      <th>132</th>\n",
       "      <th>96</th>\n",
       "      <th>46</th>\n",
       "      <th>87</th>\n",
       "      <th>85</th>\n",
       "      <th>127</th>\n",
       "    </tr>\n",
       "  </thead>\n",
       "  <tbody>\n",
       "    <tr>\n",
       "      <th>yReal</th>\n",
       "      <td>2</td>\n",
       "      <td>5</td>\n",
       "      <td>0</td>\n",
       "      <td>0</td>\n",
       "      <td>2</td>\n",
       "      <td>1</td>\n",
       "      <td>2</td>\n",
       "      <td>5</td>\n",
       "      <td>5</td>\n",
       "      <td>1</td>\n",
       "      <td>...</td>\n",
       "      <td>0</td>\n",
       "      <td>0</td>\n",
       "      <td>0</td>\n",
       "      <td>1</td>\n",
       "      <td>3</td>\n",
       "      <td>2</td>\n",
       "      <td>4</td>\n",
       "      <td>2</td>\n",
       "      <td>2</td>\n",
       "      <td>2</td>\n",
       "    </tr>\n",
       "    <tr>\n",
       "      <th>yPredicted</th>\n",
       "      <td>3</td>\n",
       "      <td>4</td>\n",
       "      <td>0</td>\n",
       "      <td>0</td>\n",
       "      <td>2</td>\n",
       "      <td>2</td>\n",
       "      <td>3</td>\n",
       "      <td>4</td>\n",
       "      <td>3</td>\n",
       "      <td>1</td>\n",
       "      <td>...</td>\n",
       "      <td>0</td>\n",
       "      <td>0</td>\n",
       "      <td>0</td>\n",
       "      <td>1</td>\n",
       "      <td>3</td>\n",
       "      <td>2</td>\n",
       "      <td>2</td>\n",
       "      <td>3</td>\n",
       "      <td>2</td>\n",
       "      <td>2</td>\n",
       "    </tr>\n",
       "  </tbody>\n",
       "</table>\n",
       "<p>2 rows × 31 columns</p>\n",
       "</div>"
      ],
      "text/plain": [
       "            82   146  31   29   119  61   94   151  157  69   ...  12   9    \\\n",
       "yReal         2    5    0    0    2    1    2    5    5    1  ...    0    0   \n",
       "yPredicted    3    4    0    0    2    2    3    4    3    1  ...    0    0   \n",
       "\n",
       "            24   70   132  96   46   87   85   127  \n",
       "yReal         0    1    3    2    4    2    2    2  \n",
       "yPredicted    0    1    3    2    2    3    2    2  \n",
       "\n",
       "[2 rows x 31 columns]"
      ]
     },
     "execution_count": 726,
     "metadata": {},
     "output_type": "execute_result"
    }
   ],
   "source": [
    "y_predicted = model_new.predict(X_test_scaled)\n",
    "y_real      = y_test\n",
    "\n",
    "y_predicted = [int(x) for x in y_predicted]\n",
    "\n",
    "pd.DataFrame({'yReal':y_real,'yPredicted':y_predicted}).T"
   ]
  },
  {
   "cell_type": "code",
   "execution_count": 738,
   "id": "61db1f26",
   "metadata": {},
   "outputs": [
    {
     "data": {
      "image/png": "[encoded data removed]",
      "text/plain": [
       "<Figure size 720x432 with 1 Axes>"
      ]
     },
     "metadata": {},
     "output_type": "display_data"
    }
   ],
   "source": [
    "fig = plt.figure(figsize=(10,6))\n",
    "plt.title('Predicted and Actual Fish Type')\n",
    "plt.xlabel('Actual fish type')\n",
    "plt.ylabel('Predicted fish type')\n",
    "plt.scatter(y_real,y_predicted,marker='v',color='red');"
   ]
  },
  {
   "cell_type": "markdown",
   "id": "c5dd0890",
   "metadata": {},
   "source": [
    "##### The image above shows less data than the actual data size. This is because multiple (0,0) and other like this are plotted once <br>\n",
    "\n",
    "<font color=crimson>\n",
    "<b>The numerical nomenclature of fish is a bit difficult to understand. So let's transform categorical data back to its original form and create a pandas dataframe in the next code cell for aesthetic comparison.\n",
    "</b>    \n",
    "</font>    "
   ]
  },
  {
   "cell_type": "code",
   "execution_count": 768,
   "id": "42ca72f6",
   "metadata": {},
   "outputs": [
    {
     "data": {
      "text/html": [
       "<div>\n",
       "<style scoped>\n",
       "    .dataframe tbody tr th:only-of-type {\n",
       "        vertical-align: middle;\n",
       "    }\n",
       "\n",
       "    .dataframe tbody tr th {\n",
       "        vertical-align: top;\n",
       "    }\n",
       "\n",
       "    .dataframe thead th {\n",
       "        text-align: right;\n",
       "    }\n",
       "</style>\n",
       "<table border=\"1\" class=\"dataframe\">\n",
       "  <thead>\n",
       "    <tr style=\"text-align: right;\">\n",
       "      <th></th>\n",
       "      <th>Real</th>\n",
       "      <th>Predicted</th>\n",
       "    </tr>\n",
       "  </thead>\n",
       "  <tbody>\n",
       "    <tr>\n",
       "      <th>0</th>\n",
       "      <td>Perch</td>\n",
       "      <td>Pike</td>\n",
       "    </tr>\n",
       "    <tr>\n",
       "      <th>1</th>\n",
       "      <td>Smelt</td>\n",
       "      <td>Roach</td>\n",
       "    </tr>\n",
       "    <tr>\n",
       "      <th>2</th>\n",
       "      <td>Bream</td>\n",
       "      <td>Bream</td>\n",
       "    </tr>\n",
       "    <tr>\n",
       "      <th>3</th>\n",
       "      <td>Bream</td>\n",
       "      <td>Bream</td>\n",
       "    </tr>\n",
       "    <tr>\n",
       "      <th>4</th>\n",
       "      <td>Perch</td>\n",
       "      <td>Perch</td>\n",
       "    </tr>\n",
       "    <tr>\n",
       "      <th>5</th>\n",
       "      <td>Parkki</td>\n",
       "      <td>Perch</td>\n",
       "    </tr>\n",
       "    <tr>\n",
       "      <th>6</th>\n",
       "      <td>Perch</td>\n",
       "      <td>Pike</td>\n",
       "    </tr>\n",
       "    <tr>\n",
       "      <th>7</th>\n",
       "      <td>Smelt</td>\n",
       "      <td>Roach</td>\n",
       "    </tr>\n",
       "    <tr>\n",
       "      <th>8</th>\n",
       "      <td>Smelt</td>\n",
       "      <td>Pike</td>\n",
       "    </tr>\n",
       "    <tr>\n",
       "      <th>9</th>\n",
       "      <td>Parkki</td>\n",
       "      <td>Parkki</td>\n",
       "    </tr>\n",
       "    <tr>\n",
       "      <th>10</th>\n",
       "      <td>Roach</td>\n",
       "      <td>Pike</td>\n",
       "    </tr>\n",
       "    <tr>\n",
       "      <th>11</th>\n",
       "      <td>Pike</td>\n",
       "      <td>Pike</td>\n",
       "    </tr>\n",
       "    <tr>\n",
       "      <th>12</th>\n",
       "      <td>Perch</td>\n",
       "      <td>Perch</td>\n",
       "    </tr>\n",
       "    <tr>\n",
       "      <th>13</th>\n",
       "      <td>Perch</td>\n",
       "      <td>Pike</td>\n",
       "    </tr>\n",
       "    <tr>\n",
       "      <th>14</th>\n",
       "      <td>Bream</td>\n",
       "      <td>Bream</td>\n",
       "    </tr>\n",
       "    <tr>\n",
       "      <th>15</th>\n",
       "      <td>Bream</td>\n",
       "      <td>Bream</td>\n",
       "    </tr>\n",
       "    <tr>\n",
       "      <th>16</th>\n",
       "      <td>Bream</td>\n",
       "      <td>Bream</td>\n",
       "    </tr>\n",
       "    <tr>\n",
       "      <th>17</th>\n",
       "      <td>Perch</td>\n",
       "      <td>Pike</td>\n",
       "    </tr>\n",
       "    <tr>\n",
       "      <th>18</th>\n",
       "      <td>Perch</td>\n",
       "      <td>Perch</td>\n",
       "    </tr>\n",
       "    <tr>\n",
       "      <th>19</th>\n",
       "      <td>Pike</td>\n",
       "      <td>Pike</td>\n",
       "    </tr>\n",
       "    <tr>\n",
       "      <th>20</th>\n",
       "      <td>Bream</td>\n",
       "      <td>Bream</td>\n",
       "    </tr>\n",
       "    <tr>\n",
       "      <th>21</th>\n",
       "      <td>Bream</td>\n",
       "      <td>Bream</td>\n",
       "    </tr>\n",
       "    <tr>\n",
       "      <th>22</th>\n",
       "      <td>Bream</td>\n",
       "      <td>Bream</td>\n",
       "    </tr>\n",
       "    <tr>\n",
       "      <th>23</th>\n",
       "      <td>Bream</td>\n",
       "      <td>Bream</td>\n",
       "    </tr>\n",
       "    <tr>\n",
       "      <th>24</th>\n",
       "      <td>Parkki</td>\n",
       "      <td>Parkki</td>\n",
       "    </tr>\n",
       "    <tr>\n",
       "      <th>25</th>\n",
       "      <td>Pike</td>\n",
       "      <td>Pike</td>\n",
       "    </tr>\n",
       "    <tr>\n",
       "      <th>26</th>\n",
       "      <td>Perch</td>\n",
       "      <td>Perch</td>\n",
       "    </tr>\n",
       "    <tr>\n",
       "      <th>27</th>\n",
       "      <td>Roach</td>\n",
       "      <td>Perch</td>\n",
       "    </tr>\n",
       "    <tr>\n",
       "      <th>28</th>\n",
       "      <td>Perch</td>\n",
       "      <td>Pike</td>\n",
       "    </tr>\n",
       "    <tr>\n",
       "      <th>29</th>\n",
       "      <td>Perch</td>\n",
       "      <td>Perch</td>\n",
       "    </tr>\n",
       "    <tr>\n",
       "      <th>30</th>\n",
       "      <td>Perch</td>\n",
       "      <td>Perch</td>\n",
       "    </tr>\n",
       "  </tbody>\n",
       "</table>\n",
       "</div>"
      ],
      "text/plain": [
       "      Real Predicted\n",
       "0    Perch      Pike\n",
       "1    Smelt     Roach\n",
       "2    Bream     Bream\n",
       "3    Bream     Bream\n",
       "4    Perch     Perch\n",
       "5   Parkki     Perch\n",
       "6    Perch      Pike\n",
       "7    Smelt     Roach\n",
       "8    Smelt      Pike\n",
       "9   Parkki    Parkki\n",
       "10   Roach      Pike\n",
       "11    Pike      Pike\n",
       "12   Perch     Perch\n",
       "13   Perch      Pike\n",
       "14   Bream     Bream\n",
       "15   Bream     Bream\n",
       "16   Bream     Bream\n",
       "17   Perch      Pike\n",
       "18   Perch     Perch\n",
       "19    Pike      Pike\n",
       "20   Bream     Bream\n",
       "21   Bream     Bream\n",
       "22   Bream     Bream\n",
       "23   Bream     Bream\n",
       "24  Parkki    Parkki\n",
       "25    Pike      Pike\n",
       "26   Perch     Perch\n",
       "27   Roach     Perch\n",
       "28   Perch      Pike\n",
       "29   Perch     Perch\n",
       "30   Perch     Perch"
      ]
     },
     "execution_count": 768,
     "metadata": {},
     "output_type": "execute_result"
    }
   ],
   "source": [
    "pd.DataFrame({'Real':fit_labels.inverse_transform(y_real),\\\n",
    "              'Predicted':fit_labels.inverse_transform(y_predicted)})"
   ]
  },
  {
   "cell_type": "markdown",
   "id": "29951710",
   "metadata": {},
   "source": [
    "##### The model is only 76% accurate, which is not great. There are many reasons for this low accuracy, but the most notable is that we are applying a linear model to a not-so-linear dataset. There are other models that need to be checked. In the next section I will examine another model and explain it as clearly as possible."
   ]
  }
 ],
 "metadata": {
  "kernelspec": {
   "display_name": "Python 3",
   "language": "python",
   "name": "python3"
  },
  "language_info": {
   "codemirror_mode": {
    "name": "ipython",
    "version": 3
   },
   "file_extension": ".py",
   "mimetype": "text/x-python",
   "name": "python",
   "nbconvert_exporter": "python",
   "pygments_lexer": "ipython3",
   "version": "3.8.8"
  }
 },
 "nbformat": 4,
 "nbformat_minor": 5
}
