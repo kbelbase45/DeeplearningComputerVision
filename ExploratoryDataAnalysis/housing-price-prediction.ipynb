{
 "cells": [
  {
   "cell_type": "code",
   "execution_count": 1,
   "id": "139ae6ee",
   "metadata": {
    "_cell_guid": "b1076dfc-b9ad-4769-8c92-a6c4dae69d19",
    "_uuid": "8f2839f25d086af736a60e9eeb907d3b93b6e0e5",
    "execution": {
     "iopub.execute_input": "2022-06-16T00:46:03.776546Z",
     "iopub.status.busy": "2022-06-16T00:46:03.776007Z",
     "iopub.status.idle": "2022-06-16T00:46:03.795138Z",
     "shell.execute_reply": "2022-06-16T00:46:03.794035Z"
    },
    "papermill": {
     "duration": 0.075672,
     "end_time": "2022-06-16T00:46:03.798369",
     "exception": false,
     "start_time": "2022-06-16T00:46:03.722697",
     "status": "completed"
    },
    "tags": []
   },
   "outputs": [
    {
     "name": "stdout",
     "output_type": "stream",
     "text": [
      "/kaggle/input/home-data-for-ml-course/sample_submission.csv\n",
      "/kaggle/input/home-data-for-ml-course/sample_submission.csv.gz\n",
      "/kaggle/input/home-data-for-ml-course/train.csv.gz\n",
      "/kaggle/input/home-data-for-ml-course/data_description.txt\n",
      "/kaggle/input/home-data-for-ml-course/test.csv.gz\n",
      "/kaggle/input/home-data-for-ml-course/train.csv\n",
      "/kaggle/input/home-data-for-ml-course/test.csv\n"
     ]
    }
   ],
   "source": [
    "# This Python 3 environment comes with many helpful analytics libraries installed\n",
    "# It is defined by the kaggle/python Docker image: https://github.com/kaggle/docker-python\n",
    "# For example, here's several helpful packages to load\n",
    "\n",
    "import numpy as np # linear algebra\n",
    "import pandas as pd # data processing, CSV file I/O (e.g. pd.read_csv)\n",
    "\n",
    "# Input data files are available in the read-only \"../input/\" directory\n",
    "# For example, running this (by clicking run or pressing Shift+Enter) will list all files under the input directory\n",
    "\n",
    "import os\n",
    "for dirname, _, filenames in os.walk('/kaggle/input'):\n",
    "    for filename in filenames:\n",
    "        print(os.path.join(dirname, filename))\n",
    "\n",
    "# You can write up to 20GB to the current directory (/kaggle/working/) that gets preserved as output when you create a version using \"Save & Run All\" \n",
    "# You can also write temporary files to /kaggle/temp/, but they won't be saved outside of the current session"
   ]
  },
  {
   "cell_type": "code",
   "execution_count": 2,
   "id": "2b95d609",
   "metadata": {
    "execution": {
     "iopub.execute_input": "2022-06-16T00:46:03.903108Z",
     "iopub.status.busy": "2022-06-16T00:46:03.902771Z",
     "iopub.status.idle": "2022-06-16T00:46:04.690627Z",
     "shell.execute_reply": "2022-06-16T00:46:04.689740Z"
    },
    "papermill": {
     "duration": 0.842369,
     "end_time": "2022-06-16T00:46:04.693215",
     "exception": false,
     "start_time": "2022-06-16T00:46:03.850846",
     "status": "completed"
    },
    "tags": []
   },
   "outputs": [
    {
     "name": "stdout",
     "output_type": "stream",
     "text": [
      "data_description.txt   sample_submission.csv.gz  test.csv.gz  train.csv.gz\r\n",
      "sample_submission.csv  test.csv\t\t\t train.csv\r\n"
     ]
    }
   ],
   "source": [
    "#searching for train test data set\n",
    "#ls ../input/home-data-for-ml-course/\n",
    "!ls ../input/home-data-for-ml-course/"
   ]
  },
  {
   "cell_type": "code",
   "execution_count": 3,
   "id": "badc500e",
   "metadata": {
    "execution": {
     "iopub.execute_input": "2022-06-16T00:46:04.794532Z",
     "iopub.status.busy": "2022-06-16T00:46:04.794250Z",
     "iopub.status.idle": "2022-06-16T00:46:04.798006Z",
     "shell.execute_reply": "2022-06-16T00:46:04.797291Z"
    },
    "papermill": {
     "duration": 0.056427,
     "end_time": "2022-06-16T00:46:04.799969",
     "exception": false,
     "start_time": "2022-06-16T00:46:04.743542",
     "status": "completed"
    },
    "tags": []
   },
   "outputs": [],
   "source": [
    "#!more ../input/home-data-for-ml-course/data_description.txt"
   ]
  },
  {
   "cell_type": "code",
   "execution_count": 4,
   "id": "6f930189",
   "metadata": {
    "execution": {
     "iopub.execute_input": "2022-06-16T00:46:04.895867Z",
     "iopub.status.busy": "2022-06-16T00:46:04.895598Z",
     "iopub.status.idle": "2022-06-16T00:46:04.979059Z",
     "shell.execute_reply": "2022-06-16T00:46:04.977836Z"
    },
    "papermill": {
     "duration": 0.133194,
     "end_time": "2022-06-16T00:46:04.981430",
     "exception": false,
     "start_time": "2022-06-16T00:46:04.848236",
     "status": "completed"
    },
    "tags": []
   },
   "outputs": [
    {
     "data": {
      "text/plain": [
       "Index(['Id', 'MSSubClass', 'MSZoning', 'LotFrontage', 'LotArea', 'Street',\n",
       "       'Alley', 'LotShape', 'LandContour', 'Utilities', 'LotConfig',\n",
       "       'LandSlope', 'Neighborhood', 'Condition1', 'Condition2', 'BldgType',\n",
       "       'HouseStyle', 'OverallQual', 'OverallCond', 'YearBuilt', 'YearRemodAdd',\n",
       "       'RoofStyle', 'RoofMatl', 'Exterior1st', 'Exterior2nd', 'MasVnrType',\n",
       "       'MasVnrArea', 'ExterQual', 'ExterCond', 'Foundation', 'BsmtQual',\n",
       "       'BsmtCond', 'BsmtExposure', 'BsmtFinType1', 'BsmtFinSF1',\n",
       "       'BsmtFinType2', 'BsmtFinSF2', 'BsmtUnfSF', 'TotalBsmtSF', 'Heating',\n",
       "       'HeatingQC', 'CentralAir', 'Electrical', '1stFlrSF', '2ndFlrSF',\n",
       "       'LowQualFinSF', 'GrLivArea', 'BsmtFullBath', 'BsmtHalfBath', 'FullBath',\n",
       "       'HalfBath', 'BedroomAbvGr', 'KitchenAbvGr', 'KitchenQual',\n",
       "       'TotRmsAbvGrd', 'Functional', 'Fireplaces', 'FireplaceQu', 'GarageType',\n",
       "       'GarageYrBlt', 'GarageFinish', 'GarageCars', 'GarageArea', 'GarageQual',\n",
       "       'GarageCond', 'PavedDrive', 'WoodDeckSF', 'OpenPorchSF',\n",
       "       'EnclosedPorch', '3SsnPorch', 'ScreenPorch', 'PoolArea', 'PoolQC',\n",
       "       'Fence', 'MiscFeature', 'MiscVal', 'MoSold', 'YrSold', 'SaleType',\n",
       "       'SaleCondition', 'SalePrice'],\n",
       "      dtype='object')"
      ]
     },
     "execution_count": 4,
     "metadata": {},
     "output_type": "execute_result"
    }
   ],
   "source": [
    "train_data = pd.read_csv('../input/home-data-for-ml-course/train.csv.gz',compression='gzip')\n",
    "test_data  = pd.read_csv('../input/home-data-for-ml-course/test.csv.gz',compression='gzip')\n",
    "len(train_data.columns)\n",
    "train_data.columns"
   ]
  },
  {
   "cell_type": "markdown",
   "id": "533e6533",
   "metadata": {
    "papermill": {
     "duration": 0.046011,
     "end_time": "2022-06-16T00:46:05.075356",
     "exception": false,
     "start_time": "2022-06-16T00:46:05.029345",
     "status": "completed"
    },
    "tags": []
   },
   "source": [
    "We see above that the data set contains many features (len(train_data.columns)-1(target_variable)-1(may be index)). In machine learning lingo features represent to the independent variables of any chosen model - something like x in the linear regression model y=b1x+b0. Although they are in the dataset, not all features-all columns except target column (SalePrice in this data)- are equally important for our calculation that is designed to predict home price. If we give all features the same priority and train our model with them, we will probably get the garbage result that is just useless. Because of this, it is very important to select some important characteristics that have a strong influence on the target size, which in the machine learning lingo often refers to as feature selection. This will be done in the next code shell. In this notebook there are tasks related to the following topics:\n",
    "\n",
    "1) Find and drop all missing values  \\\n",
    "2) Observe pairwise correlation (pearson correlation) between different features \\\n",
    "3) Feature selection based on correlation \\\n",
    "4) Split data into train and testing set  \\\n",
    "5) Building models and tunning hyperparameters  \\\n",
    "6) Evaluate eccuracy of model  \\\n",
    "7) Calculate feature important \\\n",
    "8) Conclusion"
   ]
  },
  {
   "cell_type": "code",
   "execution_count": 5,
   "id": "7bbc6854",
   "metadata": {
    "execution": {
     "iopub.execute_input": "2022-06-16T00:46:05.175775Z",
     "iopub.status.busy": "2022-06-16T00:46:05.175251Z",
     "iopub.status.idle": "2022-06-16T00:46:05.231261Z",
     "shell.execute_reply": "2022-06-16T00:46:05.230219Z"
    },
    "papermill": {
     "duration": 0.110715,
     "end_time": "2022-06-16T00:46:05.234324",
     "exception": false,
     "start_time": "2022-06-16T00:46:05.123609",
     "status": "completed"
    },
    "tags": []
   },
   "outputs": [
    {
     "name": "stdout",
     "output_type": "stream",
     "text": [
      "{'LotFrontage': 259, 'Alley': 1369, 'MasVnrType': 8, 'MasVnrArea': 8, 'BsmtQual': 37, 'BsmtCond': 37, 'BsmtExposure': 38, 'BsmtFinType1': 37, 'BsmtFinType2': 38, 'Electrical': 1, 'FireplaceQu': 690, 'GarageType': 81, 'GarageYrBlt': 81, 'GarageFinish': 81, 'GarageQual': 81, 'GarageCond': 81, 'PoolQC': 1453, 'Fence': 1179, 'MiscFeature': 1406}\n"
     ]
    }
   ],
   "source": [
    "# In this cell I am going to create a directionary with features as key and sum of missing values as value.\n",
    "train_data.isnull().sum()\n",
    "columns = list(train_data.columns)\n",
    "null = 0\n",
    "null_col = {}\n",
    "for col in columns:\n",
    "    if train_data[col].isnull().sum() != 0:\n",
    "        null += 0\n",
    "        null_col[col]=train_data[col].isnull().sum()\n",
    "\n",
    "#with sep='', different items are separated by space in the output console        \n",
    "print(null_col,sep=' ')"
   ]
  },
  {
   "cell_type": "markdown",
   "id": "286947a2",
   "metadata": {
    "papermill": {
     "duration": 0.053226,
     "end_time": "2022-06-16T00:46:05.339371",
     "exception": false,
     "start_time": "2022-06-16T00:46:05.286145",
     "status": "completed"
    },
    "tags": []
   },
   "source": [
    "As a result of the print statement, various characteristics and the total number of missing values associated with them can be seen. Looking at these features, it does not appear that these are the deal breaker features for pricing houses. For the sake of simplicity, these features are all omitted for now."
   ]
  },
  {
   "cell_type": "code",
   "execution_count": 6,
   "id": "ec37d162",
   "metadata": {
    "execution": {
     "iopub.execute_input": "2022-06-16T00:46:05.445900Z",
     "iopub.status.busy": "2022-06-16T00:46:05.445596Z",
     "iopub.status.idle": "2022-06-16T00:46:05.458169Z",
     "shell.execute_reply": "2022-06-16T00:46:05.457382Z"
    },
    "papermill": {
     "duration": 0.069467,
     "end_time": "2022-06-16T00:46:05.461612",
     "exception": false,
     "start_time": "2022-06-16T00:46:05.392145",
     "status": "completed"
    },
    "tags": []
   },
   "outputs": [
    {
     "name": "stdout",
     "output_type": "stream",
     "text": [
      "81\n",
      "81\n"
     ]
    }
   ],
   "source": [
    "col_to_drop = list(null_col.keys())\n",
    "new_train_data = train_data.drop(col_to_drop,axis=1)\n",
    "\n",
    "print(len(train_data.columns))\n",
    "print(len(new_train_data.columns)+len(col_to_drop)) #the second one is no of droped columns"
   ]
  },
  {
   "cell_type": "code",
   "execution_count": 7,
   "id": "68c9d242",
   "metadata": {
    "execution": {
     "iopub.execute_input": "2022-06-16T00:46:05.560389Z",
     "iopub.status.busy": "2022-06-16T00:46:05.559783Z",
     "iopub.status.idle": "2022-06-16T00:46:05.564444Z",
     "shell.execute_reply": "2022-06-16T00:46:05.563735Z"
    },
    "papermill": {
     "duration": 0.057761,
     "end_time": "2022-06-16T00:46:05.566417",
     "exception": false,
     "start_time": "2022-06-16T00:46:05.508656",
     "status": "completed"
    },
    "tags": []
   },
   "outputs": [],
   "source": [
    "if new_train_data.columns.isnull().sum() != 0: print(' Still has some missing values')"
   ]
  },
  {
   "cell_type": "code",
   "execution_count": 8,
   "id": "0cd72fc7",
   "metadata": {
    "execution": {
     "iopub.execute_input": "2022-06-16T00:46:05.669794Z",
     "iopub.status.busy": "2022-06-16T00:46:05.669280Z",
     "iopub.status.idle": "2022-06-16T00:46:07.826544Z",
     "shell.execute_reply": "2022-06-16T00:46:07.825463Z"
    },
    "papermill": {
     "duration": 2.211334,
     "end_time": "2022-06-16T00:46:07.829459",
     "exception": false,
     "start_time": "2022-06-16T00:46:05.618125",
     "status": "completed"
    },
    "tags": []
   },
   "outputs": [
    {
     "data": {
      "image/png": "[encoded data removed]",
      "text/plain": [
       "<Figure size 1080x720 with 2 Axes>"
      ]
     },
     "metadata": {
      "needs_background": "light"
     },
     "output_type": "display_data"
    }
   ],
   "source": [
    "import seaborn as sns\n",
    "import matplotlib.pyplot as plt\n",
    "\n",
    "#this creates a canvas for plotting\n",
    "fig,ax = plt.subplots(figsize=(15,10)) \n",
    "\n",
    "#pictures will be placed on this canvas\n",
    "sns.heatmap(new_train_data.corr(),linewidths=0.5,ax=ax);     \n"
   ]
  },
  {
   "cell_type": "code",
   "execution_count": 9,
   "id": "31305e5f",
   "metadata": {
    "execution": {
     "iopub.execute_input": "2022-06-16T00:46:07.931651Z",
     "iopub.status.busy": "2022-06-16T00:46:07.931213Z",
     "iopub.status.idle": "2022-06-16T00:46:07.938236Z",
     "shell.execute_reply": "2022-06-16T00:46:07.937538Z"
    },
    "papermill": {
     "duration": 0.060997,
     "end_time": "2022-06-16T00:46:07.940274",
     "exception": false,
     "start_time": "2022-06-16T00:46:07.879277",
     "status": "completed"
    },
    "tags": []
   },
   "outputs": [],
   "source": [
    "#Select the most important features\n",
    "features = ['LotArea', 'YearBuilt', '1stFlrSF', '2ndFlrSF', 'FullBath', 'BedroomAbvGr', 'TotRmsAbvGrd',\\\n",
    "            'PoolArea','OverallCond','Fireplaces']\n",
    "\n",
    "X_train = new_train_data[features]\n",
    "Y_train = new_train_data['SalePrice']\n",
    "#X_test  = test_data[features]\n",
    "#Y_test  = test_data['SalePrice']\n",
    "\n",
    "# Apparently /kaggle/input/home-data-for-ml-course/test.csv doesn't have SalePrice column (target variable). \n",
    "# Therefore, given training data is used as whole data set.\n",
    "\n",
    "X = X_train\n",
    "Y = Y_train"
   ]
  },
  {
   "cell_type": "code",
   "execution_count": 10,
   "id": "e4cfb2ad",
   "metadata": {
    "execution": {
     "iopub.execute_input": "2022-06-16T00:46:08.040085Z",
     "iopub.status.busy": "2022-06-16T00:46:08.039758Z",
     "iopub.status.idle": "2022-06-16T00:46:08.915702Z",
     "shell.execute_reply": "2022-06-16T00:46:08.914700Z"
    },
    "papermill": {
     "duration": 0.928931,
     "end_time": "2022-06-16T00:46:08.917908",
     "exception": false,
     "start_time": "2022-06-16T00:46:07.988977",
     "status": "completed"
    },
    "tags": []
   },
   "outputs": [
    {
     "name": "stdout",
     "output_type": "stream",
     "text": [
      "19331.434566210046\n"
     ]
    }
   ],
   "source": [
    "from sklearn.model_selection import train_test_split, GridSearchCV\n",
    "from sklearn.ensemble import RandomForestRegressor\n",
    "from sklearn.metrics import mean_absolute_error, precision_score, accuracy_score\n",
    "\n",
    "def build_model_get_error(X,Y):\n",
    "    #25% percentage of data is allocated for testing purpose\n",
    "    train_X, test_X, train_Y, test_Y = train_test_split(X,Y,test_size=0.25,random_state=1)\n",
    "    #print(len(train_X),len(test_X))\n",
    "    \n",
    "    RFR_model = RandomForestRegressor(random_state=1)\n",
    "    RFR_model.fit(train_X,train_Y)\n",
    "    y_predict = RFR_model.predict(test_X)\n",
    "    MAE = mean_absolute_error(test_Y,y_predict)    \n",
    "    print(MAE)\n",
    "    return train_X, test_X, train_Y, test_Y, RFR_model, y_predict, MAE\n",
    "\n",
    "train_X, test_X, train_Y, test_Y, RFR_model, y_predict, MAE = build_model_get_error(X,Y)      "
   ]
  },
  {
   "cell_type": "code",
   "execution_count": 11,
   "id": "04bca6b5",
   "metadata": {
    "execution": {
     "iopub.execute_input": "2022-06-16T00:46:09.019158Z",
     "iopub.status.busy": "2022-06-16T00:46:09.018844Z",
     "iopub.status.idle": "2022-06-16T00:46:09.025041Z",
     "shell.execute_reply": "2022-06-16T00:46:09.024353Z"
    },
    "papermill": {
     "duration": 0.059861,
     "end_time": "2022-06-16T00:46:09.026980",
     "exception": false,
     "start_time": "2022-06-16T00:46:08.967119",
     "status": "completed"
    },
    "tags": []
   },
   "outputs": [
    {
     "data": {
      "text/plain": [
       "{'bootstrap': True,\n",
       " 'ccp_alpha': 0.0,\n",
       " 'criterion': 'squared_error',\n",
       " 'max_depth': None,\n",
       " 'max_features': 'auto',\n",
       " 'max_leaf_nodes': None,\n",
       " 'max_samples': None,\n",
       " 'min_impurity_decrease': 0.0,\n",
       " 'min_samples_leaf': 1,\n",
       " 'min_samples_split': 2,\n",
       " 'min_weight_fraction_leaf': 0.0,\n",
       " 'n_estimators': 100,\n",
       " 'n_jobs': None,\n",
       " 'oob_score': False,\n",
       " 'random_state': 1,\n",
       " 'verbose': 0,\n",
       " 'warm_start': False}"
      ]
     },
     "execution_count": 11,
     "metadata": {},
     "output_type": "execute_result"
    }
   ],
   "source": [
    "#Let see parameters that are used by our current model\n",
    "RFR_model.get_params()"
   ]
  },
  {
   "cell_type": "code",
   "execution_count": 12,
   "id": "123f688a",
   "metadata": {
    "execution": {
     "iopub.execute_input": "2022-06-16T00:46:09.127466Z",
     "iopub.status.busy": "2022-06-16T00:46:09.126963Z",
     "iopub.status.idle": "2022-06-16T00:46:09.390965Z",
     "shell.execute_reply": "2022-06-16T00:46:09.389950Z"
    },
    "papermill": {
     "duration": 0.317602,
     "end_time": "2022-06-16T00:46:09.393491",
     "exception": false,
     "start_time": "2022-06-16T00:46:09.075889",
     "status": "completed"
    },
    "tags": []
   },
   "outputs": [
    {
     "data": {
      "image/png": "[encoded data removed]",
      "text/plain": [
       "<Figure size 1080x720 with 1 Axes>"
      ]
     },
     "metadata": {
      "needs_background": "light"
     },
     "output_type": "display_data"
    }
   ],
   "source": [
    "#y_predict is the home price value predicted by our model and in the ideal world it is expected this value to be the same as test_Y \n",
    "fig,ax = plt.subplots(figsize=(15,10)) \n",
    "plt.xlabel(' Actual values ')\n",
    "plt.ylabel(' Predicted values ')\n",
    "plt.scatter(test_Y,y_predict);"
   ]
  },
  {
   "cell_type": "code",
   "execution_count": 13,
   "id": "1b0904ff",
   "metadata": {
    "execution": {
     "iopub.execute_input": "2022-06-16T00:46:09.497396Z",
     "iopub.status.busy": "2022-06-16T00:46:09.497099Z",
     "iopub.status.idle": "2022-06-16T00:46:59.277247Z",
     "shell.execute_reply": "2022-06-16T00:46:59.276592Z"
    },
    "papermill": {
     "duration": 49.887728,
     "end_time": "2022-06-16T00:46:59.332534",
     "exception": false,
     "start_time": "2022-06-16T00:46:09.444806",
     "status": "completed"
    },
    "tags": []
   },
   "outputs": [
    {
     "data": {
      "text/plain": [
       "{50: 19509.547598173518,\n",
       " 100: 19331.434566210046,\n",
       " 150: 19438.272304414004,\n",
       " 200: 19405.180320287018,\n",
       " 250: 19456.699709849967,\n",
       " 300: 19439.32332115677,\n",
       " 350: 19416.345934582052,\n",
       " 400: 19364.679651663406,\n",
       " 450: 19319.754127708922,\n",
       " 500: 19332.19983352903,\n",
       " 550: 19331.890734507502,\n",
       " 600: 19321.82278212655,\n",
       " 650: 19366.70165346982,\n",
       " 700: 19383.10922616718,\n",
       " 750: 19396.59242861492,\n",
       " 800: 19413.919105022833,\n",
       " 850: 19403.790342197153,\n",
       " 900: 19396.886526491267,\n",
       " 950: 19389.31779208295,\n",
       " 1000: 19383.328393803}"
      ]
     },
     "execution_count": 13,
     "metadata": {},
     "output_type": "execute_result"
    }
   ],
   "source": [
    "#Let's try training the model with different number estimators. This is a technique to optimize n_estimator of our model.\n",
    "def get_mae(estimator,train_X,test_X,train_y,test_y):\n",
    "    RFR_model = RandomForestRegressor(n_estimators=estimator,random_state=1)\n",
    "    RFR_model.fit(train_X,train_y)\n",
    "    y_predict = RFR_model.predict(test_X)\n",
    "    mae = mean_absolute_error(test_y,y_predict)\n",
    "    return mae\n",
    "\n",
    "max_estimator = [int(x) for x in np.linspace(start=50, stop=1000, num=20)]\n",
    "\n",
    "mae_out = {estimator:get_mae(estimator,train_X,test_X,train_Y,test_Y) for estimator in max_estimator}\n",
    "mae_out"
   ]
  },
  {
   "cell_type": "code",
   "execution_count": 14,
   "id": "42539277",
   "metadata": {
    "execution": {
     "iopub.execute_input": "2022-06-16T00:46:59.437319Z",
     "iopub.status.busy": "2022-06-16T00:46:59.436532Z",
     "iopub.status.idle": "2022-06-16T00:46:59.701859Z",
     "shell.execute_reply": "2022-06-16T00:46:59.700963Z"
    },
    "papermill": {
     "duration": 0.319792,
     "end_time": "2022-06-16T00:46:59.704072",
     "exception": false,
     "start_time": "2022-06-16T00:46:59.384280",
     "status": "completed"
    },
    "tags": []
   },
   "outputs": [
    {
     "data": {
      "image/png": "[encoded data removed]",
      "text/plain": [
       "<Figure size 1080x720 with 1 Axes>"
      ]
     },
     "metadata": {
      "needs_background": "light"
     },
     "output_type": "display_data"
    }
   ],
   "source": [
    "#PLotting the number of estimator as x-axis and the mean absolute error as y-axis\n",
    "fig,ax = plt.subplots(figsize=(15,10))\n",
    "x_axis = np.array(list(mae_out.keys()))\n",
    "y_axis = np.array(list(mae_out.values()))\n",
    "ax.tick_params(width=4.0)\n",
    "plt.title(' Optimization of n_estimators ',fontsize=20)\n",
    "plt.xlabel(' No of Estimators',fontsize=20)\n",
    "plt.ylabel(' Mean Absolute Error ',fontsize=20)\n",
    "plt.legend(loc='upper right')\n",
    "plt.plot(x_axis,y_axis,'-',marker='o',linewidth=3.0,markersize=12,markerfacecolor='red');"
   ]
  },
  {
   "cell_type": "code",
   "execution_count": 15,
   "id": "b1a494cc",
   "metadata": {
    "execution": {
     "iopub.execute_input": "2022-06-16T00:46:59.811448Z",
     "iopub.status.busy": "2022-06-16T00:46:59.810735Z",
     "iopub.status.idle": "2022-06-16T00:46:59.817336Z",
     "shell.execute_reply": "2022-06-16T00:46:59.816225Z"
    },
    "papermill": {
     "duration": 0.062818,
     "end_time": "2022-06-16T00:46:59.819550",
     "exception": false,
     "start_time": "2022-06-16T00:46:59.756732",
     "status": "completed"
    },
    "tags": []
   },
   "outputs": [
    {
     "data": {
      "text/plain": [
       "(450, 50)"
      ]
     },
     "execution_count": 15,
     "metadata": {},
     "output_type": "execute_result"
    }
   ],
   "source": [
    "#Calculate the number of estimators that correspond to the minimum and maximum error\n",
    "(min(mae_out,key=mae_out.get),max(mae_out,key=mae_out.get))"
   ]
  },
  {
   "cell_type": "code",
   "execution_count": 16,
   "id": "5e3eb98e",
   "metadata": {
    "execution": {
     "iopub.execute_input": "2022-06-16T00:46:59.926720Z",
     "iopub.status.busy": "2022-06-16T00:46:59.926407Z",
     "iopub.status.idle": "2022-06-16T00:46:59.932999Z",
     "shell.execute_reply": "2022-06-16T00:46:59.931587Z"
    },
    "papermill": {
     "duration": 0.062593,
     "end_time": "2022-06-16T00:46:59.935206",
     "exception": false,
     "start_time": "2022-06-16T00:46:59.872613",
     "status": "completed"
    },
    "tags": []
   },
   "outputs": [
    {
     "name": "stdout",
     "output_type": "stream",
     "text": [
      " The value of estimator that corresponds to minimum MAE is 450. \n",
      " The value of estimator that corresponds to maximum MAE is 50. \n"
     ]
    }
   ],
   "source": [
    "#Value of dictionary corresponds to minimum MAE {round(mae_out[min(mae_out,key=mae_out.get)],2)} \n",
    "print(f' The value of estimator that corresponds to minimum MAE is {min(mae_out,key=mae_out.get)}. ')\n",
    "print(f' The value of estimator that corresponds to maximum MAE is {max(mae_out,key=mae_out.get)}. ')"
   ]
  },
  {
   "cell_type": "markdown",
   "id": "db64ce88",
   "metadata": {
    "papermill": {
     "duration": 0.052961,
     "end_time": "2022-06-16T00:47:00.041612",
     "exception": false,
     "start_time": "2022-06-16T00:46:59.988651",
     "status": "completed"
    },
    "tags": []
   },
   "source": [
    "The calculations in the above shell shows that the best estimator with a small mean absolute error is 450. This value is slightly larger than the default (100 estimators). But here it has to be noted that although we have increased the estimator, MAE has not changed that much (19509.55 for 50 estimators and 19319.75 for 450 estimators). Considering the increase in computational effort that does not proportionally reduce MAE, we can consider using default value as well. This result is important because simply increasing the hyperparameters in the model does not guarantee that the accuracy of the model will increase by that ratio, in some case result may appears worse. Nevertheless, the calculation shown below continues with the best estimate value of estimators."
   ]
  },
  {
   "cell_type": "code",
   "execution_count": 17,
   "id": "0a772ff9",
   "metadata": {
    "execution": {
     "iopub.execute_input": "2022-06-16T00:47:00.151163Z",
     "iopub.status.busy": "2022-06-16T00:47:00.150666Z",
     "iopub.status.idle": "2022-06-16T00:47:01.995802Z",
     "shell.execute_reply": "2022-06-16T00:47:01.994811Z"
    },
    "papermill": {
     "duration": 1.902896,
     "end_time": "2022-06-16T00:47:01.998737",
     "exception": false,
     "start_time": "2022-06-16T00:47:00.095841",
     "status": "completed"
    },
    "tags": []
   },
   "outputs": [
    {
     "data": {
      "text/plain": [
       "RandomForestRegressor(n_estimators=450, n_jobs=2, random_state=1)"
      ]
     },
     "execution_count": 17,
     "metadata": {},
     "output_type": "execute_result"
    }
   ],
   "source": [
    "RFR_model = RandomForestRegressor(n_estimators=450,random_state=1,n_jobs=2)\n",
    "RFR_model.fit(train_X,train_Y)"
   ]
  },
  {
   "cell_type": "code",
   "execution_count": 18,
   "id": "67785b2e",
   "metadata": {
    "execution": {
     "iopub.execute_input": "2022-06-16T00:47:02.113451Z",
     "iopub.status.busy": "2022-06-16T00:47:02.112472Z",
     "iopub.status.idle": "2022-06-16T00:47:02.643223Z",
     "shell.execute_reply": "2022-06-16T00:47:02.641456Z"
    },
    "papermill": {
     "duration": 0.58832,
     "end_time": "2022-06-16T00:47:02.645563",
     "exception": false,
     "start_time": "2022-06-16T00:47:02.057243",
     "status": "completed"
    },
    "tags": []
   },
   "outputs": [
    {
     "name": "stdout",
     "output_type": "stream",
     "text": [
      " Model parameters that are used \n",
      "{'bootstrap': True, 'ccp_alpha': 0.0, 'criterion': 'squared_error', 'max_depth': None, 'max_features': 'auto', 'max_leaf_nodes': None, 'max_samples': None, 'min_impurity_decrease': 0.0, 'min_samples_leaf': 1, 'min_samples_split': 2, 'min_weight_fraction_leaf': 0.0, 'n_estimators': 450, 'n_jobs': 2, 'oob_score': False, 'random_state': 1, 'verbose': 0, 'warm_start': False}\n",
      "\n",
      " Features used in calculation are \n",
      "Index(['LotArea', 'YearBuilt', '1stFlrSF', '2ndFlrSF', 'FullBath',\n",
      "       'BedroomAbvGr', 'TotRmsAbvGrd', 'PoolArea', 'OverallCond',\n",
      "       'Fireplaces'],\n",
      "      dtype='object')\n",
      "\n",
      " Feature Importances \n",
      "[0.07968469 0.29736418 0.33704001 0.13827933 0.02817906 0.01142876\n",
      " 0.05184338 0.00132749 0.02290979 0.03194329]\n",
      "\n"
     ]
    },
    {
     "data": {
      "text/html": [
       "<div>\n",
       "<style scoped>\n",
       "    .dataframe tbody tr th:only-of-type {\n",
       "        vertical-align: middle;\n",
       "    }\n",
       "\n",
       "    .dataframe tbody tr th {\n",
       "        vertical-align: top;\n",
       "    }\n",
       "\n",
       "    .dataframe thead th {\n",
       "        text-align: right;\n",
       "    }\n",
       "</style>\n",
       "<table border=\"1\" class=\"dataframe\">\n",
       "  <thead>\n",
       "    <tr style=\"text-align: right;\">\n",
       "      <th></th>\n",
       "      <th>Features</th>\n",
       "      <th>Feature_Importances</th>\n",
       "    </tr>\n",
       "  </thead>\n",
       "  <tbody>\n",
       "    <tr>\n",
       "      <th>0</th>\n",
       "      <td>PoolArea</td>\n",
       "      <td>0.001327</td>\n",
       "    </tr>\n",
       "    <tr>\n",
       "      <th>1</th>\n",
       "      <td>BedroomAbvGr</td>\n",
       "      <td>0.011429</td>\n",
       "    </tr>\n",
       "    <tr>\n",
       "      <th>2</th>\n",
       "      <td>OverallCond</td>\n",
       "      <td>0.022910</td>\n",
       "    </tr>\n",
       "    <tr>\n",
       "      <th>3</th>\n",
       "      <td>FullBath</td>\n",
       "      <td>0.028179</td>\n",
       "    </tr>\n",
       "    <tr>\n",
       "      <th>4</th>\n",
       "      <td>Fireplaces</td>\n",
       "      <td>0.031943</td>\n",
       "    </tr>\n",
       "    <tr>\n",
       "      <th>5</th>\n",
       "      <td>TotRmsAbvGrd</td>\n",
       "      <td>0.051843</td>\n",
       "    </tr>\n",
       "    <tr>\n",
       "      <th>6</th>\n",
       "      <td>LotArea</td>\n",
       "      <td>0.079685</td>\n",
       "    </tr>\n",
       "    <tr>\n",
       "      <th>7</th>\n",
       "      <td>2ndFlrSF</td>\n",
       "      <td>0.138279</td>\n",
       "    </tr>\n",
       "    <tr>\n",
       "      <th>8</th>\n",
       "      <td>YearBuilt</td>\n",
       "      <td>0.297364</td>\n",
       "    </tr>\n",
       "    <tr>\n",
       "      <th>9</th>\n",
       "      <td>1stFlrSF</td>\n",
       "      <td>0.337040</td>\n",
       "    </tr>\n",
       "  </tbody>\n",
       "</table>\n",
       "</div>"
      ],
      "text/plain": [
       "       Features  Feature_Importances\n",
       "0      PoolArea             0.001327\n",
       "1  BedroomAbvGr             0.011429\n",
       "2   OverallCond             0.022910\n",
       "3      FullBath             0.028179\n",
       "4    Fireplaces             0.031943\n",
       "5  TotRmsAbvGrd             0.051843\n",
       "6       LotArea             0.079685\n",
       "7      2ndFlrSF             0.138279\n",
       "8     YearBuilt             0.297364\n",
       "9      1stFlrSF             0.337040"
      ]
     },
     "execution_count": 18,
     "metadata": {},
     "output_type": "execute_result"
    }
   ],
   "source": [
    "print(' Model parameters that are used ')\n",
    "print(RFR_model.get_params(),)\n",
    "print()\n",
    "print(' Features used in calculation are ')\n",
    "print(X.columns,sep=' ')\n",
    "print()\n",
    "print(' Feature Importances ')\n",
    "print(RFR_model.feature_importances_)\n",
    "print()\n",
    "sorted_index = RFR_model.feature_importances_.argsort()\n",
    "Feature_Table = pd.DataFrame({'Features':list(X.columns[sorted_index]),'Feature_Importances':RFR_model.feature_importances_[sorted_index]})\n",
    "Feature_Table"
   ]
  },
  {
   "cell_type": "code",
   "execution_count": 19,
   "id": "10b60e23",
   "metadata": {
    "execution": {
     "iopub.execute_input": "2022-06-16T00:47:02.759978Z",
     "iopub.status.busy": "2022-06-16T00:47:02.759215Z",
     "iopub.status.idle": "2022-06-16T00:47:03.215665Z",
     "shell.execute_reply": "2022-06-16T00:47:03.214731Z"
    },
    "papermill": {
     "duration": 0.515728,
     "end_time": "2022-06-16T00:47:03.218059",
     "exception": false,
     "start_time": "2022-06-16T00:47:02.702331",
     "status": "completed"
    },
    "tags": []
   },
   "outputs": [
    {
     "data": {
      "image/png": "[encoded data removed]",
      "text/plain": [
       "<Figure size 1080x720 with 1 Axes>"
      ]
     },
     "metadata": {
      "needs_background": "light"
     },
     "output_type": "display_data"
    }
   ],
   "source": [
    "#plt.barh(X[features],RFR_model.feature_importances_)\n",
    "fig,ax = plt.subplots(figsize=(15,10))\n",
    "plt.barh(X.columns,RFR_model.feature_importances_);"
   ]
  },
  {
   "cell_type": "code",
   "execution_count": 20,
   "id": "a5810e39",
   "metadata": {
    "execution": {
     "iopub.execute_input": "2022-06-16T00:47:03.332577Z",
     "iopub.status.busy": "2022-06-16T00:47:03.332102Z",
     "iopub.status.idle": "2022-06-16T00:47:03.898162Z",
     "shell.execute_reply": "2022-06-16T00:47:03.897186Z"
    },
    "papermill": {
     "duration": 0.625739,
     "end_time": "2022-06-16T00:47:03.900413",
     "exception": false,
     "start_time": "2022-06-16T00:47:03.274674",
     "status": "completed"
    },
    "tags": []
   },
   "outputs": [
    {
     "data": {
      "image/png": "[encoded data removed]",
      "text/plain": [
       "<Figure size 1080x720 with 1 Axes>"
      ]
     },
     "metadata": {
      "needs_background": "light"
     },
     "output_type": "display_data"
    }
   ],
   "source": [
    "#The same plot, but with the argument sorted by increasing importance\n",
    "fig,ax = plt.subplots(figsize=(15,10))\n",
    "sorted_index = RFR_model.feature_importances_.argsort()\n",
    "plt.xlabel(' Random Forest Features importance')\n",
    "plt.barh(X.columns[sorted_index],RFR_model.feature_importances_[sorted_index]);"
   ]
  },
  {
   "cell_type": "code",
   "execution_count": 21,
   "id": "519da31d",
   "metadata": {
    "execution": {
     "iopub.execute_input": "2022-06-16T00:47:04.016815Z",
     "iopub.status.busy": "2022-06-16T00:47:04.016518Z",
     "iopub.status.idle": "2022-06-16T00:47:04.444299Z",
     "shell.execute_reply": "2022-06-16T00:47:04.443327Z"
    },
    "papermill": {
     "duration": 0.489405,
     "end_time": "2022-06-16T00:47:04.447420",
     "exception": false,
     "start_time": "2022-06-16T00:47:03.958015",
     "status": "completed"
    },
    "tags": []
   },
   "outputs": [
    {
     "name": "stdout",
     "output_type": "stream",
     "text": [
      " Model Performance are the following \n",
      " ================RESULTS======================  \n",
      "\n",
      " In the train data set  \n",
      "\n",
      " The mean absolute error   : 7740.2. \n",
      " Average Error             : 7740.2\n",
      " Accuracy                  : 95.62%.\n",
      " R2 score on training data : 0.97\n",
      "\n",
      " In the test data set  \n",
      "\n",
      " The mean absolute error  : 19319.75. \n",
      " Average Error            : 19319.75\n",
      " Accuracy                 : 88.27%.\n",
      " R2 score on testing data : 0.87\n",
      " =============================================  \n"
     ]
    }
   ],
   "source": [
    "#Accuracy on the training data set\n",
    "y_predict_train         = RFR_model.predict(train_X)\n",
    "mae_train               = mean_absolute_error(train_Y,y_predict_train)\n",
    "errors_train            = abs(y_predict_train-train_Y)\n",
    "mean_absolute_error_per = 100*np.mean(errors_train/train_Y)\n",
    "Accuracy_train          = 100-mean_absolute_error_per\n",
    "R2_score_Train          = 1-(sum( (train_Y-y_predict_train)**2)/sum( (train_Y-train_Y.mean())**2) )\n",
    "\n",
    "#Accuracy on the test data set\n",
    "y_predict               = RFR_model.predict(test_X)\n",
    "mae                     = mean_absolute_error(test_Y,y_predict)\n",
    "errors                  = abs(y_predict-test_Y)\n",
    "mean_absolute_error_per = 100*np.mean(errors/test_Y)\n",
    "Accuracy                = 100-mean_absolute_error_per\n",
    "R2_score_test           = 1- ( sum( (test_Y-y_predict)**2 )/sum( ( test_Y-test_Y.mean() )**2 ) )\n",
    "\n",
    "print(' Model Performance are the following ')\n",
    "\n",
    "\n",
    "print(' ================RESULTS======================  ')\n",
    "print()\n",
    "print(' In the train data set  ')\n",
    "print()\n",
    "print(f' The mean absolute error   : {round(mae_train,2)}. ')\n",
    "print(f' Average Error             : {round(np.mean(errors_train),2)}')\n",
    "print(f' Accuracy                  : {round(Accuracy_train,2)}%.')\n",
    "print(f' R2 score on training data : {round(R2_score_Train,2)}')\n",
    "print()\n",
    "print(' In the test data set  ')\n",
    "print()\n",
    "print(f' The mean absolute error  : {round(mae,2)}. ')\n",
    "print(f' Average Error            : {round(np.mean(errors),2)}')\n",
    "print(f' Accuracy                 : {round(Accuracy,2)}%.')\n",
    "print(f' R2 score on testing data : {round(R2_score_test,2)}')\n",
    "print(' =============================================  ')"
   ]
  },
  {
   "cell_type": "markdown",
   "id": "b9687058",
   "metadata": {
    "papermill": {
     "duration": 0.058492,
     "end_time": "2022-06-16T00:47:04.564626",
     "exception": false,
     "start_time": "2022-06-16T00:47:04.506134",
     "status": "completed"
    },
    "tags": []
   },
   "source": [
    "We compared the model performance by observing the mean absolute error and R2 score on both the train and test data sets. By observing these values, I sense an overfitting problem as my performance on the train dataset is very good at 95% accuracy. However, the discrepancy in the test data set is larger--accuracy just 88.27%. This certainly indicates there is room for an improvement. Nevertheless, this is already a significant improvement over the single decision tree result shown in the following section."
   ]
  },
  {
   "cell_type": "markdown",
   "id": "13bbc474",
   "metadata": {
    "papermill": {
     "duration": 0.060304,
     "end_time": "2022-06-16T00:47:04.682875",
     "exception": false,
     "start_time": "2022-06-16T00:47:04.622571",
     "status": "completed"
    },
    "tags": []
   },
   "source": [
    "# **Decision Tress Regressor**"
   ]
  },
  {
   "cell_type": "markdown",
   "id": "5aeb311a",
   "metadata": {
    "papermill": {
     "duration": 0.058735,
     "end_time": "2022-06-16T00:47:04.800739",
     "exception": false,
     "start_time": "2022-06-16T00:47:04.742004",
     "status": "completed"
    },
    "tags": []
   },
   "source": [
    "The following uses the same data for the decision tree regressor and compares the result with the result above."
   ]
  },
  {
   "cell_type": "code",
   "execution_count": 22,
   "id": "b7229c7f",
   "metadata": {
    "execution": {
     "iopub.execute_input": "2022-06-16T00:47:04.919721Z",
     "iopub.status.busy": "2022-06-16T00:47:04.919145Z",
     "iopub.status.idle": "2022-06-16T00:47:04.936171Z",
     "shell.execute_reply": "2022-06-16T00:47:04.935227Z"
    },
    "papermill": {
     "duration": 0.079266,
     "end_time": "2022-06-16T00:47:04.938477",
     "exception": false,
     "start_time": "2022-06-16T00:47:04.859211",
     "status": "completed"
    },
    "tags": []
   },
   "outputs": [
    {
     "data": {
      "text/plain": [
       "27044.263"
      ]
     },
     "execution_count": 22,
     "metadata": {},
     "output_type": "execute_result"
    }
   ],
   "source": [
    "from sklearn.tree import DecisionTreeRegressor\n",
    "\n",
    "DTR_model = DecisionTreeRegressor(random_state=1)\n",
    "DTR_model.fit(train_X,train_Y)\n",
    "y_predict = DTR_model.predict(test_X)\n",
    "DTR_MAE = mean_absolute_error(test_Y,y_predict)\n",
    "round(DTR_MAE,3)"
   ]
  },
  {
   "cell_type": "code",
   "execution_count": 23,
   "id": "91cf6bff",
   "metadata": {
    "execution": {
     "iopub.execute_input": "2022-06-16T00:47:05.058406Z",
     "iopub.status.busy": "2022-06-16T00:47:05.058135Z",
     "iopub.status.idle": "2022-06-16T00:47:05.082774Z",
     "shell.execute_reply": "2022-06-16T00:47:05.081662Z"
    },
    "papermill": {
     "duration": 0.087517,
     "end_time": "2022-06-16T00:47:05.085143",
     "exception": false,
     "start_time": "2022-06-16T00:47:04.997626",
     "status": "completed"
    },
    "tags": []
   },
   "outputs": [
    {
     "name": "stdout",
     "output_type": "stream",
     "text": [
      " Model Performance are the following \n",
      " ================RESULTS======================  \n",
      "\n",
      " In the train data set  \n",
      "\n",
      " The mean absolute error   : $27.67. \n",
      " Average Error             : $27.67\n",
      " Accuracy                  : 99.98%.\n",
      " R2 score on training data : 1.0\n",
      "\n",
      " In the test data set  \n",
      "\n",
      " The mean absolute error : $27044.26. \n",
      " Average Error           : $27044.26\n",
      " Accuracy                : 83.98%.\n",
      " R2 score on testing data : 0.76\n",
      " =============================================  \n"
     ]
    }
   ],
   "source": [
    "#Accuracy in the training data set\n",
    "y_predict_train         = DTR_model.predict(train_X)\n",
    "mae_train               = mean_absolute_error(train_Y,y_predict_train)\n",
    "errors_train            = abs(y_predict_train-train_Y)\n",
    "mean_absolute_error_per = 100*np.mean(errors_train/train_Y)\n",
    "Accuracy_train          = 100-mean_absolute_error_per\n",
    "R2_score_Train          = 1-(sum( (train_Y-y_predict_train)**2)/sum( (train_Y-train_Y.mean())**2) )\n",
    "\n",
    "#Accuracy in the test data set\n",
    "y_predict               = DTR_model.predict(test_X)\n",
    "mae                     = mean_absolute_error(test_Y,y_predict)\n",
    "errors                  = abs(y_predict-test_Y)\n",
    "mean_absolute_error_per = 100*np.mean(errors/test_Y)\n",
    "Accuracy                = 100-mean_absolute_error_per\n",
    "R2_score_test           = 1- ( sum( (test_Y-y_predict)**2 )/sum( ( test_Y-test_Y.mean() )**2 ) )\n",
    "\n",
    "print(' Model Performance are the following ')\n",
    "\n",
    "\n",
    "print(' ================RESULTS======================  ')\n",
    "print()\n",
    "print(' In the train data set  ')\n",
    "print()\n",
    "print(f' The mean absolute error   : ${round(mae_train,2)}. ')\n",
    "print(f' Average Error             : ${round(np.mean(errors_train),2)}')\n",
    "print(f' Accuracy                  : {round(Accuracy_train,2)}%.')\n",
    "print(f' R2 score on training data : {round(R2_score_Train,2)}')\n",
    "print()\n",
    "print(' In the test data set  ')\n",
    "print()\n",
    "print(f' The mean absolute error : ${round(mae,2)}. ')\n",
    "print(f' Average Error           : ${round(np.mean(errors),2)}')\n",
    "print(f' Accuracy                : {round(Accuracy,2)}%.')\n",
    "print(f' R2 score on testing data : {round(R2_score_test,2)}')\n",
    "print(' =============================================  ')"
   ]
  },
  {
   "cell_type": "markdown",
   "id": "eb31efd1",
   "metadata": {
    "papermill": {
     "duration": 0.057994,
     "end_time": "2022-06-16T00:47:05.201054",
     "exception": false,
     "start_time": "2022-06-16T00:47:05.143060",
     "status": "completed"
    },
    "tags": []
   },
   "source": [
    "The result clearly indicates an overfitting problem - the model performs very well on the training data, but the same performance cannot be replicated on test data. There is 16% difference in model accuracy with the training and test data set with the single decision tree and also can be seen in R2 score. This comparetively gap was partially reduced with Random Forest Regressor. With the random forest regressor, the difference decreases to only ~7% compared to 16% for the single decision tree. In the following we continue to observe what if we first set the 'maximum depth' of a single decision tree to an optimal value and use this value to train the model. This seems to reduce this difference from 16% to as little as 8%. See the calculations below."
   ]
  },
  {
   "cell_type": "code",
   "execution_count": 24,
   "id": "d5b91c65",
   "metadata": {
    "execution": {
     "iopub.execute_input": "2022-06-16T00:47:05.320421Z",
     "iopub.status.busy": "2022-06-16T00:47:05.319799Z",
     "iopub.status.idle": "2022-06-16T00:47:05.325626Z",
     "shell.execute_reply": "2022-06-16T00:47:05.324979Z"
    },
    "papermill": {
     "duration": 0.06741,
     "end_time": "2022-06-16T00:47:05.327425",
     "exception": false,
     "start_time": "2022-06-16T00:47:05.260015",
     "status": "completed"
    },
    "tags": []
   },
   "outputs": [
    {
     "data": {
      "text/plain": [
       "{'ccp_alpha': 0.0,\n",
       " 'criterion': 'squared_error',\n",
       " 'max_depth': None,\n",
       " 'max_features': None,\n",
       " 'max_leaf_nodes': None,\n",
       " 'min_impurity_decrease': 0.0,\n",
       " 'min_samples_leaf': 1,\n",
       " 'min_samples_split': 2,\n",
       " 'min_weight_fraction_leaf': 0.0,\n",
       " 'random_state': 1,\n",
       " 'splitter': 'best'}"
      ]
     },
     "execution_count": 24,
     "metadata": {},
     "output_type": "execute_result"
    }
   ],
   "source": [
    "DTR_model.get_params()"
   ]
  },
  {
   "cell_type": "markdown",
   "id": "bd349c8f",
   "metadata": {
    "papermill": {
     "duration": 0.059083,
     "end_time": "2022-06-16T00:47:05.445763",
     "exception": false,
     "start_time": "2022-06-16T00:47:05.386680",
     "status": "completed"
    },
    "tags": []
   },
   "source": [
    "As we can see, the mean absolute error of Decision Tree Regressor with default parameters is 27044.263, which was 19509.55 in Random Forest Regressor. This difference is already significant. Let's see how the model behaves if we change some parameters.  "
   ]
  },
  {
   "cell_type": "code",
   "execution_count": 25,
   "id": "9c6d8ae3",
   "metadata": {
    "execution": {
     "iopub.execute_input": "2022-06-16T00:47:05.565731Z",
     "iopub.status.busy": "2022-06-16T00:47:05.565160Z",
     "iopub.status.idle": "2022-06-16T00:47:05.718311Z",
     "shell.execute_reply": "2022-06-16T00:47:05.717350Z"
    },
    "papermill": {
     "duration": 0.215472,
     "end_time": "2022-06-16T00:47:05.720534",
     "exception": false,
     "start_time": "2022-06-16T00:47:05.505062",
     "status": "completed"
    },
    "tags": []
   },
   "outputs": [
    {
     "name": "stdout",
     "output_type": "stream",
     "text": [
      " For max_depth 1 and the mean_absolute_error is 44268.474 \n",
      " For max_depth 2 and the mean_absolute_error is 35654.034 \n",
      " For max_depth 3 and the mean_absolute_error is 32619.289 \n",
      " For max_depth 4 and the mean_absolute_error is 28140.881 \n",
      " For max_depth 5 and the mean_absolute_error is 25777.777 \n",
      " For max_depth 6 and the mean_absolute_error is 25917.145 \n",
      " For max_depth 7 and the mean_absolute_error is 24654.095 \n",
      " For max_depth 8 and the mean_absolute_error is 24169.075 \n",
      " For max_depth 9 and the mean_absolute_error is 24133.544 \n",
      " For max_depth 10 and the mean_absolute_error is 25256.015 \n",
      " For max_depth 11 and the mean_absolute_error is 24832.465 \n",
      " For max_depth 12 and the mean_absolute_error is 25693.165 \n",
      " For max_depth 13 and the mean_absolute_error is 26692.306 \n",
      " For max_depth 14 and the mean_absolute_error is 27269.594 \n",
      " For max_depth 15 and the mean_absolute_error is 27644.582 \n",
      " For max_depth 16 and the mean_absolute_error is 27121.089 \n",
      " For max_depth 17 and the mean_absolute_error is 27317.96 \n",
      " For max_depth 18 and the mean_absolute_error is 27481.79 \n",
      " For max_depth 19 and the mean_absolute_error is 26759.289 \n",
      " For max_depth 20 and the mean_absolute_error is 26847.625 \n"
     ]
    }
   ],
   "source": [
    "def get_mae(max_depth,train_X,test_X,train_Y,test_Y):\n",
    "    DTR_model = DecisionTreeRegressor(max_depth=max_depth,random_state=1) \n",
    "    DTR_model.fit(train_X,train_Y)\n",
    "    y_predict = DTR_model.predict(test_X)\n",
    "    DTR_MAE   = mean_absolute_error(test_Y,y_predict)\n",
    "    return round(DTR_MAE,3)\n",
    "\n",
    "max_depth = [int(x) for x in np.linspace(start=1,stop=20,num=20)]\n",
    "DTR_MAE = {tree_depth:get_mae(tree_depth,train_X,test_X,train_Y,test_Y) for tree_depth in max_depth}\n",
    "\n",
    "for index in DTR_MAE:    \n",
    "    print(f' For max_depth {index} and the mean_absolute_error is {DTR_MAE[index]} ')"
   ]
  },
  {
   "cell_type": "code",
   "execution_count": 26,
   "id": "ecc62b0d",
   "metadata": {
    "execution": {
     "iopub.execute_input": "2022-06-16T00:47:05.845367Z",
     "iopub.status.busy": "2022-06-16T00:47:05.844788Z",
     "iopub.status.idle": "2022-06-16T00:47:06.110433Z",
     "shell.execute_reply": "2022-06-16T00:47:06.109490Z"
    },
    "papermill": {
     "duration": 0.330139,
     "end_time": "2022-06-16T00:47:06.112602",
     "exception": false,
     "start_time": "2022-06-16T00:47:05.782463",
     "status": "completed"
    },
    "tags": []
   },
   "outputs": [
    {
     "data": {
      "image/png": "[encoded data removed]",
      "text/plain": [
       "<Figure size 1080x720 with 1 Axes>"
      ]
     },
     "metadata": {
      "needs_background": "light"
     },
     "output_type": "display_data"
    }
   ],
   "source": [
    "#Let see the above result visually\n",
    "x_axis,y_axis = np.array(list(DTR_MAE.keys())),np.array(list(DTR_MAE.values()))\n",
    "fig,ax = plt.subplots(figsize=(15,10))\n",
    "\n",
    "plt.xlabel(' max_depth ',fontsize=20)\n",
    "plt.ylabel(' Mean Absolute Error ',fontsize=20)\n",
    "y_max = DTR_MAE[min(DTR_MAE,key=DTR_MAE.get)]\n",
    "plt.axvline(x=min(DTR_MAE,key=DTR_MAE.get),ymin=0,ymax=0.055,color='k',linewidth=3.0)\n",
    "plt.plot(x_axis,y_axis,'-',marker='o',linewidth=3.0,markersize=12,markerfacecolor='red');"
   ]
  },
  {
   "cell_type": "markdown",
   "id": "c404d850",
   "metadata": {
    "papermill": {
     "duration": 0.063173,
     "end_time": "2022-06-16T00:47:06.236231",
     "exception": false,
     "start_time": "2022-06-16T00:47:06.173058",
     "status": "completed"
    },
    "tags": []
   },
   "source": [
    "**This chart shows that as max_depth increases, the error initially decreases, but after some value it starts to increase**"
   ]
  },
  {
   "cell_type": "code",
   "execution_count": 27,
   "id": "6c1deb0a",
   "metadata": {
    "execution": {
     "iopub.execute_input": "2022-06-16T00:47:06.361971Z",
     "iopub.status.busy": "2022-06-16T00:47:06.361645Z",
     "iopub.status.idle": "2022-06-16T00:47:06.367025Z",
     "shell.execute_reply": "2022-06-16T00:47:06.366010Z"
    },
    "papermill": {
     "duration": 0.069844,
     "end_time": "2022-06-16T00:47:06.369258",
     "exception": false,
     "start_time": "2022-06-16T00:47:06.299414",
     "status": "completed"
    },
    "tags": []
   },
   "outputs": [
    {
     "name": "stdout",
     "output_type": "stream",
     "text": [
      " Value of max_depth at which error is small is 9 \n"
     ]
    }
   ],
   "source": [
    "print(f' Value of max_depth at which error is small is {min(DTR_MAE,key=DTR_MAE.get)} ')"
   ]
  },
  {
   "cell_type": "code",
   "execution_count": 28,
   "id": "e9571b26",
   "metadata": {
    "execution": {
     "iopub.execute_input": "2022-06-16T00:47:06.495403Z",
     "iopub.status.busy": "2022-06-16T00:47:06.494916Z",
     "iopub.status.idle": "2022-06-16T00:47:06.511036Z",
     "shell.execute_reply": "2022-06-16T00:47:06.510053Z"
    },
    "papermill": {
     "duration": 0.08214,
     "end_time": "2022-06-16T00:47:06.513130",
     "exception": false,
     "start_time": "2022-06-16T00:47:06.430990",
     "status": "completed"
    },
    "tags": []
   },
   "outputs": [
    {
     "data": {
      "text/plain": [
       "24133.544"
      ]
     },
     "execution_count": 28,
     "metadata": {},
     "output_type": "execute_result"
    }
   ],
   "source": [
    "DTR_model = DecisionTreeRegressor(max_depth=9,random_state=1)\n",
    "DTR_model.fit(train_X,train_Y)\n",
    "y_predict = DTR_model.predict(test_X)\n",
    "DTR_MAE = mean_absolute_error(test_Y,y_predict)\n",
    "round(DTR_MAE,3)"
   ]
  },
  {
   "cell_type": "code",
   "execution_count": 29,
   "id": "8133e99b",
   "metadata": {
    "execution": {
     "iopub.execute_input": "2022-06-16T00:47:06.639068Z",
     "iopub.status.busy": "2022-06-16T00:47:06.638083Z",
     "iopub.status.idle": "2022-06-16T00:47:06.666127Z",
     "shell.execute_reply": "2022-06-16T00:47:06.665026Z"
    },
    "papermill": {
     "duration": 0.093945,
     "end_time": "2022-06-16T00:47:06.668297",
     "exception": false,
     "start_time": "2022-06-16T00:47:06.574352",
     "status": "completed"
    },
    "tags": []
   },
   "outputs": [
    {
     "name": "stdout",
     "output_type": "stream",
     "text": [
      " Model Performance is the following \n",
      " ================RESULTS======================  \n",
      "\n",
      " In the train data set  \n",
      "\n",
      " The mean absolute error : $10987.35. \n",
      " Average Error           : $10987.35\n",
      " Accuracy                : 93.42%.\n",
      " R2 score on training data : 0.96\n",
      "\n",
      " In the test data set  \n",
      "\n",
      " The mean absolute error : $24133.54. \n",
      " Average Error           : $24133.54\n",
      " Accuracy                : 85.79%.\n",
      " R2 score on testing data : 0.79\n",
      " =============================================  \n"
     ]
    }
   ],
   "source": [
    "#Accuracy in the training data set\n",
    "y_predict_train         = DTR_model.predict(train_X)\n",
    "mae_train               = mean_absolute_error(train_Y,y_predict_train)\n",
    "errors_train            = abs(y_predict_train-train_Y)\n",
    "mean_absolute_error_per = 100*np.mean(errors_train/train_Y)\n",
    "Accuracy_train          = 100-mean_absolute_error_per\n",
    "R2_score_Train          = 1-(sum( (train_Y-y_predict_train)**2)/sum( (train_Y-train_Y.mean())**2) )\n",
    "\n",
    "#Accuracy in the test data set\n",
    "y_predict               = DTR_model.predict(test_X)\n",
    "mae                     = mean_absolute_error(test_Y,y_predict)\n",
    "errors                  = abs(y_predict-test_Y)\n",
    "mean_absolute_error_per = 100*np.mean(errors/test_Y)\n",
    "Accuracy                = 100-mean_absolute_error_per\n",
    "R2_score_test           = 1- ( sum( (test_Y-y_predict)**2 )/sum( ( test_Y-test_Y.mean() )**2 ) )\n",
    "\n",
    "print(' Model Performance is the following ')\n",
    "\n",
    "\n",
    "print(' ================RESULTS======================  ')\n",
    "print()\n",
    "print(' In the train data set  ')\n",
    "print()\n",
    "print(f' The mean absolute error : ${round(mae_train,2)}. ')\n",
    "print(f' Average Error           : ${round(np.mean(errors_train),2)}')\n",
    "print(f' Accuracy                : {round(Accuracy_train,2)}%.')\n",
    "print(f' R2 score on training data : {round(R2_score_Train,2)}')\n",
    "print()\n",
    "print(' In the test data set  ')\n",
    "print()\n",
    "print(f' The mean absolute error : ${round(mae,2)}. ')\n",
    "print(f' Average Error           : ${round(np.mean(errors),2)}')\n",
    "print(f' Accuracy                : {round(Accuracy,2)}%.')\n",
    "print(f' R2 score on testing data : {round(R2_score_test,2)}')\n",
    "print(' =============================================  ')"
   ]
  },
  {
   "cell_type": "markdown",
   "id": "f17e1c98",
   "metadata": {
    "papermill": {
     "duration": 0.062926,
     "end_time": "2022-06-16T00:47:06.793328",
     "exception": false,
     "start_time": "2022-06-16T00:47:06.730402",
     "status": "completed"
    },
    "tags": []
   },
   "source": [
    "**Compared to the above calculation with standard parameters of a single decision tree, hyperparameter tuning has improved the model accuracy. The accuracy of the test data is increased by approx 2% and the accuracy of the train data is reduced by approx 6%. Despite this gain, the accuracy of the single decision tree is still lower than that of the random forest regressor (see the first part of discussion).** "
   ]
  },
  {
   "cell_type": "markdown",
   "id": "1550ca55",
   "metadata": {
    "papermill": {
     "duration": 0.062683,
     "end_time": "2022-06-16T00:47:06.919554",
     "exception": false,
     "start_time": "2022-06-16T00:47:06.856871",
     "status": "completed"
    },
    "tags": []
   },
   "source": [
    "# **Random Forest Method as estimator in Grid Search CV**\n",
    "**Hyperparameters tunning with GridSearchCV method**"
   ]
  },
  {
   "cell_type": "code",
   "execution_count": 30,
   "id": "531c9052",
   "metadata": {
    "execution": {
     "iopub.execute_input": "2022-06-16T00:47:07.054109Z",
     "iopub.status.busy": "2022-06-16T00:47:07.053728Z",
     "iopub.status.idle": "2022-06-16T01:02:30.814734Z",
     "shell.execute_reply": "2022-06-16T01:02:30.812871Z"
    },
    "papermill": {
     "duration": 923.897881,
     "end_time": "2022-06-16T01:02:30.879589",
     "exception": false,
     "start_time": "2022-06-16T00:47:06.981708",
     "status": "completed"
    },
    "tags": []
   },
   "outputs": [
    {
     "data": {
      "text/plain": [
       "GridSearchCV(cv=5, estimator=RandomForestRegressor(), n_jobs=5,\n",
       "             param_grid={'max_depth': [2, 3, 4, 5, 6, 7],\n",
       "                         'max_features': [1, 2, 3],\n",
       "                         'min_samples_leaf': [3, 4, 5],\n",
       "                         'n_estimators': [50, 100, 150, 200, 250, 300, 350, 400,\n",
       "                                          450, 500, 550, 600],\n",
       "                         'random_state': [1]},\n",
       "             return_train_score=True)"
      ]
     },
     "execution_count": 30,
     "metadata": {},
     "output_type": "execute_result"
    }
   ],
   "source": [
    "#parameters = {'n_estimators':[int(x) for x in np.linspace(start=100,stop=1000,num=10)],\n",
    "#             'max_features':[int(x) for x in np.linspace(start=1,stop=5,num=5)],\n",
    "#             'max_depth':[2,3,4,5,6,7],\n",
    "#             'min_samples_leaf':[3,4,5],\n",
    "#             'random_state':[1]}\n",
    "parameters = {'n_estimators':[int(x) for x in np.linspace(start=50,stop=600,num=12)],\n",
    "             'max_features':[int(x) for x in np.linspace(start=1,stop=3,num=3)],\n",
    "             'max_depth':[2,3,4,5,6,7],\n",
    "             'min_samples_leaf':[3,4,5],\n",
    "             'random_state':[1]}\n",
    "RFR_model  = RandomForestRegressor()\n",
    "GSCV_model = GridSearchCV(estimator=RFR_model,param_grid=parameters,cv=5,n_jobs=5,return_train_score=True)\n",
    "#Specifyin' the following scoring techine will display warning message in the console after execution.\n",
    "#GSCV_model = GridSearchCV(estimator=RFR_model,param_grid=parameters,cv=5,scoring='roc_auc',n_jobs=-1,return_train_score=True)\n",
    "GSCV_model.fit(train_X,train_Y)"
   ]
  },
  {
   "cell_type": "code",
   "execution_count": 31,
   "id": "40bfdd2f",
   "metadata": {
    "execution": {
     "iopub.execute_input": "2022-06-16T01:02:31.007654Z",
     "iopub.status.busy": "2022-06-16T01:02:31.006905Z",
     "iopub.status.idle": "2022-06-16T01:02:31.013737Z",
     "shell.execute_reply": "2022-06-16T01:02:31.013123Z"
    },
    "papermill": {
     "duration": 0.073401,
     "end_time": "2022-06-16T01:02:31.015682",
     "exception": false,
     "start_time": "2022-06-16T01:02:30.942281",
     "status": "completed"
    },
    "tags": []
   },
   "outputs": [
    {
     "data": {
      "text/plain": [
       "GridSearchCV(cv=5, estimator=RandomForestRegressor(), n_jobs=5,\n",
       "             param_grid={'max_depth': [2, 3, 4, 5, 6, 7],\n",
       "                         'max_features': [1, 2, 3],\n",
       "                         'min_samples_leaf': [3, 4, 5],\n",
       "                         'n_estimators': [50, 100, 150, 200, 250, 300, 350, 400,\n",
       "                                          450, 500, 550, 600],\n",
       "                         'random_state': [1]},\n",
       "             return_train_score=True)"
      ]
     },
     "execution_count": 31,
     "metadata": {},
     "output_type": "execute_result"
    }
   ],
   "source": [
    "GSCV_model"
   ]
  },
  {
   "cell_type": "code",
   "execution_count": 32,
   "id": "d5157ab8",
   "metadata": {
    "execution": {
     "iopub.execute_input": "2022-06-16T01:02:31.143604Z",
     "iopub.status.busy": "2022-06-16T01:02:31.143093Z",
     "iopub.status.idle": "2022-06-16T01:02:31.150510Z",
     "shell.execute_reply": "2022-06-16T01:02:31.149281Z"
    },
    "papermill": {
     "duration": 0.074496,
     "end_time": "2022-06-16T01:02:31.152832",
     "exception": false,
     "start_time": "2022-06-16T01:02:31.078336",
     "status": "completed"
    },
    "tags": []
   },
   "outputs": [
    {
     "data": {
      "text/plain": [
       "RandomForestRegressor(max_depth=7, max_features=3, min_samples_leaf=3,\n",
       "                      random_state=1)"
      ]
     },
     "execution_count": 32,
     "metadata": {},
     "output_type": "execute_result"
    }
   ],
   "source": [
    "Best_Grid_param = GSCV_model.best_params_\n",
    "Best_Grid_param\n",
    "#pd.DataFrame(GSCV_model.cv_results_)\n",
    "GSCV_model.best_estimator_"
   ]
  },
  {
   "cell_type": "code",
   "execution_count": 33,
   "id": "c4b494c0",
   "metadata": {
    "execution": {
     "iopub.execute_input": "2022-06-16T01:02:31.281320Z",
     "iopub.status.busy": "2022-06-16T01:02:31.281027Z",
     "iopub.status.idle": "2022-06-16T01:02:31.583398Z",
     "shell.execute_reply": "2022-06-16T01:02:31.582026Z"
    },
    "papermill": {
     "duration": 0.370752,
     "end_time": "2022-06-16T01:02:31.586633",
     "exception": false,
     "start_time": "2022-06-16T01:02:31.215881",
     "status": "completed"
    },
    "tags": []
   },
   "outputs": [
    {
     "name": "stdout",
     "output_type": "stream",
     "text": [
      " Model Performance is the following \n",
      " ================RESULTS======================  \n",
      "\n",
      " In the train data set  \n",
      "\n",
      " The mean absolute error : $18441.29. \n",
      " Accuracy                : 89.1%.\n",
      " R2 score on training data : 0.96\n",
      "\n",
      " In the test data set  \n",
      "\n",
      " The mean absolute error : $22265.23. \n",
      " Accuracy                : 85.79%.\n",
      " R2 score on testing data : 0.82\n",
      " =============================================  \n"
     ]
    }
   ],
   "source": [
    "def evaluate(Best_model,train_X,train_Y,test_X,test_Y):        \n",
    "    \n",
    "    #set up model architecture\n",
    "    RFR_model = Best_model\n",
    "    #Fit the model parameters using training data\n",
    "    RFR_model.fit(train_X,train_Y)\n",
    "    #Performance on training data set\n",
    "    \n",
    "    y_predict_train          = RFR_model.predict(train_X)\n",
    "    errors_train             = abs(train_Y-y_predict_train)\n",
    "    mean_absolute_error_per  = 100*np.mean(errors_train/train_Y)\n",
    "    Accuracy_train           = 100-mean_absolute_error_per\n",
    "    R2_score_train           = RFR_model.score(train_X,train_Y)\n",
    "    \n",
    "    \n",
    "    #Performance on test data set\n",
    "    #Use the fitted parameter on the test data set--so called the unseen data\n",
    "    predict_Y                = RFR_model.predict(test_X)\n",
    "    #Absolute error = |true value - predicted value|\n",
    "    errors_test              = abs(predict_Y - test_Y)\n",
    "    #Relative error in percentage\n",
    "    mean_absolute_error_per  = 100 * np.mean(errors / test_Y)\n",
    "    #1-error = accuracy or 100-error% = accuracy %\n",
    "    Accuracy_test            = 100 - mean_absolute_error_per\n",
    "    \n",
    "    #Calculating R2 score (here I am calculating manually).\n",
    "    Nominator        = sum((test_Y-predict_Y)**2)\n",
    "    Denominator      = sum((test_Y-test_Y.mean())**2)\n",
    "    R2_score_test          = (1-Nominator/Denominator)\n",
    "    \n",
    "    print(' Model Performance is the following ')\n",
    "\n",
    "\n",
    "    print(' ================RESULTS======================  ')\n",
    "    print()\n",
    "    print(' In the train data set  ')\n",
    "    print()\n",
    "    print(f' The mean absolute error : ${round(np.mean(errors_train),2)}. ')\n",
    "    print(f' Accuracy                : {round(Accuracy_train,2)}%.')\n",
    "    print(f' R2 score on training data : {round(R2_score_Train,2)}')\n",
    "    print()\n",
    "    print(' In the test data set  ')\n",
    "    print()\n",
    "    print(f' The mean absolute error : ${round(np.mean(errors_test),2)}. ')    \n",
    "    print(f' Accuracy                : {round(Accuracy_test,2)}%.')\n",
    "    print(f' R2 score on testing data : {round(R2_score_test,2)}')\n",
    "    print(' =============================================  ')        \n",
    "\n",
    "Best_model      = GSCV_model.best_estimator_\n",
    "evaluate(Best_model,train_X,train_Y,test_X,test_Y)\n",
    "\n",
    "\n",
    "\n"
   ]
  },
  {
   "cell_type": "markdown",
   "id": "fbef65f9",
   "metadata": {
    "papermill": {
     "duration": 0.063739,
     "end_time": "2022-06-16T01:02:31.715076",
     "exception": false,
     "start_time": "2022-06-16T01:02:31.651337",
     "status": "completed"
    },
    "tags": []
   },
   "source": [
    "# Conclusion\n",
    "\n",
    "* Random forest regressor (RFR), single decision tree, and grid search cv calculation are carried.\n",
    "* Number of estimators of Random forest method and max_depth parameter of single decision tree is optimized with respect of mean absolute error. Meaning calculation with default parameters and with after hyperparameters tuning are performed and of course with optimized parameters model performed well.\n",
    "* Random forest regressor performed well compared to the single decision tree.\n",
    "* With default parameters, the random forest regressor tends to perform well compared to the decision tree regressor.\n",
    "* The best estimator given by Grid Search CV method helped to reduce overfitting problem.\n",
    "* In RFR, n_estimators has been changed and the mean absolute error is calculated, and taking into account the computational effort, there was a small improvement in the model to some extent before model started to perform poorly.\n"
   ]
  }
 ],
 "metadata": {
  "kernelspec": {
   "display_name": "Python 3",
   "language": "python",
   "name": "python3"
  },
  "language_info": {
   "codemirror_mode": {
    "name": "ipython",
    "version": 3
   },
   "file_extension": ".py",
   "mimetype": "text/x-python",
   "name": "python",
   "nbconvert_exporter": "python",
   "pygments_lexer": "ipython3",
   "version": "3.7.12"
  },
  "papermill": {
   "default_parameters": {},
   "duration": 1000.653824,
   "end_time": "2022-06-16T01:02:34.401104",
   "environment_variables": {},
   "exception": null,
   "input_path": "__notebook__.ipynb",
   "output_path": "__notebook__.ipynb",
   "parameters": {},
   "start_time": "2022-06-16T00:45:53.747280",
   "version": "2.3.4"
  }
 },
 "nbformat": 4,
 "nbformat_minor": 5
}
