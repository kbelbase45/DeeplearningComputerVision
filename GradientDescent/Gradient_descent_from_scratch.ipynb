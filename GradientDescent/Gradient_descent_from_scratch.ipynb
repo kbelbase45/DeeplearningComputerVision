{
 "cells": [
  {
   "cell_type": "markdown",
   "id": "be51082f",
   "metadata": {},
   "source": [
    "# <center>Gradient Descent Method</center>\n",
    "<font size='3'>\n",
    "In everyday life, gradient means the rise or slope of something. To understand it mathematically, let's say I have a function f(x) (let's say a person's salary) that depends on x, where x can be a single variables (let's say education) or a set of numbers with different variables (let's say education, job position, etc.) and in such a scenario x is said to be an independent variable. With such a definition, the function f is controlled by the value of x, ie if I change x slightly, f(x) would change accordingly. Now our goal is to find the largest rate of change of f(x) with respect to x and this is obtained by taking the derivative of f(x) with respect to x i.e gradient as \n",
    "$$\\frac{df(x)}{dx}$$ \n",
    "In the next step I want to find the values of x that make the function decreasing, which means $\\frac{df(x)}{dx}$ is negative (gradient descent) and ultimately $\\frac{df(x) } {dx}|_{x=x_0}$ = 0 (minimization of f(x) with respect to x). This is the essence of the gradient descent method.<br>\n",
    "\n",
    "In the field of machine learning, the function f(x) often refers to a target variable (or perhaps label) and variable/n x often associated with the features that have a strong impact on the target variable. And instead of the f(x) function, I want to minimize the cost function. The cost function can be understood as follows. When I have enough data, which is mostly the case in machine learning, I use features to fit an arbitrary function, which can be a linear regressor, polynomial, etc., depending on what kind of problem I want to solve. From this fitting I get new f(x) let's say $f_{fit}(x)$ and see the difference $\\Delta=f(x)-f_{fit}(x)$. Now my goal must be to minimize the $\\Delta$. To do this I tune or adjust the number of parameters that are in the linear regressor or polynomial etc and see how that change makes the difference. Of course I don't do it manually :-) but I write a program for it. In the following, f(x) and $f_{fit}(x)$ correspond to $y^{real}_i$ and $y^{new}_i$, respectively.  <br>\n",
    "\n",
    "To avoid the ambiguity, I want to confine myself to the linear regression problem, and that can easily be generalized to the multi-regression problem. First, let me make a problem statement: <b>I have data and I want to develop the linear regression model to make predictions on new data</b>. My model would be $$y^{new}_i = {a}x_i+b$$ Where $a$ bias often referred to as weight and $b$ as bias. I have $y^{real}_i$ from given data and get $y^{new}_i$ from the model and compute the cost function as <br>\n",
    "\n",
    "### Cost Function\n",
    "$$MSE=\\frac{1}{n}\\sum_i^n(y^{real}_i-y^{new}_i)^2$$ \n",
    "$$MSE=\\frac{1}{n}\\sum_i^n(y^{real}_i-({a}x_i+b))^2$$ \n",
    "\n",
    "### Gradients\n",
    "\n",
    "In the following, the partial derivatives of MSE with $a$ and $b$ are calculated\n",
    "$$\\frac{dMSE}{da}=\\frac{-2}{n}\\sum_i^n x_i*(y^{real}_i-({a}x_i+b))$$\n",
    "$$\\frac{dMSE}{db}=\\frac{-2}{n}\\sum_i^n (y^{real}_i-({a}x_i+b))$$\n",
    "\n",
    "### Update a (weight) and b (bias)\n",
    "<br>\n",
    "\n",
    "To update $a$ and $b$, I use a fraction of the gradients and this is determined by the learning rate (lr). When the learning rate is low, the model learns very slowly (the mean takes more time to calculate), but eventually brings the cost function to the bare minimum. On the other hand, if the learning rate is large, then it overshoots on another side of the minimum, and that's bad. Therefore this value should be choosen carefully.<br>\n",
    "\n",
    "$$a = a - lr*\\frac{dMSE}{da}$$\n",
    "$$b = b - lr*\\frac{dMSE}{db}$$\n",
    "\n",
    "\n",
    "In machine learning jargon, x are the features of data, f(x) or $y^{real}_i$ is the target variable. The goal is always to find an optimal weight and bias that makes $y^{new}_i$ as close as possible to $y^{real}_i$ and thereby brings the cost function very close to zero. Once I have the optimal weight and bias, I can generalize the model so that it can make a prediction for any given value of x. At least that's the idea in a nutshell.\n",
    "\n",
    "Now I have explained everything as clearly as possible and the next step is to go to the code shell and write this formula in Python code.\n",
    "</font>"
   ]
  },
  {
   "cell_type": "code",
   "execution_count": 15,
   "id": "96dc950c",
   "metadata": {},
   "outputs": [],
   "source": [
    "#Import necessary modules\n",
    "#numpy for an array operations and matplotlib is for graphical representation\n",
    "import numpy as np\n",
    "import matplotlib.pyplot as plt\n",
    "%matplotlib inline"
   ]
  },
  {
   "cell_type": "markdown",
   "id": "6d1f467a",
   "metadata": {},
   "source": [
    "Once the required modules are loaded, the next step is to define a simple linear regression model, which is done inside the our_model function. Why linear regression? To answer this question, the first point has to be that it is simple but powerful. It can be used to predict everyday phenomena. For example, how much electricity consumption will grow in summer, given that the outdoor temperature rises and the number of family members increases. This model can be applied whenever some property or phenomenon depends on a variable."
   ]
  },
  {
   "cell_type": "code",
   "execution_count": 2,
   "id": "eca1fabc",
   "metadata": {},
   "outputs": [],
   "source": [
    "#Define a function that takes independent variables and \n",
    "#returns the output of our linear regression model\n",
    "def our_model(x,new_a,new_b):\n",
    "    y_new = new_a*x + new_b\n",
    "    return y_new"
   ]
  },
  {
   "cell_type": "code",
   "execution_count": 3,
   "id": "ec703342",
   "metadata": {},
   "outputs": [],
   "source": [
    "def cost_fuction(y_real,y_new):\n",
    "    '''Calculate the loss or cost function with the mean sqaure error '''\n",
    "    MSE = (1.0/len(y_real))*np.sum((y_real-y_new)**2)\n",
    "    return MSE"
   ]
  },
  {
   "cell_type": "code",
   "execution_count": 4,
   "id": "81aa048b",
   "metadata": {},
   "outputs": [],
   "source": [
    "#Function to calculate the change in cost function with weights \n",
    "#and bias according to the formulas above.\n",
    "def gradient_with_ab(y_real,x,a,b):\n",
    "    #The change of MSE with a\n",
    "    dMSE_da = (-2.0/len(y_real))*np.sum(x*(y_real-(a*x+b)))\n",
    "    #The change of MSE with b\n",
    "    dMSE_db = (-2.0/len(y_real))*np.sum((y_real-(a*x+b)))\n",
    "    return dMSE_da, dMSE_db"
   ]
  },
  {
   "cell_type": "code",
   "execution_count": 5,
   "id": "a91a10eb",
   "metadata": {},
   "outputs": [],
   "source": [
    "def update_weight_bias(lr,dMSE_da, dMSE_db):\n",
    "    '''Function to update weight (a) and bias (b) according to the formulas given above.'''\n",
    "    new_a = new_a - lr*dMSE_da\n",
    "    new_b = new_b - lr*dMSE_db\n",
    "    return new_a,new_b    "
   ]
  },
  {
   "cell_type": "markdown",
   "id": "34d50d59",
   "metadata": {},
   "source": [
    "<font size=\"2.5\">\n",
    "Care should be taken when defining the function as follows. What I mean by that is, in the following function I explicitly specify iterations, learning rate and threshold and any argument after that can't be non-default argument. Non-default argument means something is passed to the function when it is invoked, and default argument means the value is specified explicitly, like iterations, learning_rate, and threshold_stop in the function gradient_descent_method (see below). If this care is not given, there will be <b>SyntaxError</b> with a message non-default argument follows default argument.\n",
    "</font>    "
   ]
  },
  {
   "cell_type": "code",
   "execution_count": 28,
   "id": "14ca48ba",
   "metadata": {},
   "outputs": [],
   "source": [
    "#In machine learning, adjusting the number of iterations, learning rate,\n",
    "#and stopping threshold is called hyperparameter tuning.\n",
    "def gradient_descent_method(x,y_real,answer,iterations=1000, lr=0.0001,threshold_stop=1e-5):\n",
    "    #Initialize a, b, iterations, and the learning rate respectively\n",
    "    new_a         = 0.01\n",
    "    new_b         = 0.01\n",
    "    iterations    = iterations\n",
    "    learning_rate = lr        \n",
    "    \n",
    "    #To capture costs, weights, and old cost of every iterations\n",
    "    #List initialization\n",
    "    all_costs = []\n",
    "    weights   = []\n",
    "    bias      = []\n",
    "    old_costs = None        \n",
    "    \n",
    "    #Real minimization happen here\n",
    "    for i in range(iterations):\n",
    "        #y_new predicted by the linear regression model\n",
    "        y_new = our_model(x,new_a,new_b)\n",
    "        \n",
    "        #Calculate how off y_new is from y_real\n",
    "        new_costs = cost_fuction(y_real,y_new)\n",
    "        \n",
    "        #Let's see if the change in cost function is already within an acceptable limit or not\n",
    "        #If so, exit the loop\n",
    "        \n",
    "        if old_costs and abs(old_costs-new_costs) <=threshold_stop:\n",
    "            #Care must be taken here, when I set sys.exit() no line of code is executed afterwards\n",
    "            #I just want to get out of this loop, but want other lines of code to run\n",
    "            break\n",
    "            \n",
    "            \n",
    "        old_costs = new_costs\n",
    "        \n",
    "        all_costs.append(new_costs)\n",
    "        weights.append(new_a)\n",
    "        bias.append(new_b)\n",
    "        \n",
    "        #Receive gradient of cost functions with weight a and bias b \n",
    "        dMSE_da, dMSE_db = gradient_with_ab(y_real,x,new_a,new_b)\n",
    "        \n",
    "        #Let me update the weight and bias respectively using the fraction (lr)\n",
    "        #of the cost function change with respect to them, dMSE_da and dMSE_db\n",
    "        new_a = new_a - lr*dMSE_da\n",
    "        new_b = new_b - lr*dMSE_db\n",
    "        \n",
    "        #If I tell program to print cost, weight, and biases for each iteration\n",
    "        if (answer):\n",
    "            print(f'Interation number: {i+1}, Cost: {new_costs}, Weight: {new_a}, and Bias: {new_b}')            \n",
    "                            \n",
    "    \n",
    "    return new_a, new_b, weights, all_costs"
   ]
  },
  {
   "cell_type": "code",
   "execution_count": 7,
   "id": "59517c9b",
   "metadata": {},
   "outputs": [],
   "source": [
    "def user_input():\n",
    "    answer = input('Do you want to print weight and biases for every iterations?\\n')\n",
    "    possible_answers = ['yes','Yes','YES','YEs','yES','']\n",
    "    final_answer = False    \n",
    "    if answer in possible_answers:\n",
    "        final_answer = True\n",
    "    return final_answer    "
   ]
  },
  {
   "cell_type": "code",
   "execution_count": 9,
   "id": "f2821a0f",
   "metadata": {},
   "outputs": [],
   "source": [
    "def model_prediction(X,Y,final_weight,final_bias):\n",
    "    estimated_y = final_weight*X + final_bias\n",
    "    \n",
    "    plt.figure(figsize=(8,6))\n",
    "    plt.scatter(X,Y,marker='o',color='blue')    \n",
    "    plt.plot(X,estimated_y,color='red',markerfacecolor='blue',markersize=8,linestyle='dashed')\n",
    "    plt.title('Fitting the model to real data')\n",
    "    plt.xlabel('Independent Variable (X)')\n",
    "    plt.ylabel('Dependent Variable (Y)')\n",
    "    plt.show()\n",
    "    "
   ]
  },
  {
   "cell_type": "code",
   "execution_count": 10,
   "id": "98f9f927",
   "metadata": {},
   "outputs": [],
   "source": [
    "def visualize_output(weights,all_costs):\n",
    "    #Let's see how the cost changes with weight and biases.\n",
    "    plt.figure(figsize=(8,6))\n",
    "    plt.plot(weights,all_costs)\n",
    "    plt.scatter(weights,all_costs,marker='o',color='red',linewidth=2.0)\n",
    "    plt.title('Cost versus Weights')\n",
    "    plt.xlabel('Cost')\n",
    "    plt.ylabel('Weight')\n",
    "    plt.show()    "
   ]
  },
  {
   "cell_type": "code",
   "execution_count": 29,
   "id": "791207e0",
   "metadata": {},
   "outputs": [
    {
     "name": "stdout",
     "output_type": "stream",
     "text": [
      "Do you want to print weight and biases for every iterations?\n",
      "yes\n",
      "Interation number: 1, Cost: 4966.181207290087, Weight: 0.7153203880008462, and Bias: 0.023784918843199006\n",
      "Interation number: 2, Cost: 1261.5727772145765, Weight: 1.060074327810951, and Bias: 0.030519068481383534\n",
      "Interation number: 3, Cost: 376.48218478641553, Weight: 1.228586833244487, and Bias: 0.0338068695252772\n",
      "Interation number: 4, Cost: 165.01979334363315, Weight: 1.3109542096816003, and Bias: 0.03541012832629375\n",
      "Interation number: 5, Cost: 114.49802341557184, Weight: 1.351214670250197, and Bias: 0.03618999899354214\n",
      "Interation number: 6, Cost: 102.42755884506144, Weight: 1.3708936727070187, and Bias: 0.0365674054265418\n",
      "Interation number: 7, Cost: 99.54373012686051, Weight: 1.380512655110678, and Bias: 0.036748091205114845\n",
      "Interation number: 8, Cost: 98.85473660341528, Weight: 1.3852143958435106, and Bias: 0.03683262182503459\n",
      "Interation number: 9, Cost: 98.69012454121557, Weight: 1.3875126358354604, and Bias: 0.036870152739651586\n",
      "Interation number: 10, Cost: 98.65079565178513, Weight: 1.3886360676322889, and Bias: 0.03688471066484402\n",
      "Interation number: 11, Cost: 98.64139892918477, Weight: 1.389185264409229, and Bias: 0.03688803962973868\n",
      "Interation number: 12, Cost: 98.63915348310236, Weight: 1.3894537805953804, and Bias: 0.036885880003549115\n",
      "Interation number: 13, Cost: 98.6386165921077, Weight: 1.38958510279054, and Bias: 0.03688103762389302\n",
      "Interation number: 14, Cost: 98.63848790243219, Weight: 1.38964936587356, and Bias: 0.03687488395738584\n",
      "Interation number: 15, Cost: 98.63845673862701, Weight: 1.3896808511030294, and Bias: 0.03686808936380368\n",
      "Final weights: 1.3896808511030294\n",
      " Final Bias: 0.03686808936380368\n"
     ]
    },
    {
     "data": {
      "image/png": "[encoded data removed]",
      "text/plain": [
       "<Figure size 576x432 with 1 Axes>"
      ]
     },
     "metadata": {
      "needs_background": "light"
     },
     "output_type": "display_data"
    },
    {
     "data": {
      "image/png": "[encoded data removed]",
      "text/plain": [
       "<Figure size 576x432 with 1 Axes>"
      ]
     },
     "metadata": {
      "needs_background": "light"
     },
     "output_type": "display_data"
    }
   ],
   "source": [
    "def linear_regression():\n",
    "    X = np.array([32.50234527, 53.42680403, 61.53035803, 47.47563963, 59.81320787,\n",
    "           55.14218841, 52.21179669, 39.29956669, 48.10504169, 52.55001444,\n",
    "           45.41973014, 54.35163488, 44.1640495 , 58.16847072, 56.72720806,\n",
    "           48.95588857, 44.68719623, 60.29732685, 45.61864377, 38.81681754])\n",
    "    Y = np.array([31.70700585, 68.77759598, 62.5623823 , 71.54663223, 87.23092513,\n",
    "           78.21151827, 79.64197305, 59.17148932, 75.3312423 , 71.30087989,\n",
    "           55.16567715, 82.47884676, 62.00892325, 75.39287043, 81.43619216,\n",
    "           60.72360244, 82.89250373, 97.37989686, 48.84715332, 56.87721319])        \n",
    "    \n",
    "    answer = user_input()\n",
    "                \n",
    "    #Take final weight and bias from the gradient descent algorithm\n",
    "    final_weight,final_bias,all_weights, all_costs = gradient_descent_method(X,Y,answer,iterations=2000)    \n",
    "    print(f'Final weights: {final_weight}\\n Final Bias: {final_bias}')\n",
    "    \n",
    "    #Make prediction with final weight and bias\n",
    "    model_prediction(X,Y,final_weight,final_bias)\n",
    "    \n",
    "    #Let plot how cost is converging according to weights\n",
    "    visualize_output(all_weights,all_costs)\n",
    "    \n",
    "linear_regression()"
   ]
  }
 ],
 "metadata": {
  "kernelspec": {
   "display_name": "Python 3",
   "language": "python",
   "name": "python3"
  },
  "language_info": {
   "codemirror_mode": {
    "name": "ipython",
    "version": 3
   },
   "file_extension": ".py",
   "mimetype": "text/x-python",
   "name": "python",
   "nbconvert_exporter": "python",
   "pygments_lexer": "ipython3",
   "version": "3.8.8"
  }
 },
 "nbformat": 4,
 "nbformat_minor": 5
}
