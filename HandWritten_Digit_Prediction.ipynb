{
 "cells": [
  {
   "cell_type": "markdown",
   "id": "e56350dc",
   "metadata": {},
   "source": [
    "# <center>Convolutional Neural Network with MNIST dataset\n",
    "\n",
    "In this notebook I use 70000 images of handwritten digits from the mnist dataset with tensorflow's Keras API to build, train, validate and evaluate the model performance. The mnist dataset is a very important and easy to acess dataset for the deep learning beginners. Building a deep learning program using mnist dataset is considered the equivalent of writing \"Hello World\" in any other programming languages. This is probably a widespread and higly used data set in this area. By using the Keras API with Tensorflow, this dataset is just a step away from a click of our fingertip.\n",
    "\n",
    "# Objectives:\n",
    "## step 1 : Load the mnist dataset with tensorflow's Keras API<br><br>\n",
    "Before even start building a machine learning or deep learning model, it is important to have data. Building a very nice model without knowing the whereabouts of the data is the same as having a very elegant car but without clue of petrol. In this example I explore the very famous handwritten digit data and this is very easy to access with the tensorflow's Keras API as <b>from tensorflow.keras.datasets import mnist</b> and then <b>mnist.load_data()</b>. This is done in load_data() function.\n",
    "\n",
    "## step 2 : Reshape, convert datatype, and normalize data<br></br>\n",
    "Below there is a function call <b>preprocess_train_test()</b> dedicated to the preprocessing of training data. There are three main processes that happen. The first (60000,28,28) form of the training data is transformed to (60000,28,28,1) by adding an extra dimension for the color channel. In this example the images are in grayscale, which means that only one color channel is used, as a result 1 is added. In the case of a color image, this value would have been 3 for Red-Green-Blue (RGB) channels. The Reshape method is used for this action.<br></br>         \n",
    "The pixel values in data obtain from mnist are given as integer which are changed to floating using .astype() method.<br></br>         \n",
    "And lastly, the pixel values are rescaled from 0 to 255 to 0 to 1. In deep learning and machine learning computation, the normalization process falls under the data preprocessing step and is highly recommended and must do processed. This is especially important when the dataset has different features at different scales or feature distributions. For example, if weight and height are used to predict a person's health, then traits (weight and height) should be normalized. As a higher weight number would have a strong impact on the weight of the model and the model may give misleading results. For more information read the following article https://machinelearningmastery.com/how-to-improve-neural-network-stability-and-modeling-performance-with-data-scaling/ \n",
    "         \n",
    "## step 3 : Build a sequential model that has convolutional, maxpooling, and dense layers<br></br>\n",
    "\n",
    "After getting data and its preproeccessing, the next step is to build a model which is done inside a function convolutional_model(). There are two convolutional layers with 16 and 32 filters and kernal size of (3,3). The maxpooling layers with pool size of (2,2) follows immediately after each covolutional layers. The convolutional filters highlight the features from an image which is later preserved by maxpooling layer. It can be seen that our input size is (28,28) but after passing it to the first convolutional layer the pixel size became (26,26) (see model summary) because one left most and one right most pixel is not accounted. Since I use (2,2) pool_size therefore it reduces the pixel size by half in each dimension. Because when (2,2) pool_size is used, one pixel with large value is choosen from 4 pixels. Therefore the pixel size of (26/2,26/2)=(13,13) or ( sqrt((26*26)/(2*2)),sqrt((26*26)/(2*2)) ) is passed to the next convolutional layer. Then there is Flatten() layers that converts NxN array into a N^2 simple linear array and one hidden layer with 128 neurons. To activate the neurons of the dense layer I use 'relu' activation function and hence each neuron of dense layer gets activated if they receive a positive number otherwise neuron don't response. In the final layer there are 10 neuron equivalent to 10 different classes (labels) in dataset. They should always match if softmax activation function is used. Due to the softmax activation function, the final prediction is given in terms of probability, and as a result, all ten classes have a non-zero value as an array. We choose the maximum value of such an array. And the model prediction is the positional index of the maximum value. For example if the model predicts digit 8 then it gives an array like [[0.17456357 0.06375998 0.09480414 0.09106188 0.03082938 0.01556196 0.08969155 0.01454732 0.4181515  0.00702876]] and we can see that the probability is maximum at the 9th place and since count starts from 0, so it is digit 8.\n",
    "         "
   ]
  },
  {
   "cell_type": "code",
   "execution_count": 1,
   "id": "a4ef7813",
   "metadata": {},
   "outputs": [],
   "source": [
    "import tensorflow as tf\n",
    "from tensorflow.keras.datasets import mnist\n",
    "from tensorflow.keras.models import Sequential, load_model\n",
    "from tensorflow.keras.layers import Dense, Dropout, Flatten, Conv2D, MaxPooling2D\n",
    "from tensorflow.keras import backend as K    \n",
    "import matplotlib.pyplot as plt    \n",
    "import numpy as np\n",
    "import sys, time, os\n",
    "import datetime \n",
    "%load_ext tensorboard\n",
    "#from skimage import img_as_ubyte\n",
    "#from skimage.color import rgb2gray    "
   ]
  },
  {
   "cell_type": "code",
   "execution_count": 2,
   "id": "d2c5b72b",
   "metadata": {},
   "outputs": [],
   "source": [
    "class MyCallback(tf.keras.callbacks.Callback):\n",
    "    #This class checks if training accuracy is reached 99.5% or not in each epoch.\n",
    "    #If 99.5% accuracyis achieved, model will not train further.\n",
    "    def on_epoch_end(self,epoch,logs={}):\n",
    "        if logs.get('accuracy') >= 0.95:\n",
    "            print(f'\\n Reached 99.5% percentage of accuracy so cancelling training')\n",
    "            self.model.training = True\n",
    "    pass        "
   ]
  },
  {
   "cell_type": "code",
   "execution_count": 4,
   "id": "7e761e4f",
   "metadata": {},
   "outputs": [],
   "source": [
    "def print_function(input_):\n",
    "    #This takes an input and prints out\n",
    "    if len(input_) == 0:\n",
    "        print('  ')\n",
    "    else:\n",
    "        print(input_)\n",
    "        \n",
    "\n",
    "\n",
    "def load_data():        \n",
    "    #Load mnist dataset with tensorflow's Keras API\n",
    "    (x_train,y_train),(x_test,y_test) = mnist.load_data()\n",
    "    return x_train,y_train,x_test,y_test"
   ]
  },
  {
   "cell_type": "markdown",
   "id": "c525de68",
   "metadata": {},
   "source": [
    "<font size='3'>\n",
    "    \n",
    "In the following code shell, the initial form of the training data (60000,28,28) and test data (10000,28,28) are transformed into (60000,28,28,1) and (10000,28,28,1) respectively. Then the pixel values 0 to 255 are rescaled to 0 to 1.  \n",
    "</font>    "
   ]
  },
  {
   "cell_type": "code",
   "execution_count": 5,
   "id": "2bad3294",
   "metadata": {},
   "outputs": [],
   "source": [
    "def preprocess_train_test(x_train,x_test):\n",
    "    #Reshape, change data type, and rescale or Normalize pixel values\n",
    "    Train_Images_Size = x_train.size\n",
    "    Test_Images_Size  = x_test.size\n",
    "\n",
    "    Training_Images = x_train.shape[0]\n",
    "    Test_Images     = x_test.shape[0]    \n",
    "\n",
    "    Width_Image_Train  = int(np.sqrt(Train_Images_Size/ Training_Images))\n",
    "    Height_Image_Train = Width_Image_Train\n",
    "\n",
    "    Width_Image_Test  = int(np.sqrt(Test_Images_Size/ Test_Images))\n",
    "    Height_Image_Test = Width_Image_Test        \n",
    "\n",
    "    if  Width_Image_Train != Width_Image_Test and Height_Image_Train != Height_Image_Test:\n",
    "        print_function(f' Resolution of image in train set is not the same as in test set')\n",
    "        print_function(f' Image resolution in train set : {Width_Image_Train}x{Height_Image_Train} ')\n",
    "        print_function(f' Image resolution in train set : {Width_Image_Test}x{Height_Image_Test} ')\n",
    "\n",
    "    input_shape = (Width_Image_Train,Height_Image_Train,1)\n",
    "\n",
    "    #Reshape the data to pad extra dimension for color\n",
    "    x_train_ = x_train.reshape(Training_Images,Width_Image_Train,Height_Image_Train,1)\n",
    "    x_test_  = x_test.reshape(Test_Images,Width_Image_Test,Height_Image_Test,1)\n",
    "\n",
    "    #Change datatype from integer to float\n",
    "    x_train_ = x_train_.astype(dtype=np.float32)\n",
    "    x_test_  = x_test_.astype(dtype=np.float32)\n",
    "\n",
    "    #Normalize the pixel values to be between 0 and 1    \n",
    "    x_train_, x_test_ = x_train_/255.0, x_test_/255.0\n",
    "\n",
    "\n",
    "    print_function(' ')\n",
    "    print_function(f'There are {Training_Images} images to train and {Test_Images} images to test the model.')\n",
    "    print_function(f'Resolution of each image {Width_Image_Train}x{Height_Image_Train}. ')\n",
    "    print_function(f'The pixel values have been normalized and are between 0 and 1. ')\n",
    "    print_function(f'Shape of training data before reshape {x_train.shape}')\n",
    "    print_function(f'Shape of training data after reshape {x_train_.shape}')\n",
    "    print_function(' ')\n",
    "    return x_train_, x_test_, input_shape"
   ]
  },
  {
   "cell_type": "markdown",
   "id": "f427195c",
   "metadata": {},
   "source": [
    "In our dataset, the labels are given as numbers from 0 to 9. The following function 'preprocess_label_train_test()' converts each label (integer) into an array of 10 binary vector elements. For example, if the label is 5, it will be converted to [0. 0. 0. 0. 0. 1. 0. 0. 0. 0.], remember that the digit starts at 0, so 1 is in the 6th position. This process is called one hot encoding and 'tf.keras.utils.to_categorical' is used to achieve this."
   ]
  },
  {
   "cell_type": "code",
   "execution_count": 6,
   "id": "b0939b75",
   "metadata": {},
   "outputs": [],
   "source": [
    "def preprocess_label_train_test(y_train, y_test):    \n",
    "    diff_classes = 10\n",
    "    y_train = tf.keras.utils.to_categorical(y_train,diff_classes)\n",
    "    y_test  = tf.keras.utils.to_categorical(y_test,diff_classes)  \n",
    "    return y_train, y_test"
   ]
  },
  {
   "cell_type": "markdown",
   "id": "f8182ae1",
   "metadata": {},
   "source": [
    "In the following code, a convolutional neural network is built. Two layers of convolution, two layers of maxpooling, two layers of dropout and one hidden layer with 256 nodes are used in the model. Convolutionla layers highlight the important features of our images, and maxpooling layers extract such highlight features. Dropout layers randomly disconnect some neurons and are used to prevent the overfitting problem. And nodes of dense layers are activated when they get a positive number (the product of pixel value and weight is positive) because I'm using the relu activation function."
   ]
  },
  {
   "cell_type": "code",
   "execution_count": 7,
   "id": "3173de1d",
   "metadata": {},
   "outputs": [],
   "source": [
    "def convolutional_model():\n",
    "    #Create the model architecture \n",
    "    model = Sequential()\n",
    "    model.add( Conv2D(filters=16, \n",
    "                      kernel_size=(3,3),\n",
    "                      activation=tf.nn.relu, \n",
    "                      input_shape=(28,28,1) ) )\n",
    "    model.add( MaxPooling2D( pool_size=(2,2) ) )\n",
    "    model.add( Conv2D(filters=32,\n",
    "                      kernel_size=(3,3),\n",
    "                      activation=tf.nn.relu) )\n",
    "    model.add( MaxPooling2D( pool_size=(2,2)))\n",
    "    model.add( Dropout(0.3) )\n",
    "    model.add( Flatten() )\n",
    "    model.add( Dense(256,activation=tf.nn.relu) )\n",
    "    model.add( Dropout(0.3) )\n",
    "    #model.add( Dense(128,activation=tf.nn.relu))\n",
    "    #model.add( Dropout(0.3))\n",
    "    model.add( Dense(10,activation=tf.nn.softmax))\n",
    "    \n",
    "    model.summary()\n",
    "    \n",
    "    model.compile(loss=tf.keras.losses.categorical_crossentropy,\n",
    "                 optimizer='adam',\n",
    "                 metrics=['accuracy'])\n",
    "    \n",
    "    return model"
   ]
  },
  {
   "cell_type": "markdown",
   "id": "ad515f68",
   "metadata": {},
   "source": [
    "The train model will be saved with the name specified by the user, and if no name is specified, it will be saved with today's date and time. The user is notified under which name the model and the history of the model are saved."
   ]
  },
  {
   "cell_type": "code",
   "execution_count": 11,
   "id": "b6e86711",
   "metadata": {},
   "outputs": [],
   "source": [
    "def save_model_history(model,history,answer):\n",
    "    \n",
    "    #If the user has specified a name, the model and history are saved under that name\n",
    "    if len(answer) > 3:\n",
    "        model_name   = answer+'.h5'\n",
    "        history_name = answer+'.npy'\n",
    "        \n",
    "        #Save model for later use\n",
    "        model.save(model_name)\n",
    "        \n",
    "        #Save train history with loss and accuracy for later use\n",
    "        np.save(history_name,history)\n",
    "        \n",
    "        print_function('')\n",
    "        message = f'Model and history are saved in {model_name} and {history_name} files.'\n",
    "        print_function('')\n",
    "        print_function(message)\n",
    "    \n",
    "    #If no name is given and enter or yes are just pressed, then model and history are save with current time as name\n",
    "    elif len(answer) == 0 and len(answer) == 3:\n",
    "    #\n",
    "        year    = datetime.date.today().year\n",
    "        month   = datetime.datetime.today().strftime('%B')\n",
    "        day     = datetime.datetime.today().strftime('%A')\n",
    "        hour    = datetime.datetime.today().strftime('%H')\n",
    "        minate  = datetime.datetime.today().strftime('%M')\n",
    "        second  = datetime.datetime.today().strftime('%S')\n",
    "                \n",
    "        model_name   = str(year)+'_'+str(month)+'_'+str(day)+'_'+str(hour)+'_'+str(minate)+'_'+str(second)+'.h5'\n",
    "        history_name = str(year)+'_'+str(month)+'_'+str(day)+'_'+str(hour)+'_'+str(minate)+'_'+str(second)+'.npy'\n",
    "    else:\n",
    "        return\n",
    "    \n",
    "    #Save model for later use\n",
    "    model.save(model_name)\n",
    "    #Save train history with loss and accuracy for later use\n",
    "    np.save(history_name,history)    \n",
    "    \n",
    "    message = f'Model and history are saved in {model_name} and {history_name} files.'\n",
    "    print_function('')\n",
    "    print_function(message)\n",
    "    \n",
    "    return model_name"
   ]
  },
  {
   "cell_type": "markdown",
   "id": "9d6fef0e",
   "metadata": {},
   "source": [
    "Below the model is trained and the <b>save_model_history()</b> function is invoked to save it."
   ]
  },
  {
   "cell_type": "code",
   "execution_count": 22,
   "id": "ac97ed0d",
   "metadata": {},
   "outputs": [],
   "source": [
    "def train_model(given_input):\n",
    "    if not os.path.splitext(given_input)[-1] == '.npy':\n",
    "                        \n",
    "        #Invoke callback method\n",
    "        callbacks = MyCallback()    \n",
    "    \n",
    "    #When the user has selected the option to continue training on the already trained model.\n",
    "    if os.path.splitext(given_input)[-1] == '.h5':\n",
    "        #Preprocess data\n",
    "        x_train,y_train,x_test,y_test = load_data()\n",
    "        x_train,x_test, input_shape   = preprocess_train_test(x_train,x_test)\n",
    "        y_train, y_test               = preprocess_label_train_test(y_train, y_test)                       \n",
    "        model = load_model_later(given_input)\n",
    "        #Epoch number can be reduced for the second time\n",
    "        \n",
    "        log_dir = 'logs/fit/'+datetime.datetime.now().strftime(\"%Y%m%d-%H%M%S\")\n",
    "        tensorboard_callback = tf.keras.callbacks.TensorBoard(log_dir=log_dir,histogram_freq=1)\n",
    "        \n",
    "        #Train model again\n",
    "        time_init    = time.time()\n",
    "        history      = model.fit(x_train,y_train,batch_size=128,epochs=10,\\\n",
    "                                 validation_data=(x_test,y_test),callbacks=[tensorboard_callback])     \n",
    "        time_final   = time.time()    \n",
    "        time_taken   = time_final-time_init  \n",
    "     \n",
    "    #If the user has chosen the option to plot loss and accuracy of already trained models.\n",
    "    elif os.path.splitext(given_input)[-1] == '.npy':\n",
    "        history = load_hist(given_input)\n",
    "        plot_loss_And_accuracy(history)\n",
    "        return\n",
    "    \n",
    "    #If the user has chosen the option to train the model from the scratch \n",
    "    else:\n",
    "        print_function('Are sure about trainig the model from the scratch?')\n",
    "        answer = input('')\n",
    "        #preprocess data\n",
    "        x_train,y_train,x_test,y_test = load_data()\n",
    "        x_train,x_test, input_shape   = preprocess_train_test(x_train,x_test)\n",
    "        y_train, y_test               = preprocess_label_train_test(y_train, y_test)\n",
    "        \n",
    "        log_dir = 'logs/fit/'+datetime.datetime.now().strftime(\"%Y%m%d-%H%M%S\")\n",
    "        tensorboard_callback = tf.keras.callbacks.TensorBoard(log_dir=log_dir,histogram_freq=1)\n",
    "        \n",
    "        if len(answer) == 0:\n",
    "            model = convolutional_model()\n",
    "            #Train model from scratch \n",
    "            time_init    = time.time()\n",
    "            history      = model.fit(x_train,y_train,batch_size=128,epochs=10,\\\n",
    "                                     validation_data=(x_test,y_test),callbacks=[tensorboard_callback])     \n",
    "            time_final   = time.time()    \n",
    "            time_taken   = time_final-time_init                \n",
    "    \n",
    "    message = f'{round(time_taken,2)} second is required to train the model.'\n",
    "    print_function('')\n",
    "    print_function(message)\n",
    "    print_function('')\n",
    "    \n",
    "    #Training accuracy versus validatio accuracy\n",
    "    plot_loss_And_accuracy(history)\n",
    "    #Training loss versus validation loss\n",
    "    #plot_loss(history)\n",
    "    \n",
    "    #Save both the history and model for later use\n",
    "    answer = input('Do you want to save the model?(yes => give a name /no => enter)\\n')    \n",
    "    model_name = save_model_history(model,history,answer)\n",
    "    return model_name    "
   ]
  },
  {
   "cell_type": "code",
   "execution_count": 13,
   "id": "503dcdc5",
   "metadata": {},
   "outputs": [],
   "source": [
    "def load_hist(given_input):\n",
    "    history = np.load(given_input,allow_pickle='TRUE').item()\n",
    "    return history\n",
    "\n",
    "def load_model_later(given_input):\n",
    "    #This loads a model from disk. When loading the model, compile=True (default) is \n",
    "    #required because the model needs to be compiled before training or testing\n",
    "    model = load_model(given_input,compile=True)\n",
    "    return model"
   ]
  },
  {
   "cell_type": "markdown",
   "id": "5f617361",
   "metadata": {},
   "source": [
    "The following function is used to plot training loss and validation loss, and training accuracy and validation accuracy. I plot them side by side using matplotlib's subplot method. To avoid overlapping two graphs, 'plt.tight_layout()' is used."
   ]
  },
  {
   "cell_type": "code",
   "execution_count": 14,
   "id": "2bf4ada4",
   "metadata": {},
   "outputs": [],
   "source": [
    "def plot_loss_And_accuracy(history):    \n",
    "\n",
    "    fig = plt.figure(figsize=(10,6))\n",
    "    \n",
    "    plt.subplot(1,2,1)\n",
    "    plt.plot(history.history['accuracy'],marker='o',label='Train accuracy')\n",
    "    plt.plot(history.history['val_accuracy'],marker='o',label='val_accuracy')\n",
    "    plt.xlabel('epochs')\n",
    "    plt.ylabel('Accuracy')\n",
    "    plt.legend(loc='lower right')  \n",
    "    \n",
    "    plt.subplot(1,2,2)\n",
    "    plt.plot(history.history['loss'],marker='o',label='Train loss')\n",
    "    plt.plot(history.history['val_loss'],marker='o',label='val_loss')\n",
    "    plt.xlabel('epochs')\n",
    "    plt.ylabel('Loss')\n",
    "    plt.legend(loc='lower right');    \n",
    "     \n",
    "    plt.tight_layout() \n",
    "    plt.show()                "
   ]
  },
  {
   "cell_type": "markdown",
   "id": "dd4097ce",
   "metadata": {},
   "source": [
    "The code below uses the cv2 model to capture images or video from a webcam. First it checks whether the webcam is open or not. The canvas size of videos is reconfigured via video.set. Since the images displayed in the webcam are color images, I first convert them to grayscale and rescale them to the 28x28 pixel values. And finally, what value the model predicts, write on the screen where the video is displayed. Most of the following lines of code are used to convert captured images into a suitable format to feed the model."
   ]
  },
  {
   "cell_type": "code",
   "execution_count": 15,
   "id": "b8d6a485",
   "metadata": {},
   "outputs": [],
   "source": [
    "\n",
    "def live_demo(given_answer):\n",
    "    import cv2\n",
    "    model = load_model_later(given_answer)\n",
    "    video = cv2.VideoCapture(0)\n",
    "    \n",
    "    \n",
    "    #video = cv2.VideoCapture('output.mp4')\n",
    "    if (video.isOpened() == False):\n",
    "        print_function('Error while opening the video file')\n",
    "    \n",
    "    t0 = time.time() \n",
    "    while (video.isOpened()):\n",
    "        width  = 640\n",
    "        height = 480\n",
    "        video.set(3,width)\n",
    "        video.set(4,height)\n",
    "        fps         = video.get(cv2.CAP_PROP_FPS)\n",
    "        frame_count = video.get(cv2.CAP_PROP_FRAME_COUNT)\n",
    "        \n",
    "        log, img = video.read()\n",
    "        if log == True:\n",
    "            img_gray            = cv2.cvtColor(img,cv2.COLOR_RGB2GRAY)\n",
    "            img_gray_unit8      = cv2.convertScaleAbs(img_gray)\n",
    "            threshold,im_binary = cv2.threshold(img_gray_unit8,128,255,cv2.THRESH_BINARY)\n",
    "            img_resized         = cv2.resize(im_binary,(28,28))\n",
    "            im_invert_gray      = 255- img_resized\n",
    "            #cv2.imshow('Inverted Image', im_invert_gray)\n",
    "            im_final            = im_invert_gray.reshape(1,28,28,1)\n",
    "            predicted_result    = model.predict(im_final)            \n",
    "            predicted_result    = np.argmax(predicted_result,axis=1)[0]\n",
    "            \n",
    "            org = (50,50)\n",
    "            fontScale=1\n",
    "            color=(255,0,0)\n",
    "            thickness=2\n",
    "            cv2.putText(img,'Predicted:'+str(predicted_result),org,cv2.FONT_HERSHEY_SIMPLEX,fontScale,color,thickness,cv2.LINE_AA)\n",
    "            cv2.imshow('Original Image',img)\n",
    "            if cv2.waitKey(1) & 0xFF == ord('q'):\n",
    "                break\n",
    "            \n",
    "            t1 = time.time()\n",
    "            time_now = t1-t0\n",
    "            #if time_now > 3: sys.exit()\n",
    "        else:\n",
    "            message = ' Video can\"t be read. '\n",
    "            print_function(message)\n",
    "            break\n",
    "        \n",
    "    video.release()\n",
    "    cv2.destroyAllWindows()    "
   ]
  },
  {
   "cell_type": "markdown",
   "id": "e2a9c31c",
   "metadata": {},
   "source": [
    "The following code controls the user preferences. A number of questions are asked, on the basis of which the various measures are taken. In short, the first code searches whether or not there are already trained models. If present, the user will be asked if they agree. If not, the model is trained from scratch. It is also possible to train and continue training models already used. As soon as the code goes through the question asked, it will delete what to do. There is an option to make a prediction in a live video and for this option option 2 should be selected. Users are asked if they want to use an already trained model or train a new model first. If no answer is given, the program understands that the user wants to train the model first and use this model to make a prediction in a live video. To avoid multiple questions, just run train_model(''), this will do the job"
   ]
  },
  {
   "cell_type": "code",
   "execution_count": 23,
   "id": "81ea5471",
   "metadata": {},
   "outputs": [
    {
     "name": "stdout",
     "output_type": "stream",
     "text": [
      "There is/are 7 already trained model in the current directory. They are \n",
      "['2022_July_Sunday_11_12_43.h5', '2022_July_Monday_22_50_31.h5', '2022_July_Sunday_03_09_10.h5', '2022_July_Sunday_03_07_07.h5', '2022_July_Monday_22_48_25.h5', '2022_July_Monday_23_20_51.h5', 'Handwritten_Digit_Reco_Model.h5']\n",
      " \n",
      "(1) Do you want to use already trained model for further training?\n",
      "(2) Do you want to make a prediction in a live video?  \n",
      "(3) Do you want to train from the scratch?     \n",
      "(4) Just want to plot loss and accuracy of old model. \n",
      "(5) Make a prediction for a selected image. \n",
      "  \n",
      "Please choose from the above options.\n",
      "1\n",
      "  \n",
      "Answer is noted and 2022_July_Sunday_11_12_43.h5 is going to be used.\n",
      "  \n",
      "Do you want another model to use?(yes/no)\n",
      "no\n",
      " \n",
      "There are 60000 images to train and 10000 images to test the model.\n",
      "Resolution of each image 28x28. \n",
      "The pixel values have been normalized and are between 0 and 1. \n",
      "Shape of training data before reshape (60000, 28, 28)\n",
      "Shape of training data after reshape (60000, 28, 28, 1)\n",
      " \n",
      "Epoch 1/10\n",
      "469/469 [==============================] - 9s 18ms/step - loss: 0.0103 - accuracy: 0.9963 - val_loss: 0.0262 - val_accuracy: 0.9924\n",
      "Epoch 2/10\n",
      "469/469 [==============================] - 9s 18ms/step - loss: 0.0099 - accuracy: 0.9967 - val_loss: 0.0252 - val_accuracy: 0.9930\n",
      "Epoch 3/10\n",
      "469/469 [==============================] - 8s 17ms/step - loss: 0.0100 - accuracy: 0.9967 - val_loss: 0.0264 - val_accuracy: 0.9933\n",
      "Epoch 4/10\n",
      "469/469 [==============================] - 9s 19ms/step - loss: 0.0083 - accuracy: 0.9971 - val_loss: 0.0251 - val_accuracy: 0.9933\n",
      "Epoch 5/10\n",
      "469/469 [==============================] - 10s 20ms/step - loss: 0.0079 - accuracy: 0.9972 - val_loss: 0.0259 - val_accuracy: 0.9929\n",
      "Epoch 6/10\n",
      "469/469 [==============================] - 9s 20ms/step - loss: 0.0077 - accuracy: 0.9974 - val_loss: 0.0286 - val_accuracy: 0.9924\n",
      "Epoch 7/10\n",
      "469/469 [==============================] - 10s 20ms/step - loss: 0.0075 - accuracy: 0.9975 - val_loss: 0.0268 - val_accuracy: 0.9939\n",
      "Epoch 8/10\n",
      "469/469 [==============================] - 10s 21ms/step - loss: 0.0071 - accuracy: 0.9973 - val_loss: 0.0273 - val_accuracy: 0.9933\n",
      "Epoch 9/10\n",
      "469/469 [==============================] - 9s 20ms/step - loss: 0.0077 - accuracy: 0.9972 - val_loss: 0.0359 - val_accuracy: 0.9906\n",
      "Epoch 10/10\n",
      "469/469 [==============================] - 9s 20ms/step - loss: 0.0070 - accuracy: 0.9976 - val_loss: 0.0294 - val_accuracy: 0.9928\n",
      "  \n",
      "91.21 second is required to train the model.\n",
      "  \n"
     ]
    },
    {
     "data": {
      "image/png": "[encoded data removed]",
      "text/plain": [
       "<Figure size 720x432 with 2 Axes>"
      ]
     },
     "metadata": {
      "needs_background": "light"
     },
     "output_type": "display_data"
    },
    {
     "name": "stdout",
     "output_type": "stream",
     "text": [
      "Do you want to save the model?(yes => give a name /no => enter)\n",
      "no\n"
     ]
    }
   ],
   "source": [
    "if __name__=='__main__':\n",
    "    files       = os.listdir()\n",
    "    saved_model = []\n",
    "    counter     = 0\n",
    "    for item in files:                \n",
    "        if os.path.splitext(item)[-1] == '.h5':\n",
    "            counter += 1\n",
    "            saved_model.append(item)\n",
    "            \n",
    "    if counter != 0:                \n",
    "        print_function(f'There is/are {counter} already trained model in the current directory. They are ')\n",
    "        print_function(saved_model)\n",
    "        print_function(' ')\n",
    "        print_function(f'(1) Do you want to use already trained model for further training?')\n",
    "        print_function(f'(2) Do you want to make a prediction in a live video?  ')\n",
    "        print_function(f'(3) Do you want to train from the scratch?     ')\n",
    "        print_function(f'(4) Just want to plot loss and accuracy of old model. ')\n",
    "        print_function(f'(5) Make a prediction for a selected image. ')\n",
    "        print_function('')\n",
    "        \n",
    "        answer = input('Please choose from the above options.\\n')\n",
    "        print_function('')\n",
    "        \n",
    "        #If option 1 or any file name with .h5 extension is given \n",
    "        #then model is going to trained with already trained model\n",
    "        if os.path.splitext(answer)[-1] == '.h5' or answer == '1':            \n",
    "            #If name of the file is given\n",
    "            if answer !='1':\n",
    "                message = f'Answer is noted and {answer} is going to be used.'\n",
    "                print_function(message)\n",
    "                train_model(answer)\n",
    "                \n",
    "            #If option 1 is chosen, automatically the first file from save_model list will be choosen\n",
    "            #Users are asked to confirm or ammend the option.\n",
    "            else:\n",
    "                message = f'Answer is noted and {saved_model[0]} is going to be used.'\n",
    "                print_function(message)\n",
    "                print_function('')\n",
    "                answer = input('Do you want another model to use?(yes/no)\\n')\n",
    "                \n",
    "                #Compile with automatically choosed option\n",
    "                if answer == 'no' or answer == 'No' or len(answer) == 0:\n",
    "                    train_model(saved_model[0])\n",
    "                    \n",
    "                #If a change wanting to be made type yes or enter    \n",
    "                elif answer == 'yes' or len(answer) == 0:\n",
    "                    new_name = input('Give the name of the file?\\n')\n",
    "                    train_model(new_name)\n",
    "                else:\n",
    "                    sys.exit()\n",
    "                    \n",
    "       #If we want prediction on live video then choose option 2            \n",
    "        elif answer == '2':\n",
    "            print_function('')\n",
    "            answer2 = input('Which model to use from the above list?\\n')\n",
    "            list_of_model = os.listdir()\n",
    "            counter = 0\n",
    "            for item in list_of_model:\n",
    "                if os.path.splitext(item)[-1] == '.h5':\n",
    "                    counter += 1\n",
    "                    \n",
    "            if len(answer2) != 0 and counter != 0:\n",
    "                live_demo(answer2)         \n",
    "            else:\n",
    "                model_name = train_model('')\n",
    "                live_demo(model_name)\n",
    "                                            \n",
    "        elif answer == '3':                                    \n",
    "            train_model('train_from_scratch')  \n",
    "        elif answer == '4':\n",
    "            all_files     = os.listdir()\n",
    "            history_files = [] \n",
    "            for item in all_files:\n",
    "                if os.path.splitext(item)[-1] == '.npy':\n",
    "                    history_files.append(item)\n",
    "            print('Please choose from the following list.')\n",
    "            print(history_files)\n",
    "            print_function('')\n",
    "            choice = input()\n",
    "            train_model(choice)\n",
    "            \n",
    "        elif answer == '5':\n",
    "            from model_evaluation import predictOn_new_image\n",
    "            predictOn_new_image()\n",
    "        elif len(answer) == 0:\n",
    "            print_function('Exit')\n",
    "            pass\n",
    "            \n",
    "    \n",
    "        #Ask how many convolutional layers user want to use and how many dense layer \n",
    "        # and run them over the loop"
   ]
  },
  {
   "cell_type": "code",
   "execution_count": 18,
   "id": "7a725e75",
   "metadata": {},
   "outputs": [
    {
     "name": "stdout",
     "output_type": "stream",
     "text": [
      "Given a name or the path for example image\n",
      "\n",
      "1/1 [==============================] - 0s 49ms/step\n",
      "The model sees the number 7 in the uploaded image.\n",
      "How right I am :-)\n"
     ]
    },
    {
     "data": {
      "image/png": "[encoded data removed]",
      "text/plain": [
       "<Figure size 432x288 with 1 Axes>"
      ]
     },
     "metadata": {
      "needs_background": "light"
     },
     "output_type": "display_data"
    }
   ],
   "source": [
    "#Just press the enter, it will automatically chose the file\n",
    "from model_evaluation import predictOn_new_image\n",
    "predictOn_new_image()"
   ]
  },
  {
   "cell_type": "code",
   "execution_count": 29,
   "id": "9323f529",
   "metadata": {},
   "outputs": [
    {
     "name": "stdout",
     "output_type": "stream",
     "text": [
      "Are sure about trainig the model from the scratch?\n",
      "\n",
      " \n",
      "There are 60000 images to train and 10000 images to test the model.\n",
      "Resolution of each image 28x28. \n",
      "The pixel values have been normalized and are between 0 and 1. \n",
      "Shape of training data before reshape (60000, 28, 28)\n",
      "Shape of training data after reshape (60000, 28, 28, 1)\n",
      " \n",
      "Model: \"sequential_4\"\n",
      "_________________________________________________________________\n",
      " Layer (type)                Output Shape              Param #   \n",
      "=================================================================\n",
      " conv2d_8 (Conv2D)           (None, 26, 26, 16)        160       \n",
      "                                                                 \n",
      " max_pooling2d_8 (MaxPooling  (None, 13, 13, 16)       0         \n",
      " 2D)                                                             \n",
      "                                                                 \n",
      " conv2d_9 (Conv2D)           (None, 11, 11, 32)        4640      \n",
      "                                                                 \n",
      " max_pooling2d_9 (MaxPooling  (None, 5, 5, 32)         0         \n",
      " 2D)                                                             \n",
      "                                                                 \n",
      " dropout_8 (Dropout)         (None, 5, 5, 32)          0         \n",
      "                                                                 \n",
      " flatten_4 (Flatten)         (None, 800)               0         \n",
      "                                                                 \n",
      " dense_8 (Dense)             (None, 256)               205056    \n",
      "                                                                 \n",
      " dropout_9 (Dropout)         (None, 256)               0         \n",
      "                                                                 \n",
      " dense_9 (Dense)             (None, 10)                2570      \n",
      "                                                                 \n",
      "=================================================================\n",
      "Total params: 212,426\n",
      "Trainable params: 212,426\n",
      "Non-trainable params: 0\n",
      "_________________________________________________________________\n",
      "Epoch 1/10\n",
      "469/469 [==============================] - 10s 20ms/step - loss: 0.2942 - accuracy: 0.9084 - val_loss: 0.0671 - val_accuracy: 0.9787\n",
      "Epoch 2/10\n",
      "468/469 [============================>.] - ETA: 0s - loss: 0.0896 - accuracy: 0.9728\n",
      " Reached 99.5% percentage of accuracy so cancelling training\n",
      "469/469 [==============================] - 9s 19ms/step - loss: 0.0896 - accuracy: 0.9727 - val_loss: 0.0401 - val_accuracy: 0.9873\n",
      "Epoch 3/10\n",
      "468/469 [============================>.] - ETA: 0s - loss: 0.0657 - accuracy: 0.9792\n",
      " Reached 99.5% percentage of accuracy so cancelling training\n",
      "469/469 [==============================] - 9s 19ms/step - loss: 0.0658 - accuracy: 0.9792 - val_loss: 0.0353 - val_accuracy: 0.9887\n",
      "Epoch 4/10\n",
      "468/469 [============================>.] - ETA: 0s - loss: 0.0529 - accuracy: 0.9832\n",
      " Reached 99.5% percentage of accuracy so cancelling training\n",
      "469/469 [==============================] - 10s 21ms/step - loss: 0.0529 - accuracy: 0.9832 - val_loss: 0.0292 - val_accuracy: 0.9902\n",
      "Epoch 5/10\n",
      "469/469 [==============================] - ETA: 0s - loss: 0.0452 - accuracy: 0.9860\n",
      " Reached 99.5% percentage of accuracy so cancelling training\n",
      "469/469 [==============================] - 10s 21ms/step - loss: 0.0452 - accuracy: 0.9860 - val_loss: 0.0259 - val_accuracy: 0.9913\n",
      "Epoch 6/10\n",
      "467/469 [============================>.] - ETA: 0s - loss: 0.0401 - accuracy: 0.9875\n",
      " Reached 99.5% percentage of accuracy so cancelling training\n",
      "469/469 [==============================] - 10s 21ms/step - loss: 0.0402 - accuracy: 0.9875 - val_loss: 0.0260 - val_accuracy: 0.9905\n",
      "Epoch 7/10\n",
      "469/469 [==============================] - ETA: 0s - loss: 0.0357 - accuracy: 0.9885\n",
      " Reached 99.5% percentage of accuracy so cancelling training\n",
      "469/469 [==============================] - 10s 21ms/step - loss: 0.0357 - accuracy: 0.9885 - val_loss: 0.0233 - val_accuracy: 0.9921\n",
      "Epoch 8/10\n",
      "468/469 [============================>.] - ETA: 0s - loss: 0.0328 - accuracy: 0.9889\n",
      " Reached 99.5% percentage of accuracy so cancelling training\n",
      "469/469 [==============================] - 10s 21ms/step - loss: 0.0327 - accuracy: 0.9889 - val_loss: 0.0273 - val_accuracy: 0.9908\n",
      "Epoch 9/10\n",
      "469/469 [==============================] - ETA: 0s - loss: 0.0293 - accuracy: 0.9905\n",
      " Reached 99.5% percentage of accuracy so cancelling training\n",
      "469/469 [==============================] - 10s 22ms/step - loss: 0.0293 - accuracy: 0.9905 - val_loss: 0.0212 - val_accuracy: 0.9931\n",
      "Epoch 10/10\n",
      "468/469 [============================>.] - ETA: 0s - loss: 0.0276 - accuracy: 0.9913\n",
      " Reached 99.5% percentage of accuracy so cancelling training\n",
      "469/469 [==============================] - 10s 21ms/step - loss: 0.0276 - accuracy: 0.9913 - val_loss: 0.0210 - val_accuracy: 0.9927\n",
      "  \n",
      "97.18 second is required to train the model.\n",
      "  \n"
     ]
    },
    {
     "data": {
      "image/png": "[encoded data removed]",
      "text/plain": [
       "<Figure size 720x432 with 2 Axes>"
      ]
     },
     "metadata": {
      "needs_background": "light"
     },
     "output_type": "display_data"
    },
    {
     "name": "stdout",
     "output_type": "stream",
     "text": [
      "Do you want to save the model?(yes => give a name /no => enter)\n",
      "\n"
     ]
    },
    {
     "name": "stderr",
     "output_type": "stream",
     "text": [
      "WARNING:absl:Found untraced functions such as _jit_compiled_convolution_op, _jit_compiled_convolution_op while saving (showing 2 of 2). These functions will not be directly callable after loading.\n"
     ]
    },
    {
     "name": "stdout",
     "output_type": "stream",
     "text": [
      "INFO:tensorflow:Assets written to: ram://1e99c0d0-90f7-4a77-a08d-a3352a6c9cff/assets\n"
     ]
    },
    {
     "name": "stderr",
     "output_type": "stream",
     "text": [
      "INFO:tensorflow:Assets written to: ram://1e99c0d0-90f7-4a77-a08d-a3352a6c9cff/assets\n"
     ]
    },
    {
     "name": "stdout",
     "output_type": "stream",
     "text": [
      "  \n",
      "Model and history are saved in 2022_July_Monday_23_20_51.h5 and 2022_July_Monday_23_20_51.npy files.\n"
     ]
    },
    {
     "data": {
      "text/plain": [
       "'2022_July_Monday_23_20_51.h5'"
      ]
     },
     "execution_count": 29,
     "metadata": {},
     "output_type": "execute_result"
    }
   ],
   "source": [
    "#This trains the model from scratch. The code will ask you to confirm the action, just press Enter\n",
    "train_model('')"
   ]
  },
  {
   "cell_type": "markdown",
   "id": "1852bf17",
   "metadata": {},
   "source": [
    "<font size='3'><br>    \n",
    "    \n",
    "    Somehow the following command is not working from the code of this notebook. However the same command works perfectly from terminal. In the terminal just type 'tensorboard --logdir log/fit'. The 'log/fit' dependens on how logs file are saved. Since I saved like \"log_dir = 'logs/fit/'+datetime.datetime.now().strftime(\"%Y%m%d-%H%M%S\")\", therefore hre is \"log/fit\" after --logdir.\n",
    "</font>    "
   ]
  },
  {
   "cell_type": "code",
   "execution_count": 21,
   "id": "c1bc797f",
   "metadata": {},
   "outputs": [
    {
     "data": {
      "text/html": [
       "\n",
       "      <iframe id=\"tensorboard-frame-18cdc643a5cac5fb\" width=\"100%\" height=\"800\" frameborder=\"0\">\n",
       "      </iframe>\n",
       "      <script>\n",
       "        (function() {\n",
       "          const frame = document.getElementById(\"tensorboard-frame-18cdc643a5cac5fb\");\n",
       "          const url = new URL(\"/\", window.location);\n",
       "          const port = 6008;\n",
       "          if (port) {\n",
       "            url.port = port;\n",
       "          }\n",
       "          frame.src = url;\n",
       "        })();\n",
       "      </script>\n",
       "    "
      ],
      "text/plain": [
       "<IPython.core.display.HTML object>"
      ]
     },
     "metadata": {},
     "output_type": "display_data"
    }
   ],
   "source": [
    "%tensorboard --logdir log/fit"
   ]
  }
 ],
 "metadata": {
  "kernelspec": {
   "display_name": "Python 3",
   "language": "python",
   "name": "python3"
  },
  "language_info": {
   "codemirror_mode": {
    "name": "ipython",
    "version": 3
   },
   "file_extension": ".py",
   "mimetype": "text/x-python",
   "name": "python",
   "nbconvert_exporter": "python",
   "pygments_lexer": "ipython3",
   "version": "3.8.8"
  }
 },
 "nbformat": 4,
 "nbformat_minor": 5
}
